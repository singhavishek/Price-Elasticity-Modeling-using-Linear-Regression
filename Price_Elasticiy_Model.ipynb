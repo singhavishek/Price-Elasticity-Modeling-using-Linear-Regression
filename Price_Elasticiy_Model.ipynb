{
 "cells": [
  {
   "cell_type": "markdown",
   "id": "93c6f0b0-7eb9-480f-92a7-55c2f77d33f4",
   "metadata": {},
   "source": [
    "# 1. OverView on Price Elasticity\n",
    "## What is price elasticity?\n",
    "\n",
    "The foundamental assumption in economics is that people will buy the product or service if it’s cheaper and less will buy it if it’s more expensive. But the phenomenon is more quantifiable than that, and price elasticity shows exactly how responsive customer demand is for a product based on its price. \n",
    "\n",
    "## How is it calculated?\n",
    "Assuming that $Q$ is the quantity of demand for a certain commodity, and $P$ is the price of the commodity. Then the formula for price elasticity of demand:\n",
    "\n",
    "$E_{d} = \\frac{\\Delta Q/Q}{\\Delta P/P}$\n",
    "\n",
    "Let’s look at an example. Say that a company raised the price of one of its item from \\$100 to \\$120. The price increase is $\\frac{\\$120-\\$100}{\\$100}$ or 20%. Now let’s say that the increase caused a decrease in the quantity sold from 1,000 items to 900 items. The percentage decrease in demand is -10%. Plugging those numbers into the formula, you’d get a price elasticity of demand of:\n",
    "\n",
    "$E_{d} = \\frac{\\Delta Q/Q}{\\Delta P/P} = \\frac{-100/1000}{20/100} = - 0.5$\n",
    "\n",
    "## How to interpret price elasticity?\n",
    "\n",
    "There are four zones of elasticity. Products and services can be:\n",
    "\n",
    "* $E_{d}=0$：Perfectly Inelastic.\n",
    "\n",
    "Where the quantity demanded does not change when the price changes. Products in this category are things consumers absolutely need and there are no other options from which to obtain them.\n",
    "\n",
    "* $-1<|E_{d}|<1$: Inelastic.\n",
    "\n",
    "Where 1% of changes in price cause small changes in demand (less than 1%). Gasoline is a good example here because most people need it, so even when prices go up, demand doesn’t change greatly. Products with stronger brands tend to be more inelastic.\n",
    "\n",
    "* $|E_{d}|>1$: Positively Elastic.\n",
    "\n",
    "Where 1% changes in price cause large increase in quantity demanded. This scenario is highly unlikely.\n",
    "\n",
    "* $E_{d}< -1$: Negatively Elastic.\n",
    "\n",
    "Where any very small change in price results in a very large decline in the quantity demanded.\n",
    "\n"
   ]
  },
  {
   "cell_type": "markdown",
   "id": "fb952888-abae-47c2-bc5b-72450594071c",
   "metadata": {},
   "source": [
    "# 2. Importing Libraries"
   ]
  },
  {
   "cell_type": "code",
   "execution_count": 1,
   "id": "92752fb2-0466-4654-8c2d-f1c97710c020",
   "metadata": {},
   "outputs": [],
   "source": [
    "import pandas as pd\n",
    "import numpy as np\n",
    "import matplotlib.pyplot as plt\n",
    "import seaborn as sns\n",
    "import statsmodels.api as sm"
   ]
  },
  {
   "cell_type": "markdown",
   "id": "1e8d58f5-4156-42fb-b56f-8c70f7239c26",
   "metadata": {},
   "source": [
    "# 3. Data Loading and Data Preparation\n",
    "We will load data from csv file to data frame and change the data into a format which will be easy to work with.\n",
    "\n",
    "## Data Loading"
   ]
  },
  {
   "cell_type": "code",
   "execution_count": 2,
   "id": "78e0dab1-b225-4674-81bd-85c8958907f4",
   "metadata": {},
   "outputs": [
    {
     "data": {
      "text/html": [
       "<div>\n",
       "<style scoped>\n",
       "    .dataframe tbody tr th:only-of-type {\n",
       "        vertical-align: middle;\n",
       "    }\n",
       "\n",
       "    .dataframe tbody tr th {\n",
       "        vertical-align: top;\n",
       "    }\n",
       "\n",
       "    .dataframe thead th {\n",
       "        text-align: right;\n",
       "    }\n",
       "</style>\n",
       "<table border=\"1\" class=\"dataframe\">\n",
       "  <thead>\n",
       "    <tr style=\"text-align: right;\">\n",
       "      <th></th>\n",
       "      <th>date_week</th>\n",
       "      <th>sku_cde</th>\n",
       "      <th>cost_price</th>\n",
       "      <th>regular_price</th>\n",
       "      <th>regular_volume</th>\n",
       "      <th>promo_price</th>\n",
       "      <th>promo_volume</th>\n",
       "    </tr>\n",
       "  </thead>\n",
       "  <tbody>\n",
       "    <tr>\n",
       "      <th>0</th>\n",
       "      <td>2020-02-09</td>\n",
       "      <td>62875832</td>\n",
       "      <td>68.0</td>\n",
       "      <td>140.0</td>\n",
       "      <td>10.0</td>\n",
       "      <td>NaN</td>\n",
       "      <td>0.0</td>\n",
       "    </tr>\n",
       "    <tr>\n",
       "      <th>1</th>\n",
       "      <td>2020-02-09</td>\n",
       "      <td>84630314</td>\n",
       "      <td>180.0</td>\n",
       "      <td>300.0</td>\n",
       "      <td>10.0</td>\n",
       "      <td>NaN</td>\n",
       "      <td>0.0</td>\n",
       "    </tr>\n",
       "    <tr>\n",
       "      <th>2</th>\n",
       "      <td>2020-02-09</td>\n",
       "      <td>95208654</td>\n",
       "      <td>26.0</td>\n",
       "      <td>56.0</td>\n",
       "      <td>40.0</td>\n",
       "      <td>NaN</td>\n",
       "      <td>0.0</td>\n",
       "    </tr>\n",
       "    <tr>\n",
       "      <th>3</th>\n",
       "      <td>2020-02-09</td>\n",
       "      <td>111708109</td>\n",
       "      <td>80.0</td>\n",
       "      <td>NaN</td>\n",
       "      <td>0.0</td>\n",
       "      <td>109.95</td>\n",
       "      <td>10.0</td>\n",
       "    </tr>\n",
       "    <tr>\n",
       "      <th>4</th>\n",
       "      <td>2020-02-16</td>\n",
       "      <td>73267284</td>\n",
       "      <td>94.0</td>\n",
       "      <td>205.0</td>\n",
       "      <td>20.0</td>\n",
       "      <td>NaN</td>\n",
       "      <td>0.0</td>\n",
       "    </tr>\n",
       "  </tbody>\n",
       "</table>\n",
       "</div>"
      ],
      "text/plain": [
       "    date_week    sku_cde  cost_price  regular_price  regular_volume  \\\n",
       "0  2020-02-09   62875832        68.0          140.0            10.0   \n",
       "1  2020-02-09   84630314       180.0          300.0            10.0   \n",
       "2  2020-02-09   95208654        26.0           56.0            40.0   \n",
       "3  2020-02-09  111708109        80.0            NaN             0.0   \n",
       "4  2020-02-16   73267284        94.0          205.0            20.0   \n",
       "\n",
       "   promo_price  promo_volume  \n",
       "0          NaN           0.0  \n",
       "1          NaN           0.0  \n",
       "2          NaN           0.0  \n",
       "3       109.95          10.0  \n",
       "4          NaN           0.0  "
      ]
     },
     "execution_count": 2,
     "metadata": {},
     "output_type": "execute_result"
    }
   ],
   "source": [
    "# Data Loading\n",
    "data = pd.read_csv(\"Data.csv\")\n",
    "data.head()"
   ]
  },
  {
   "cell_type": "markdown",
   "id": "a08cde01-df06-49b6-af86-f0cc18b9daef",
   "metadata": {},
   "source": [
    "## Data Cleaning and Processing\n",
    "Following things we can infer from the dataset:\n",
    "(1) The dataset has various items (sku_cde). <br>\n",
    "(2) Data is weakly presented. <br>\n",
    "(3) There are two types of prices for intems (sku_cde) one with regular price and other with promo price. <br>\n",
    "(3) Also there are some values missing from data and we will deal with it by later either by removing those rows or replacing them with column mean.\n",
    "\n",
    "Firstly we will do following things:<br>\n",
    "(1) The column names are not convenient to work with. So we will change them as following:<br>\n",
    "- date_week -------> Week\n",
    "- sku_cde ---------> ItemID\n",
    "- cost_price ------> CostPrice\n",
    "- regular_price ---> RegularPrice\n",
    "- regular_volume --> RegularVolume\n",
    "- promo_price -----> PromoPrice\n",
    "- promo_volume ----> PromoVolume <br>"
   ]
  },
  {
   "cell_type": "code",
   "execution_count": 3,
   "id": "01af7ecf-9e55-4ba8-946a-39637d874583",
   "metadata": {},
   "outputs": [
    {
     "data": {
      "text/html": [
       "<div>\n",
       "<style scoped>\n",
       "    .dataframe tbody tr th:only-of-type {\n",
       "        vertical-align: middle;\n",
       "    }\n",
       "\n",
       "    .dataframe tbody tr th {\n",
       "        vertical-align: top;\n",
       "    }\n",
       "\n",
       "    .dataframe thead th {\n",
       "        text-align: right;\n",
       "    }\n",
       "</style>\n",
       "<table border=\"1\" class=\"dataframe\">\n",
       "  <thead>\n",
       "    <tr style=\"text-align: right;\">\n",
       "      <th></th>\n",
       "      <th>ItemID</th>\n",
       "      <th>Week</th>\n",
       "      <th>CostPrice</th>\n",
       "      <th>RegularPrice</th>\n",
       "      <th>RegularVolume</th>\n",
       "      <th>PromoPrice</th>\n",
       "      <th>PromoVolume</th>\n",
       "    </tr>\n",
       "  </thead>\n",
       "  <tbody>\n",
       "    <tr>\n",
       "      <th>332</th>\n",
       "      <td>Id1</td>\n",
       "      <td>2020-11-29</td>\n",
       "      <td>95.0</td>\n",
       "      <td>150.0</td>\n",
       "      <td>40.0</td>\n",
       "      <td>NaN</td>\n",
       "      <td>0.0</td>\n",
       "    </tr>\n",
       "    <tr>\n",
       "      <th>268</th>\n",
       "      <td>Id1</td>\n",
       "      <td>2020-10-11</td>\n",
       "      <td>95.0</td>\n",
       "      <td>NaN</td>\n",
       "      <td>0.0</td>\n",
       "      <td>139.95</td>\n",
       "      <td>470.0</td>\n",
       "    </tr>\n",
       "    <tr>\n",
       "      <th>639</th>\n",
       "      <td>Id1</td>\n",
       "      <td>2021-08-15</td>\n",
       "      <td>94.0</td>\n",
       "      <td>150.0</td>\n",
       "      <td>100.0</td>\n",
       "      <td>125.00</td>\n",
       "      <td>290.0</td>\n",
       "    </tr>\n",
       "    <tr>\n",
       "      <th>283</th>\n",
       "      <td>Id1</td>\n",
       "      <td>2020-10-18</td>\n",
       "      <td>95.0</td>\n",
       "      <td>150.0</td>\n",
       "      <td>140.0</td>\n",
       "      <td>139.95</td>\n",
       "      <td>20.0</td>\n",
       "    </tr>\n",
       "    <tr>\n",
       "      <th>631</th>\n",
       "      <td>Id1</td>\n",
       "      <td>2021-08-08</td>\n",
       "      <td>94.0</td>\n",
       "      <td>150.0</td>\n",
       "      <td>40.0</td>\n",
       "      <td>125.00</td>\n",
       "      <td>450.0</td>\n",
       "    </tr>\n",
       "  </tbody>\n",
       "</table>\n",
       "</div>"
      ],
      "text/plain": [
       "    ItemID        Week  CostPrice  RegularPrice  RegularVolume  PromoPrice  \\\n",
       "332    Id1  2020-11-29       95.0         150.0           40.0         NaN   \n",
       "268    Id1  2020-10-11       95.0           NaN            0.0      139.95   \n",
       "639    Id1  2021-08-15       94.0         150.0          100.0      125.00   \n",
       "283    Id1  2020-10-18       95.0         150.0          140.0      139.95   \n",
       "631    Id1  2021-08-08       94.0         150.0           40.0      125.00   \n",
       "\n",
       "     PromoVolume  \n",
       "332          0.0  \n",
       "268        470.0  \n",
       "639        290.0  \n",
       "283         20.0  \n",
       "631        450.0  "
      ]
     },
     "execution_count": 3,
     "metadata": {},
     "output_type": "execute_result"
    }
   ],
   "source": [
    "# Making sku_cde first column\n",
    "columns_titles = [\"sku_cde\",\"date_week\",\"cost_price\",\"regular_price\",\"regular_volume\",\"promo_price\",\"promo_volume\"]\n",
    "df = data[columns_titles]\n",
    "\n",
    "# Renaming columns\n",
    "renamedic = {\"sku_cde\":\"ItemID\", \"date_week\":\"Week\", \"cost_price\":\"CostPrice\", \"regular_price\":\"RegularPrice\", \"regular_volume\":\"RegularVolume\", \"promo_price\":\"PromoPrice\", \"promo_volume\":\"PromoVolume\"}\n",
    "df.rename(columns = renamedic, inplace = True)\n",
    "\n",
    "# Changing Data Type of ItemID culumn\n",
    "df[\"ItemID\"] = df[\"ItemID\"].astype(\"string\")\n",
    "\n",
    "# Rebaming Item Names from ItemID Column\n",
    "itemList = list(np.unique(df[\"ItemID\"]))\n",
    "itemDic = {}\n",
    "index = 1\n",
    "for item in itemList:\n",
    "    value = \"Id\" + str(index)\n",
    "    itemDic[item] = value\n",
    "    index += 1\n",
    "df = df.replace({\"ItemID\": itemDic})\n",
    "\n",
    "# Sorting values by ItemID\n",
    "df = df.sort_values(by=[\"ItemID\"])\n",
    "df.head()"
   ]
  },
  {
   "cell_type": "code",
   "execution_count": 4,
   "id": "7a418873-f5c1-4529-8e00-bfdbd3dad163",
   "metadata": {},
   "outputs": [
    {
     "data": {
      "text/plain": [
       "{'111708109': 'Id1',\n",
       " '11990782': 'Id2',\n",
       " '12062063': 'Id3',\n",
       " '130680236': 'Id4',\n",
       " '137353695': 'Id5',\n",
       " '62875832': 'Id6',\n",
       " '73267284': 'Id7',\n",
       " '84630314': 'Id8',\n",
       " '95208654': 'Id9'}"
      ]
     },
     "execution_count": 4,
     "metadata": {},
     "output_type": "execute_result"
    }
   ],
   "source": [
    "itemDic"
   ]
  },
  {
   "cell_type": "markdown",
   "id": "5becd863-bc36-42e3-b299-18b1c57088d1",
   "metadata": {},
   "source": [
    "The \"sku_cde\"s are not convinient to work with. we will replace the \"sku_cde\"'s as above."
   ]
  },
  {
   "cell_type": "markdown",
   "id": "11d412a6-dcf9-4558-af2d-6ae172f31e4d",
   "metadata": {},
   "source": [
    "Now We will Split the DataFrame for \"RegularPrices\" and \"PromoPrice\" in to two data Frames"
   ]
  },
  {
   "cell_type": "code",
   "execution_count": 5,
   "id": "e5687fe2-0fea-4321-8ef5-6b99840a6904",
   "metadata": {},
   "outputs": [
    {
     "name": "stderr",
     "output_type": "stream",
     "text": [
      "/tmp/ipykernel_3617939/3464994756.py:2: SettingWithCopyWarning: \n",
      "A value is trying to be set on a copy of a slice from a DataFrame\n",
      "\n",
      "See the caveats in the documentation: https://pandas.pydata.org/pandas-docs/stable/user_guide/indexing.html#returning-a-view-versus-a-copy\n",
      "  regularDF.rename(columns = {\"RegularPrice\":\"Price\", \"RegularVolume\":\"Volume\"}, inplace = True)\n"
     ]
    },
    {
     "data": {
      "text/html": [
       "<div>\n",
       "<style scoped>\n",
       "    .dataframe tbody tr th:only-of-type {\n",
       "        vertical-align: middle;\n",
       "    }\n",
       "\n",
       "    .dataframe tbody tr th {\n",
       "        vertical-align: top;\n",
       "    }\n",
       "\n",
       "    .dataframe thead th {\n",
       "        text-align: right;\n",
       "    }\n",
       "</style>\n",
       "<table border=\"1\" class=\"dataframe\">\n",
       "  <thead>\n",
       "    <tr style=\"text-align: right;\">\n",
       "      <th></th>\n",
       "      <th>ItemID</th>\n",
       "      <th>Week</th>\n",
       "      <th>CostPrice</th>\n",
       "      <th>Price</th>\n",
       "      <th>Volume</th>\n",
       "    </tr>\n",
       "  </thead>\n",
       "  <tbody>\n",
       "    <tr>\n",
       "      <th>332</th>\n",
       "      <td>Id1</td>\n",
       "      <td>2020-11-29</td>\n",
       "      <td>95.0</td>\n",
       "      <td>150.0</td>\n",
       "      <td>40.0</td>\n",
       "    </tr>\n",
       "    <tr>\n",
       "      <th>268</th>\n",
       "      <td>Id1</td>\n",
       "      <td>2020-10-11</td>\n",
       "      <td>95.0</td>\n",
       "      <td>NaN</td>\n",
       "      <td>0.0</td>\n",
       "    </tr>\n",
       "    <tr>\n",
       "      <th>639</th>\n",
       "      <td>Id1</td>\n",
       "      <td>2021-08-15</td>\n",
       "      <td>94.0</td>\n",
       "      <td>150.0</td>\n",
       "      <td>100.0</td>\n",
       "    </tr>\n",
       "    <tr>\n",
       "      <th>283</th>\n",
       "      <td>Id1</td>\n",
       "      <td>2020-10-18</td>\n",
       "      <td>95.0</td>\n",
       "      <td>150.0</td>\n",
       "      <td>140.0</td>\n",
       "    </tr>\n",
       "    <tr>\n",
       "      <th>631</th>\n",
       "      <td>Id1</td>\n",
       "      <td>2021-08-08</td>\n",
       "      <td>94.0</td>\n",
       "      <td>150.0</td>\n",
       "      <td>40.0</td>\n",
       "    </tr>\n",
       "  </tbody>\n",
       "</table>\n",
       "</div>"
      ],
      "text/plain": [
       "    ItemID        Week  CostPrice  Price  Volume\n",
       "332    Id1  2020-11-29       95.0  150.0    40.0\n",
       "268    Id1  2020-10-11       95.0    NaN     0.0\n",
       "639    Id1  2021-08-15       94.0  150.0   100.0\n",
       "283    Id1  2020-10-18       95.0  150.0   140.0\n",
       "631    Id1  2021-08-08       94.0  150.0    40.0"
      ]
     },
     "execution_count": 5,
     "metadata": {},
     "output_type": "execute_result"
    }
   ],
   "source": [
    "regularDF = df[[\"ItemID\", \"Week\", \"CostPrice\", \"RegularPrice\", \"RegularVolume\"]]\n",
    "regularDF.rename(columns = {\"RegularPrice\":\"Price\", \"RegularVolume\":\"Volume\"}, inplace = True)\n",
    "regularDF.head()"
   ]
  },
  {
   "cell_type": "code",
   "execution_count": 6,
   "id": "406175ef-0304-406b-a7f5-92922e6fc562",
   "metadata": {},
   "outputs": [
    {
     "name": "stderr",
     "output_type": "stream",
     "text": [
      "/tmp/ipykernel_3617939/858748818.py:2: SettingWithCopyWarning: \n",
      "A value is trying to be set on a copy of a slice from a DataFrame\n",
      "\n",
      "See the caveats in the documentation: https://pandas.pydata.org/pandas-docs/stable/user_guide/indexing.html#returning-a-view-versus-a-copy\n",
      "  promoDF.rename(columns = {\"PromoPrice\":\"Price\", \"PromoVolume\":\"Volume\"}, inplace = True)\n"
     ]
    },
    {
     "data": {
      "text/html": [
       "<div>\n",
       "<style scoped>\n",
       "    .dataframe tbody tr th:only-of-type {\n",
       "        vertical-align: middle;\n",
       "    }\n",
       "\n",
       "    .dataframe tbody tr th {\n",
       "        vertical-align: top;\n",
       "    }\n",
       "\n",
       "    .dataframe thead th {\n",
       "        text-align: right;\n",
       "    }\n",
       "</style>\n",
       "<table border=\"1\" class=\"dataframe\">\n",
       "  <thead>\n",
       "    <tr style=\"text-align: right;\">\n",
       "      <th></th>\n",
       "      <th>ItemID</th>\n",
       "      <th>Week</th>\n",
       "      <th>CostPrice</th>\n",
       "      <th>Price</th>\n",
       "      <th>Volume</th>\n",
       "    </tr>\n",
       "  </thead>\n",
       "  <tbody>\n",
       "    <tr>\n",
       "      <th>332</th>\n",
       "      <td>Id1</td>\n",
       "      <td>2020-11-29</td>\n",
       "      <td>95.0</td>\n",
       "      <td>NaN</td>\n",
       "      <td>0.0</td>\n",
       "    </tr>\n",
       "    <tr>\n",
       "      <th>268</th>\n",
       "      <td>Id1</td>\n",
       "      <td>2020-10-11</td>\n",
       "      <td>95.0</td>\n",
       "      <td>139.95</td>\n",
       "      <td>470.0</td>\n",
       "    </tr>\n",
       "    <tr>\n",
       "      <th>639</th>\n",
       "      <td>Id1</td>\n",
       "      <td>2021-08-15</td>\n",
       "      <td>94.0</td>\n",
       "      <td>125.00</td>\n",
       "      <td>290.0</td>\n",
       "    </tr>\n",
       "    <tr>\n",
       "      <th>283</th>\n",
       "      <td>Id1</td>\n",
       "      <td>2020-10-18</td>\n",
       "      <td>95.0</td>\n",
       "      <td>139.95</td>\n",
       "      <td>20.0</td>\n",
       "    </tr>\n",
       "    <tr>\n",
       "      <th>631</th>\n",
       "      <td>Id1</td>\n",
       "      <td>2021-08-08</td>\n",
       "      <td>94.0</td>\n",
       "      <td>125.00</td>\n",
       "      <td>450.0</td>\n",
       "    </tr>\n",
       "  </tbody>\n",
       "</table>\n",
       "</div>"
      ],
      "text/plain": [
       "    ItemID        Week  CostPrice   Price  Volume\n",
       "332    Id1  2020-11-29       95.0     NaN     0.0\n",
       "268    Id1  2020-10-11       95.0  139.95   470.0\n",
       "639    Id1  2021-08-15       94.0  125.00   290.0\n",
       "283    Id1  2020-10-18       95.0  139.95    20.0\n",
       "631    Id1  2021-08-08       94.0  125.00   450.0"
      ]
     },
     "execution_count": 6,
     "metadata": {},
     "output_type": "execute_result"
    }
   ],
   "source": [
    "promoDF = df[[\"ItemID\", \"Week\", \"CostPrice\", \"PromoPrice\", \"PromoVolume\"]]\n",
    "promoDF.rename(columns = {\"PromoPrice\":\"Price\", \"PromoVolume\":\"Volume\"}, inplace = True)\n",
    "promoDF.head()"
   ]
  },
  {
   "cell_type": "markdown",
   "id": "4dd6bc0e-34bb-4217-8c48-b557adb5ae4b",
   "metadata": {},
   "source": [
    "Now We Will check for \"Null\" and \"NAN\" Values in both data frames "
   ]
  },
  {
   "cell_type": "code",
   "execution_count": 7,
   "id": "96f3569f-16c8-4007-bb99-5aca649be9bd",
   "metadata": {},
   "outputs": [
    {
     "data": {
      "text/plain": [
       "ItemID         0\n",
       "Week           0\n",
       "CostPrice      0\n",
       "Price        166\n",
       "Volume         0\n",
       "dtype: int64"
      ]
     },
     "execution_count": 7,
     "metadata": {},
     "output_type": "execute_result"
    }
   ],
   "source": [
    "regularDF.isnull().sum()"
   ]
  },
  {
   "cell_type": "code",
   "execution_count": 8,
   "id": "16b9e006-ff99-4e5e-9b94-c9a339be2a8b",
   "metadata": {},
   "outputs": [
    {
     "data": {
      "text/plain": [
       "ItemID         0\n",
       "Week           0\n",
       "CostPrice      0\n",
       "Price        604\n",
       "Volume         0\n",
       "dtype: int64"
      ]
     },
     "execution_count": 8,
     "metadata": {},
     "output_type": "execute_result"
    }
   ],
   "source": [
    "promoDF.isnull().sum()"
   ]
  },
  {
   "cell_type": "markdown",
   "id": "9aee59b9-6f5f-4d06-8e85-67fca7859232",
   "metadata": {},
   "source": [
    "As we can see there are some \"Null\" values in both dataframes. We have sufficient data So we will remove the rows containing \"Null\" Values."
   ]
  },
  {
   "cell_type": "code",
   "execution_count": 9,
   "id": "56f33225-f0aa-43af-bb05-1faa15ec1f30",
   "metadata": {},
   "outputs": [
    {
     "data": {
      "text/html": [
       "<div>\n",
       "<style scoped>\n",
       "    .dataframe tbody tr th:only-of-type {\n",
       "        vertical-align: middle;\n",
       "    }\n",
       "\n",
       "    .dataframe tbody tr th {\n",
       "        vertical-align: top;\n",
       "    }\n",
       "\n",
       "    .dataframe thead th {\n",
       "        text-align: right;\n",
       "    }\n",
       "</style>\n",
       "<table border=\"1\" class=\"dataframe\">\n",
       "  <thead>\n",
       "    <tr style=\"text-align: right;\">\n",
       "      <th></th>\n",
       "      <th>ItemID</th>\n",
       "      <th>Week</th>\n",
       "      <th>CostPrice</th>\n",
       "      <th>Price</th>\n",
       "      <th>Volume</th>\n",
       "    </tr>\n",
       "  </thead>\n",
       "  <tbody>\n",
       "    <tr>\n",
       "      <th>332</th>\n",
       "      <td>Id1</td>\n",
       "      <td>2020-11-29</td>\n",
       "      <td>95.0</td>\n",
       "      <td>150.0</td>\n",
       "      <td>40.0</td>\n",
       "    </tr>\n",
       "    <tr>\n",
       "      <th>639</th>\n",
       "      <td>Id1</td>\n",
       "      <td>2021-08-15</td>\n",
       "      <td>94.0</td>\n",
       "      <td>150.0</td>\n",
       "      <td>100.0</td>\n",
       "    </tr>\n",
       "    <tr>\n",
       "      <th>283</th>\n",
       "      <td>Id1</td>\n",
       "      <td>2020-10-18</td>\n",
       "      <td>95.0</td>\n",
       "      <td>150.0</td>\n",
       "      <td>140.0</td>\n",
       "    </tr>\n",
       "    <tr>\n",
       "      <th>631</th>\n",
       "      <td>Id1</td>\n",
       "      <td>2021-08-08</td>\n",
       "      <td>94.0</td>\n",
       "      <td>150.0</td>\n",
       "      <td>40.0</td>\n",
       "    </tr>\n",
       "    <tr>\n",
       "      <th>291</th>\n",
       "      <td>Id1</td>\n",
       "      <td>2020-10-25</td>\n",
       "      <td>95.0</td>\n",
       "      <td>150.0</td>\n",
       "      <td>100.0</td>\n",
       "    </tr>\n",
       "  </tbody>\n",
       "</table>\n",
       "</div>"
      ],
      "text/plain": [
       "    ItemID        Week  CostPrice  Price  Volume\n",
       "332    Id1  2020-11-29       95.0  150.0    40.0\n",
       "639    Id1  2021-08-15       94.0  150.0   100.0\n",
       "283    Id1  2020-10-18       95.0  150.0   140.0\n",
       "631    Id1  2021-08-08       94.0  150.0    40.0\n",
       "291    Id1  2020-10-25       95.0  150.0   100.0"
      ]
     },
     "execution_count": 9,
     "metadata": {},
     "output_type": "execute_result"
    }
   ],
   "source": [
    "regularDF = regularDF.dropna()\n",
    "regularDF.head()"
   ]
  },
  {
   "cell_type": "code",
   "execution_count": 10,
   "id": "915b5693-9d9c-4c5f-98b5-ec7f8fa20e57",
   "metadata": {},
   "outputs": [
    {
     "data": {
      "text/html": [
       "<div>\n",
       "<style scoped>\n",
       "    .dataframe tbody tr th:only-of-type {\n",
       "        vertical-align: middle;\n",
       "    }\n",
       "\n",
       "    .dataframe tbody tr th {\n",
       "        vertical-align: top;\n",
       "    }\n",
       "\n",
       "    .dataframe thead th {\n",
       "        text-align: right;\n",
       "    }\n",
       "</style>\n",
       "<table border=\"1\" class=\"dataframe\">\n",
       "  <thead>\n",
       "    <tr style=\"text-align: right;\">\n",
       "      <th></th>\n",
       "      <th>ItemID</th>\n",
       "      <th>Week</th>\n",
       "      <th>CostPrice</th>\n",
       "      <th>Price</th>\n",
       "      <th>Volume</th>\n",
       "    </tr>\n",
       "  </thead>\n",
       "  <tbody>\n",
       "    <tr>\n",
       "      <th>268</th>\n",
       "      <td>Id1</td>\n",
       "      <td>2020-10-11</td>\n",
       "      <td>95.0</td>\n",
       "      <td>139.95</td>\n",
       "      <td>470.0</td>\n",
       "    </tr>\n",
       "    <tr>\n",
       "      <th>639</th>\n",
       "      <td>Id1</td>\n",
       "      <td>2021-08-15</td>\n",
       "      <td>94.0</td>\n",
       "      <td>125.00</td>\n",
       "      <td>290.0</td>\n",
       "    </tr>\n",
       "    <tr>\n",
       "      <th>283</th>\n",
       "      <td>Id1</td>\n",
       "      <td>2020-10-18</td>\n",
       "      <td>95.0</td>\n",
       "      <td>139.95</td>\n",
       "      <td>20.0</td>\n",
       "    </tr>\n",
       "    <tr>\n",
       "      <th>631</th>\n",
       "      <td>Id1</td>\n",
       "      <td>2021-08-08</td>\n",
       "      <td>94.0</td>\n",
       "      <td>125.00</td>\n",
       "      <td>450.0</td>\n",
       "    </tr>\n",
       "    <tr>\n",
       "      <th>624</th>\n",
       "      <td>Id1</td>\n",
       "      <td>2021-08-01</td>\n",
       "      <td>94.0</td>\n",
       "      <td>125.00</td>\n",
       "      <td>860.0</td>\n",
       "    </tr>\n",
       "  </tbody>\n",
       "</table>\n",
       "</div>"
      ],
      "text/plain": [
       "    ItemID        Week  CostPrice   Price  Volume\n",
       "268    Id1  2020-10-11       95.0  139.95   470.0\n",
       "639    Id1  2021-08-15       94.0  125.00   290.0\n",
       "283    Id1  2020-10-18       95.0  139.95    20.0\n",
       "631    Id1  2021-08-08       94.0  125.00   450.0\n",
       "624    Id1  2021-08-01       94.0  125.00   860.0"
      ]
     },
     "execution_count": 10,
     "metadata": {},
     "output_type": "execute_result"
    }
   ],
   "source": [
    "promoDF = promoDF.dropna()\n",
    "promoDF.head()"
   ]
  },
  {
   "cell_type": "markdown",
   "id": "da4f5ea8-aea9-4eb0-a2a4-5ddda864ddc5",
   "metadata": {},
   "source": [
    "Now We have Clean data As Two data Frames, One for Regular Prices and other for promo prices. We will Save This data in CSV Files in \"CleanedData\" folder."
   ]
  },
  {
   "cell_type": "code",
   "execution_count": 11,
   "id": "c96e48c0-b1d4-4800-b910-f02de5373e62",
   "metadata": {},
   "outputs": [],
   "source": [
    "regularDF.to_csv('CleanedData/RegularData.csv')\n",
    "promoDF.to_csv('CleanedData/PromoData.csv')"
   ]
  },
  {
   "cell_type": "markdown",
   "id": "db91e4a1-af53-4e61-8d52-7cfaff044acf",
   "metadata": {},
   "source": [
    "# 4. Eploratory Data Analysis\n",
    "Now we will do some exploratory data analysys to understand data.\n",
    "\n",
    "Fist We will use \".descibe()\" function to understand data"
   ]
  },
  {
   "cell_type": "code",
   "execution_count": 12,
   "id": "6956fd18-e2d9-4a8c-9654-090faafc72eb",
   "metadata": {},
   "outputs": [
    {
     "data": {
      "text/html": [
       "<div>\n",
       "<style scoped>\n",
       "    .dataframe tbody tr th:only-of-type {\n",
       "        vertical-align: middle;\n",
       "    }\n",
       "\n",
       "    .dataframe tbody tr th {\n",
       "        vertical-align: top;\n",
       "    }\n",
       "\n",
       "    .dataframe thead th {\n",
       "        text-align: right;\n",
       "    }\n",
       "</style>\n",
       "<table border=\"1\" class=\"dataframe\">\n",
       "  <thead>\n",
       "    <tr style=\"text-align: right;\">\n",
       "      <th></th>\n",
       "      <th>CostPrice</th>\n",
       "      <th>Price</th>\n",
       "      <th>Volume</th>\n",
       "    </tr>\n",
       "  </thead>\n",
       "  <tbody>\n",
       "    <tr>\n",
       "      <th>count</th>\n",
       "      <td>685.000000</td>\n",
       "      <td>685.000000</td>\n",
       "      <td>685.000000</td>\n",
       "    </tr>\n",
       "    <tr>\n",
       "      <th>mean</th>\n",
       "      <td>94.781022</td>\n",
       "      <td>184.426277</td>\n",
       "      <td>135.897810</td>\n",
       "    </tr>\n",
       "    <tr>\n",
       "      <th>std</th>\n",
       "      <td>43.240304</td>\n",
       "      <td>71.458772</td>\n",
       "      <td>109.281096</td>\n",
       "    </tr>\n",
       "    <tr>\n",
       "      <th>min</th>\n",
       "      <td>14.000000</td>\n",
       "      <td>50.000000</td>\n",
       "      <td>10.000000</td>\n",
       "    </tr>\n",
       "    <tr>\n",
       "      <th>25%</th>\n",
       "      <td>74.000000</td>\n",
       "      <td>140.000000</td>\n",
       "      <td>50.000000</td>\n",
       "    </tr>\n",
       "    <tr>\n",
       "      <th>50%</th>\n",
       "      <td>92.000000</td>\n",
       "      <td>190.000000</td>\n",
       "      <td>110.000000</td>\n",
       "    </tr>\n",
       "    <tr>\n",
       "      <th>75%</th>\n",
       "      <td>99.000000</td>\n",
       "      <td>205.000000</td>\n",
       "      <td>200.000000</td>\n",
       "    </tr>\n",
       "    <tr>\n",
       "      <th>max</th>\n",
       "      <td>210.000000</td>\n",
       "      <td>330.000000</td>\n",
       "      <td>620.000000</td>\n",
       "    </tr>\n",
       "  </tbody>\n",
       "</table>\n",
       "</div>"
      ],
      "text/plain": [
       "        CostPrice       Price      Volume\n",
       "count  685.000000  685.000000  685.000000\n",
       "mean    94.781022  184.426277  135.897810\n",
       "std     43.240304   71.458772  109.281096\n",
       "min     14.000000   50.000000   10.000000\n",
       "25%     74.000000  140.000000   50.000000\n",
       "50%     92.000000  190.000000  110.000000\n",
       "75%     99.000000  205.000000  200.000000\n",
       "max    210.000000  330.000000  620.000000"
      ]
     },
     "execution_count": 12,
     "metadata": {},
     "output_type": "execute_result"
    }
   ],
   "source": [
    "regularDF.describe()"
   ]
  },
  {
   "cell_type": "code",
   "execution_count": 13,
   "id": "2450b716-4e9b-4d3f-bfa7-dc5281b1e945",
   "metadata": {},
   "outputs": [
    {
     "data": {
      "text/html": [
       "<div>\n",
       "<style scoped>\n",
       "    .dataframe tbody tr th:only-of-type {\n",
       "        vertical-align: middle;\n",
       "    }\n",
       "\n",
       "    .dataframe tbody tr th {\n",
       "        vertical-align: top;\n",
       "    }\n",
       "\n",
       "    .dataframe thead th {\n",
       "        text-align: right;\n",
       "    }\n",
       "</style>\n",
       "<table border=\"1\" class=\"dataframe\">\n",
       "  <thead>\n",
       "    <tr style=\"text-align: right;\">\n",
       "      <th></th>\n",
       "      <th>CostPrice</th>\n",
       "      <th>Price</th>\n",
       "      <th>Volume</th>\n",
       "    </tr>\n",
       "  </thead>\n",
       "  <tbody>\n",
       "    <tr>\n",
       "      <th>count</th>\n",
       "      <td>247.000000</td>\n",
       "      <td>247.000000</td>\n",
       "      <td>247.000000</td>\n",
       "    </tr>\n",
       "    <tr>\n",
       "      <th>mean</th>\n",
       "      <td>93.255061</td>\n",
       "      <td>152.039271</td>\n",
       "      <td>310.850202</td>\n",
       "    </tr>\n",
       "    <tr>\n",
       "      <th>std</th>\n",
       "      <td>38.993064</td>\n",
       "      <td>58.689836</td>\n",
       "      <td>317.114284</td>\n",
       "    </tr>\n",
       "    <tr>\n",
       "      <th>min</th>\n",
       "      <td>26.000000</td>\n",
       "      <td>36.950000</td>\n",
       "      <td>10.000000</td>\n",
       "    </tr>\n",
       "    <tr>\n",
       "      <th>25%</th>\n",
       "      <td>80.000000</td>\n",
       "      <td>125.000000</td>\n",
       "      <td>100.000000</td>\n",
       "    </tr>\n",
       "    <tr>\n",
       "      <th>50%</th>\n",
       "      <td>92.000000</td>\n",
       "      <td>149.950000</td>\n",
       "      <td>220.000000</td>\n",
       "    </tr>\n",
       "    <tr>\n",
       "      <th>75%</th>\n",
       "      <td>96.000000</td>\n",
       "      <td>169.960000</td>\n",
       "      <td>420.000000</td>\n",
       "    </tr>\n",
       "    <tr>\n",
       "      <th>max</th>\n",
       "      <td>210.000000</td>\n",
       "      <td>299.950000</td>\n",
       "      <td>2610.000000</td>\n",
       "    </tr>\n",
       "  </tbody>\n",
       "</table>\n",
       "</div>"
      ],
      "text/plain": [
       "        CostPrice       Price       Volume\n",
       "count  247.000000  247.000000   247.000000\n",
       "mean    93.255061  152.039271   310.850202\n",
       "std     38.993064   58.689836   317.114284\n",
       "min     26.000000   36.950000    10.000000\n",
       "25%     80.000000  125.000000   100.000000\n",
       "50%     92.000000  149.950000   220.000000\n",
       "75%     96.000000  169.960000   420.000000\n",
       "max    210.000000  299.950000  2610.000000"
      ]
     },
     "execution_count": 13,
     "metadata": {},
     "output_type": "execute_result"
    }
   ],
   "source": [
    "promoDF.describe()"
   ]
  },
  {
   "cell_type": "markdown",
   "id": "a0ce4972-c938-4d12-84f9-ed04be34c71a",
   "metadata": {},
   "source": [
    "## Data Visualization For Individual Items\n",
    "Now We will see how data looks like using some plots"
   ]
  },
  {
   "cell_type": "markdown",
   "id": "b52c9969-5f5d-4564-9f87-5ad4eaccbccc",
   "metadata": {
    "tags": []
   },
   "source": [
    "### Data Visualization for ItemID=Id1\n",
    "Lest See Data for only one item. For this we will use \"ItemID=Id1\""
   ]
  },
  {
   "cell_type": "code",
   "execution_count": 14,
   "id": "db0c6f9a-bbcf-4b58-ac47-d4d15082f222",
   "metadata": {},
   "outputs": [],
   "source": [
    "item = \"Id1\""
   ]
  },
  {
   "cell_type": "markdown",
   "id": "44e7a5b3-9c3a-4cfd-8cd4-cea24586b116",
   "metadata": {},
   "source": [
    "#### Regular Price Data"
   ]
  },
  {
   "cell_type": "code",
   "execution_count": 15,
   "id": "d50754a6-edb0-4cb4-aa5b-fd61ad4face7",
   "metadata": {},
   "outputs": [
    {
     "data": {
      "text/html": [
       "<div>\n",
       "<style scoped>\n",
       "    .dataframe tbody tr th:only-of-type {\n",
       "        vertical-align: middle;\n",
       "    }\n",
       "\n",
       "    .dataframe tbody tr th {\n",
       "        vertical-align: top;\n",
       "    }\n",
       "\n",
       "    .dataframe thead th {\n",
       "        text-align: right;\n",
       "    }\n",
       "</style>\n",
       "<table border=\"1\" class=\"dataframe\">\n",
       "  <thead>\n",
       "    <tr style=\"text-align: right;\">\n",
       "      <th></th>\n",
       "      <th>ItemID</th>\n",
       "      <th>Week</th>\n",
       "      <th>CostPrice</th>\n",
       "      <th>Price</th>\n",
       "      <th>Volume</th>\n",
       "    </tr>\n",
       "  </thead>\n",
       "  <tbody>\n",
       "    <tr>\n",
       "      <th>332</th>\n",
       "      <td>Id1</td>\n",
       "      <td>2020-11-29</td>\n",
       "      <td>95.0</td>\n",
       "      <td>150.0</td>\n",
       "      <td>40.0</td>\n",
       "    </tr>\n",
       "    <tr>\n",
       "      <th>639</th>\n",
       "      <td>Id1</td>\n",
       "      <td>2021-08-15</td>\n",
       "      <td>94.0</td>\n",
       "      <td>150.0</td>\n",
       "      <td>100.0</td>\n",
       "    </tr>\n",
       "    <tr>\n",
       "      <th>283</th>\n",
       "      <td>Id1</td>\n",
       "      <td>2020-10-18</td>\n",
       "      <td>95.0</td>\n",
       "      <td>150.0</td>\n",
       "      <td>140.0</td>\n",
       "    </tr>\n",
       "    <tr>\n",
       "      <th>631</th>\n",
       "      <td>Id1</td>\n",
       "      <td>2021-08-08</td>\n",
       "      <td>94.0</td>\n",
       "      <td>150.0</td>\n",
       "      <td>40.0</td>\n",
       "    </tr>\n",
       "    <tr>\n",
       "      <th>291</th>\n",
       "      <td>Id1</td>\n",
       "      <td>2020-10-25</td>\n",
       "      <td>95.0</td>\n",
       "      <td>150.0</td>\n",
       "      <td>100.0</td>\n",
       "    </tr>\n",
       "  </tbody>\n",
       "</table>\n",
       "</div>"
      ],
      "text/plain": [
       "    ItemID        Week  CostPrice  Price  Volume\n",
       "332    Id1  2020-11-29       95.0  150.0    40.0\n",
       "639    Id1  2021-08-15       94.0  150.0   100.0\n",
       "283    Id1  2020-10-18       95.0  150.0   140.0\n",
       "631    Id1  2021-08-08       94.0  150.0    40.0\n",
       "291    Id1  2020-10-25       95.0  150.0   100.0"
      ]
     },
     "execution_count": 15,
     "metadata": {},
     "output_type": "execute_result"
    }
   ],
   "source": [
    "itemDF = regularDF[regularDF[\"ItemID\"]==item]\n",
    "itemDF.head()"
   ]
  },
  {
   "cell_type": "code",
   "execution_count": 16,
   "id": "5d2b3cf6-eeaf-46ab-91d3-5549caccc8a8",
   "metadata": {},
   "outputs": [
    {
     "data": {
      "text/plain": [
       "array([135., 147., 150., 170., 185.])"
      ]
     },
     "execution_count": 16,
     "metadata": {},
     "output_type": "execute_result"
    }
   ],
   "source": [
    "np.unique(itemDF[\"Price\"])"
   ]
  },
  {
   "cell_type": "code",
   "execution_count": 17,
   "id": "2d32b93c-12d7-402f-b1f8-f92ac2c2c73e",
   "metadata": {},
   "outputs": [
    {
     "data": {
      "image/png": "[encoded data removed]",
      "text/plain": [
       "<Figure size 432x288 with 2 Axes>"
      ]
     },
     "metadata": {
      "needs_background": "light"
     },
     "output_type": "display_data"
    }
   ],
   "source": [
    "itemDF[[\"Price\",\"Volume\"]].hist()\n",
    "plt.show()"
   ]
  },
  {
   "cell_type": "code",
   "execution_count": 18,
   "id": "9ba2f74e-eae4-45c9-a103-40a255928330",
   "metadata": {},
   "outputs": [
    {
     "data": {
      "text/plain": [
       "<AxesSubplot:xlabel='Price', ylabel='Volume'>"
      ]
     },
     "execution_count": 18,
     "metadata": {},
     "output_type": "execute_result"
    },
    {
     "data": {
      "image/png": "[encoded data removed]",
      "text/plain": [
       "<Figure size 432x288 with 1 Axes>"
      ]
     },
     "metadata": {
      "needs_background": "light"
     },
     "output_type": "display_data"
    }
   ],
   "source": [
    "sns.regplot(x=\"Price\", y=\"Volume\", data=itemDF)"
   ]
  },
  {
   "cell_type": "markdown",
   "id": "c1e21cb7-6026-4651-88a6-88f2b230a959",
   "metadata": {},
   "source": [
    "#### Promo Price Data"
   ]
  },
  {
   "cell_type": "code",
   "execution_count": 19,
   "id": "55c245c4-1daa-42a6-8768-1b56498dc4af",
   "metadata": {},
   "outputs": [
    {
     "data": {
      "text/html": [
       "<div>\n",
       "<style scoped>\n",
       "    .dataframe tbody tr th:only-of-type {\n",
       "        vertical-align: middle;\n",
       "    }\n",
       "\n",
       "    .dataframe tbody tr th {\n",
       "        vertical-align: top;\n",
       "    }\n",
       "\n",
       "    .dataframe thead th {\n",
       "        text-align: right;\n",
       "    }\n",
       "</style>\n",
       "<table border=\"1\" class=\"dataframe\">\n",
       "  <thead>\n",
       "    <tr style=\"text-align: right;\">\n",
       "      <th></th>\n",
       "      <th>ItemID</th>\n",
       "      <th>Week</th>\n",
       "      <th>CostPrice</th>\n",
       "      <th>Price</th>\n",
       "      <th>Volume</th>\n",
       "    </tr>\n",
       "  </thead>\n",
       "  <tbody>\n",
       "    <tr>\n",
       "      <th>268</th>\n",
       "      <td>Id1</td>\n",
       "      <td>2020-10-11</td>\n",
       "      <td>95.0</td>\n",
       "      <td>139.95</td>\n",
       "      <td>470.0</td>\n",
       "    </tr>\n",
       "    <tr>\n",
       "      <th>639</th>\n",
       "      <td>Id1</td>\n",
       "      <td>2021-08-15</td>\n",
       "      <td>94.0</td>\n",
       "      <td>125.00</td>\n",
       "      <td>290.0</td>\n",
       "    </tr>\n",
       "    <tr>\n",
       "      <th>283</th>\n",
       "      <td>Id1</td>\n",
       "      <td>2020-10-18</td>\n",
       "      <td>95.0</td>\n",
       "      <td>139.95</td>\n",
       "      <td>20.0</td>\n",
       "    </tr>\n",
       "    <tr>\n",
       "      <th>631</th>\n",
       "      <td>Id1</td>\n",
       "      <td>2021-08-08</td>\n",
       "      <td>94.0</td>\n",
       "      <td>125.00</td>\n",
       "      <td>450.0</td>\n",
       "    </tr>\n",
       "    <tr>\n",
       "      <th>624</th>\n",
       "      <td>Id1</td>\n",
       "      <td>2021-08-01</td>\n",
       "      <td>94.0</td>\n",
       "      <td>125.00</td>\n",
       "      <td>860.0</td>\n",
       "    </tr>\n",
       "  </tbody>\n",
       "</table>\n",
       "</div>"
      ],
      "text/plain": [
       "    ItemID        Week  CostPrice   Price  Volume\n",
       "268    Id1  2020-10-11       95.0  139.95   470.0\n",
       "639    Id1  2021-08-15       94.0  125.00   290.0\n",
       "283    Id1  2020-10-18       95.0  139.95    20.0\n",
       "631    Id1  2021-08-08       94.0  125.00   450.0\n",
       "624    Id1  2021-08-01       94.0  125.00   860.0"
      ]
     },
     "execution_count": 19,
     "metadata": {},
     "output_type": "execute_result"
    }
   ],
   "source": [
    "itemDF = promoDF[promoDF[\"ItemID\"]==item]\n",
    "itemDF.head()"
   ]
  },
  {
   "cell_type": "code",
   "execution_count": 20,
   "id": "4da3fb18-e701-46d1-b2b1-29a3343d8d69",
   "metadata": {},
   "outputs": [
    {
     "data": {
      "text/plain": [
       "array([104.95, 109.95, 119.95, 125.  , 139.95, 144.95])"
      ]
     },
     "execution_count": 20,
     "metadata": {},
     "output_type": "execute_result"
    }
   ],
   "source": [
    "np.unique(itemDF[\"Price\"])"
   ]
  },
  {
   "cell_type": "code",
   "execution_count": 21,
   "id": "cc37d7f7-48de-43f9-a40d-f7274f406084",
   "metadata": {},
   "outputs": [
    {
     "data": {
      "image/png": "[encoded data removed]",
      "text/plain": [
       "<Figure size 432x288 with 2 Axes>"
      ]
     },
     "metadata": {
      "needs_background": "light"
     },
     "output_type": "display_data"
    }
   ],
   "source": [
    "itemDF[[\"Price\",\"Volume\"]].hist()\n",
    "plt.show()"
   ]
  },
  {
   "cell_type": "code",
   "execution_count": 22,
   "id": "d04473e8-6921-422a-88a6-307fe498dba0",
   "metadata": {},
   "outputs": [
    {
     "data": {
      "text/plain": [
       "<AxesSubplot:xlabel='Price', ylabel='Volume'>"
      ]
     },
     "execution_count": 22,
     "metadata": {},
     "output_type": "execute_result"
    },
    {
     "data": {
      "image/png": "[encoded data removed]",
      "text/plain": [
       "<Figure size 432x288 with 1 Axes>"
      ]
     },
     "metadata": {
      "needs_background": "light"
     },
     "output_type": "display_data"
    }
   ],
   "source": [
    "sns.regplot(x=\"Price\", y=\"Volume\", data=itemDF)"
   ]
  },
  {
   "cell_type": "markdown",
   "id": "976d92ac-bf6a-4ced-bdf4-8af3fc767044",
   "metadata": {
    "tags": []
   },
   "source": [
    "### Data Visualization for ItemID=Id2\n",
    "Lest See Data for only one item. For this we will use \"ItemID=Id2\""
   ]
  },
  {
   "cell_type": "code",
   "execution_count": 23,
   "id": "fde93455-2696-4878-bbf1-77bbd1ade824",
   "metadata": {},
   "outputs": [],
   "source": [
    "item = \"Id2\""
   ]
  },
  {
   "cell_type": "markdown",
   "id": "5660b5a2-111d-459b-859c-47172cfb68c8",
   "metadata": {},
   "source": [
    "#### Regular Price Data"
   ]
  },
  {
   "cell_type": "code",
   "execution_count": 24,
   "id": "6306b5a3-32df-41e3-93e0-cd61921a6eeb",
   "metadata": {},
   "outputs": [
    {
     "data": {
      "text/html": [
       "<div>\n",
       "<style scoped>\n",
       "    .dataframe tbody tr th:only-of-type {\n",
       "        vertical-align: middle;\n",
       "    }\n",
       "\n",
       "    .dataframe tbody tr th {\n",
       "        vertical-align: top;\n",
       "    }\n",
       "\n",
       "    .dataframe thead th {\n",
       "        text-align: right;\n",
       "    }\n",
       "</style>\n",
       "<table border=\"1\" class=\"dataframe\">\n",
       "  <thead>\n",
       "    <tr style=\"text-align: right;\">\n",
       "      <th></th>\n",
       "      <th>ItemID</th>\n",
       "      <th>Week</th>\n",
       "      <th>CostPrice</th>\n",
       "      <th>Price</th>\n",
       "      <th>Volume</th>\n",
       "    </tr>\n",
       "  </thead>\n",
       "  <tbody>\n",
       "    <tr>\n",
       "      <th>521</th>\n",
       "      <td>Id2</td>\n",
       "      <td>2021-05-09</td>\n",
       "      <td>91.0</td>\n",
       "      <td>190.0</td>\n",
       "      <td>110.0</td>\n",
       "    </tr>\n",
       "    <tr>\n",
       "      <th>467</th>\n",
       "      <td>Id2</td>\n",
       "      <td>2021-03-28</td>\n",
       "      <td>91.0</td>\n",
       "      <td>190.0</td>\n",
       "      <td>70.0</td>\n",
       "    </tr>\n",
       "    <tr>\n",
       "      <th>447</th>\n",
       "      <td>Id2</td>\n",
       "      <td>2021-03-07</td>\n",
       "      <td>91.0</td>\n",
       "      <td>190.0</td>\n",
       "      <td>170.0</td>\n",
       "    </tr>\n",
       "    <tr>\n",
       "      <th>453</th>\n",
       "      <td>Id2</td>\n",
       "      <td>2021-03-14</td>\n",
       "      <td>91.0</td>\n",
       "      <td>190.0</td>\n",
       "      <td>80.0</td>\n",
       "    </tr>\n",
       "    <tr>\n",
       "      <th>233</th>\n",
       "      <td>Id2</td>\n",
       "      <td>2020-09-06</td>\n",
       "      <td>91.0</td>\n",
       "      <td>180.0</td>\n",
       "      <td>220.0</td>\n",
       "    </tr>\n",
       "  </tbody>\n",
       "</table>\n",
       "</div>"
      ],
      "text/plain": [
       "    ItemID        Week  CostPrice  Price  Volume\n",
       "521    Id2  2021-05-09       91.0  190.0   110.0\n",
       "467    Id2  2021-03-28       91.0  190.0    70.0\n",
       "447    Id2  2021-03-07       91.0  190.0   170.0\n",
       "453    Id2  2021-03-14       91.0  190.0    80.0\n",
       "233    Id2  2020-09-06       91.0  180.0   220.0"
      ]
     },
     "execution_count": 24,
     "metadata": {},
     "output_type": "execute_result"
    }
   ],
   "source": [
    "itemDF = regularDF[regularDF[\"ItemID\"]==item]\n",
    "itemDF.head()"
   ]
  },
  {
   "cell_type": "code",
   "execution_count": 25,
   "id": "e20727d5-ed62-4958-a45e-33c1dc7ffdcb",
   "metadata": {},
   "outputs": [
    {
     "data": {
      "text/plain": [
       "array([180., 190., 200.])"
      ]
     },
     "execution_count": 25,
     "metadata": {},
     "output_type": "execute_result"
    }
   ],
   "source": [
    "np.unique(itemDF[\"Price\"])"
   ]
  },
  {
   "cell_type": "code",
   "execution_count": 26,
   "id": "531e5ce8-a818-4673-83fb-9f6ee3d5bb89",
   "metadata": {},
   "outputs": [
    {
     "data": {
      "image/png": "[encoded data removed]",
      "text/plain": [
       "<Figure size 432x288 with 2 Axes>"
      ]
     },
     "metadata": {
      "needs_background": "light"
     },
     "output_type": "display_data"
    }
   ],
   "source": [
    "itemDF[[\"Price\",\"Volume\"]].hist()\n",
    "plt.show()"
   ]
  },
  {
   "cell_type": "code",
   "execution_count": 27,
   "id": "3a6ec519-3ab1-4622-b215-54942f5b0cfb",
   "metadata": {},
   "outputs": [
    {
     "data": {
      "text/plain": [
       "<AxesSubplot:xlabel='Price', ylabel='Volume'>"
      ]
     },
     "execution_count": 27,
     "metadata": {},
     "output_type": "execute_result"
    },
    {
     "data": {
      "image/png": "[encoded data removed]",
      "text/plain": [
       "<Figure size 432x288 with 1 Axes>"
      ]
     },
     "metadata": {
      "needs_background": "light"
     },
     "output_type": "display_data"
    }
   ],
   "source": [
    "sns.regplot(x=\"Price\", y=\"Volume\", data=itemDF)"
   ]
  },
  {
   "cell_type": "markdown",
   "id": "af1b808c-dbcc-49df-a7c6-101633ffd730",
   "metadata": {},
   "source": [
    "#### Promo Price Data"
   ]
  },
  {
   "cell_type": "code",
   "execution_count": 28,
   "id": "19a41e69-8594-43a2-a7ee-ca1f619c9142",
   "metadata": {},
   "outputs": [
    {
     "data": {
      "text/html": [
       "<div>\n",
       "<style scoped>\n",
       "    .dataframe tbody tr th:only-of-type {\n",
       "        vertical-align: middle;\n",
       "    }\n",
       "\n",
       "    .dataframe tbody tr th {\n",
       "        vertical-align: top;\n",
       "    }\n",
       "\n",
       "    .dataframe thead th {\n",
       "        text-align: right;\n",
       "    }\n",
       "</style>\n",
       "<table border=\"1\" class=\"dataframe\">\n",
       "  <thead>\n",
       "    <tr style=\"text-align: right;\">\n",
       "      <th></th>\n",
       "      <th>ItemID</th>\n",
       "      <th>Week</th>\n",
       "      <th>CostPrice</th>\n",
       "      <th>Price</th>\n",
       "      <th>Volume</th>\n",
       "    </tr>\n",
       "  </thead>\n",
       "  <tbody>\n",
       "    <tr>\n",
       "      <th>200</th>\n",
       "      <td>Id2</td>\n",
       "      <td>2020-08-09</td>\n",
       "      <td>91.0</td>\n",
       "      <td>149.95</td>\n",
       "      <td>170.0</td>\n",
       "    </tr>\n",
       "    <tr>\n",
       "      <th>689</th>\n",
       "      <td>Id2</td>\n",
       "      <td>2021-09-26</td>\n",
       "      <td>91.0</td>\n",
       "      <td>169.95</td>\n",
       "      <td>170.0</td>\n",
       "    </tr>\n",
       "    <tr>\n",
       "      <th>174</th>\n",
       "      <td>Id2</td>\n",
       "      <td>2020-07-19</td>\n",
       "      <td>91.0</td>\n",
       "      <td>149.95</td>\n",
       "      <td>350.0</td>\n",
       "    </tr>\n",
       "    <tr>\n",
       "      <th>696</th>\n",
       "      <td>Id2</td>\n",
       "      <td>2021-10-03</td>\n",
       "      <td>91.0</td>\n",
       "      <td>169.95</td>\n",
       "      <td>280.0</td>\n",
       "    </tr>\n",
       "    <tr>\n",
       "      <th>179</th>\n",
       "      <td>Id2</td>\n",
       "      <td>2020-07-26</td>\n",
       "      <td>91.0</td>\n",
       "      <td>149.95</td>\n",
       "      <td>410.0</td>\n",
       "    </tr>\n",
       "  </tbody>\n",
       "</table>\n",
       "</div>"
      ],
      "text/plain": [
       "    ItemID        Week  CostPrice   Price  Volume\n",
       "200    Id2  2020-08-09       91.0  149.95   170.0\n",
       "689    Id2  2021-09-26       91.0  169.95   170.0\n",
       "174    Id2  2020-07-19       91.0  149.95   350.0\n",
       "696    Id2  2021-10-03       91.0  169.95   280.0\n",
       "179    Id2  2020-07-26       91.0  149.95   410.0"
      ]
     },
     "execution_count": 28,
     "metadata": {},
     "output_type": "execute_result"
    }
   ],
   "source": [
    "itemDF = promoDF[promoDF[\"ItemID\"]==item]\n",
    "itemDF.head()"
   ]
  },
  {
   "cell_type": "code",
   "execution_count": 29,
   "id": "106df401-4189-4e4f-bdc6-3151af9d13bc",
   "metadata": {},
   "outputs": [
    {
     "data": {
      "text/plain": [
       "array([149.95, 154.95, 159.95, 169.95, 169.96])"
      ]
     },
     "execution_count": 29,
     "metadata": {},
     "output_type": "execute_result"
    }
   ],
   "source": [
    "np.unique(itemDF[\"Price\"])"
   ]
  },
  {
   "cell_type": "code",
   "execution_count": 30,
   "id": "00c382a2-b20a-4cec-9885-33e02243add9",
   "metadata": {},
   "outputs": [
    {
     "data": {
      "image/png": "[encoded data removed]",
      "text/plain": [
       "<Figure size 432x288 with 2 Axes>"
      ]
     },
     "metadata": {
      "needs_background": "light"
     },
     "output_type": "display_data"
    }
   ],
   "source": [
    "itemDF[[\"Price\",\"Volume\"]].hist()\n",
    "plt.show()"
   ]
  },
  {
   "cell_type": "code",
   "execution_count": 31,
   "id": "900f0448-330e-46f1-a730-399cba99f71a",
   "metadata": {},
   "outputs": [
    {
     "data": {
      "text/plain": [
       "<AxesSubplot:xlabel='Price', ylabel='Volume'>"
      ]
     },
     "execution_count": 31,
     "metadata": {},
     "output_type": "execute_result"
    },
    {
     "data": {
      "image/png": "[encoded data removed]",
      "text/plain": [
       "<Figure size 432x288 with 1 Axes>"
      ]
     },
     "metadata": {
      "needs_background": "light"
     },
     "output_type": "display_data"
    }
   ],
   "source": [
    "sns.regplot(x=\"Price\", y=\"Volume\", data=itemDF)"
   ]
  },
  {
   "cell_type": "markdown",
   "id": "4980708f-8fd0-4b0c-98d9-5fafbdf3391b",
   "metadata": {
    "tags": []
   },
   "source": [
    "### Data Visualization for ItemID=Id3\n",
    "Lest See Data for only one item. For this we will use \"ItemID=Id3\""
   ]
  },
  {
   "cell_type": "code",
   "execution_count": 32,
   "id": "6c4dac70-75b3-46b6-a864-9d344d34e3e7",
   "metadata": {},
   "outputs": [],
   "source": [
    "item = \"Id3\""
   ]
  },
  {
   "cell_type": "markdown",
   "id": "4af94407-a339-41ba-bbb1-503447e5e58e",
   "metadata": {},
   "source": [
    "#### Regular Price Data"
   ]
  },
  {
   "cell_type": "code",
   "execution_count": 33,
   "id": "dc37bb29-51bd-45d5-89e9-0b8616fc6a75",
   "metadata": {},
   "outputs": [
    {
     "data": {
      "text/html": [
       "<div>\n",
       "<style scoped>\n",
       "    .dataframe tbody tr th:only-of-type {\n",
       "        vertical-align: middle;\n",
       "    }\n",
       "\n",
       "    .dataframe tbody tr th {\n",
       "        vertical-align: top;\n",
       "    }\n",
       "\n",
       "    .dataframe thead th {\n",
       "        text-align: right;\n",
       "    }\n",
       "</style>\n",
       "<table border=\"1\" class=\"dataframe\">\n",
       "  <thead>\n",
       "    <tr style=\"text-align: right;\">\n",
       "      <th></th>\n",
       "      <th>ItemID</th>\n",
       "      <th>Week</th>\n",
       "      <th>CostPrice</th>\n",
       "      <th>Price</th>\n",
       "      <th>Volume</th>\n",
       "    </tr>\n",
       "  </thead>\n",
       "  <tbody>\n",
       "    <tr>\n",
       "      <th>527</th>\n",
       "      <td>Id3</td>\n",
       "      <td>2021-05-16</td>\n",
       "      <td>99.0</td>\n",
       "      <td>200.0</td>\n",
       "      <td>140.0</td>\n",
       "    </tr>\n",
       "    <tr>\n",
       "      <th>418</th>\n",
       "      <td>Id3</td>\n",
       "      <td>2021-02-14</td>\n",
       "      <td>99.0</td>\n",
       "      <td>200.0</td>\n",
       "      <td>90.0</td>\n",
       "    </tr>\n",
       "    <tr>\n",
       "      <th>537</th>\n",
       "      <td>Id3</td>\n",
       "      <td>2021-05-23</td>\n",
       "      <td>99.0</td>\n",
       "      <td>200.0</td>\n",
       "      <td>200.0</td>\n",
       "    </tr>\n",
       "    <tr>\n",
       "      <th>644</th>\n",
       "      <td>Id3</td>\n",
       "      <td>2021-08-22</td>\n",
       "      <td>99.0</td>\n",
       "      <td>205.0</td>\n",
       "      <td>230.0</td>\n",
       "    </tr>\n",
       "    <tr>\n",
       "      <th>613</th>\n",
       "      <td>Id3</td>\n",
       "      <td>2021-07-25</td>\n",
       "      <td>99.0</td>\n",
       "      <td>205.0</td>\n",
       "      <td>260.0</td>\n",
       "    </tr>\n",
       "  </tbody>\n",
       "</table>\n",
       "</div>"
      ],
      "text/plain": [
       "    ItemID        Week  CostPrice  Price  Volume\n",
       "527    Id3  2021-05-16       99.0  200.0   140.0\n",
       "418    Id3  2021-02-14       99.0  200.0    90.0\n",
       "537    Id3  2021-05-23       99.0  200.0   200.0\n",
       "644    Id3  2021-08-22       99.0  205.0   230.0\n",
       "613    Id3  2021-07-25       99.0  205.0   260.0"
      ]
     },
     "execution_count": 33,
     "metadata": {},
     "output_type": "execute_result"
    }
   ],
   "source": [
    "itemDF = regularDF[regularDF[\"ItemID\"]==item]\n",
    "itemDF.head()"
   ]
  },
  {
   "cell_type": "code",
   "execution_count": 34,
   "id": "e6c1eaba-cc7a-400d-b6d8-a49cfdbb088b",
   "metadata": {},
   "outputs": [
    {
     "data": {
      "text/plain": [
       "array([200., 205., 210.])"
      ]
     },
     "execution_count": 34,
     "metadata": {},
     "output_type": "execute_result"
    }
   ],
   "source": [
    "np.unique(itemDF[\"Price\"])"
   ]
  },
  {
   "cell_type": "code",
   "execution_count": 35,
   "id": "c0b4d302-ea4c-4084-9b80-7d898226747c",
   "metadata": {},
   "outputs": [
    {
     "data": {
      "image/png": "[encoded data removed]",
      "text/plain": [
       "<Figure size 432x288 with 2 Axes>"
      ]
     },
     "metadata": {
      "needs_background": "light"
     },
     "output_type": "display_data"
    }
   ],
   "source": [
    "itemDF[[\"Price\",\"Volume\"]].hist()\n",
    "plt.show()"
   ]
  },
  {
   "cell_type": "code",
   "execution_count": 36,
   "id": "e08a1bde-deef-435e-9da9-6a72cbae0be0",
   "metadata": {},
   "outputs": [
    {
     "data": {
      "text/plain": [
       "<AxesSubplot:xlabel='Price', ylabel='Volume'>"
      ]
     },
     "execution_count": 36,
     "metadata": {},
     "output_type": "execute_result"
    },
    {
     "data": {
      "image/png": "[encoded data removed]",
      "text/plain": [
       "<Figure size 432x288 with 1 Axes>"
      ]
     },
     "metadata": {
      "needs_background": "light"
     },
     "output_type": "display_data"
    }
   ],
   "source": [
    "sns.regplot(x=\"Price\", y=\"Volume\", data=itemDF)"
   ]
  },
  {
   "cell_type": "markdown",
   "id": "9c0430fa-30a4-4903-ac92-a50efeb14c00",
   "metadata": {},
   "source": [
    "#### Promo Price Data"
   ]
  },
  {
   "cell_type": "code",
   "execution_count": 37,
   "id": "3f90f751-b461-40e3-91c8-e5006a64da40",
   "metadata": {},
   "outputs": [
    {
     "data": {
      "text/html": [
       "<div>\n",
       "<style scoped>\n",
       "    .dataframe tbody tr th:only-of-type {\n",
       "        vertical-align: middle;\n",
       "    }\n",
       "\n",
       "    .dataframe tbody tr th {\n",
       "        vertical-align: top;\n",
       "    }\n",
       "\n",
       "    .dataframe thead th {\n",
       "        text-align: right;\n",
       "    }\n",
       "</style>\n",
       "<table border=\"1\" class=\"dataframe\">\n",
       "  <thead>\n",
       "    <tr style=\"text-align: right;\">\n",
       "      <th></th>\n",
       "      <th>ItemID</th>\n",
       "      <th>Week</th>\n",
       "      <th>CostPrice</th>\n",
       "      <th>Price</th>\n",
       "      <th>Volume</th>\n",
       "    </tr>\n",
       "  </thead>\n",
       "  <tbody>\n",
       "    <tr>\n",
       "      <th>113</th>\n",
       "      <td>Id3</td>\n",
       "      <td>2020-05-31</td>\n",
       "      <td>95.0</td>\n",
       "      <td>159.95</td>\n",
       "      <td>390.0</td>\n",
       "    </tr>\n",
       "    <tr>\n",
       "      <th>28</th>\n",
       "      <td>Id3</td>\n",
       "      <td>2020-03-08</td>\n",
       "      <td>70.0</td>\n",
       "      <td>149.95</td>\n",
       "      <td>380.0</td>\n",
       "    </tr>\n",
       "    <tr>\n",
       "      <th>418</th>\n",
       "      <td>Id3</td>\n",
       "      <td>2021-02-14</td>\n",
       "      <td>99.0</td>\n",
       "      <td>169.95</td>\n",
       "      <td>70.0</td>\n",
       "    </tr>\n",
       "    <tr>\n",
       "      <th>108</th>\n",
       "      <td>Id3</td>\n",
       "      <td>2020-05-24</td>\n",
       "      <td>95.0</td>\n",
       "      <td>159.95</td>\n",
       "      <td>200.0</td>\n",
       "    </tr>\n",
       "    <tr>\n",
       "      <th>434</th>\n",
       "      <td>Id3</td>\n",
       "      <td>2021-02-28</td>\n",
       "      <td>99.0</td>\n",
       "      <td>169.95</td>\n",
       "      <td>280.0</td>\n",
       "    </tr>\n",
       "  </tbody>\n",
       "</table>\n",
       "</div>"
      ],
      "text/plain": [
       "    ItemID        Week  CostPrice   Price  Volume\n",
       "113    Id3  2020-05-31       95.0  159.95   390.0\n",
       "28     Id3  2020-03-08       70.0  149.95   380.0\n",
       "418    Id3  2021-02-14       99.0  169.95    70.0\n",
       "108    Id3  2020-05-24       95.0  159.95   200.0\n",
       "434    Id3  2021-02-28       99.0  169.95   280.0"
      ]
     },
     "execution_count": 37,
     "metadata": {},
     "output_type": "execute_result"
    }
   ],
   "source": [
    "itemDF = promoDF[promoDF[\"ItemID\"]==item]\n",
    "itemDF.head()"
   ]
  },
  {
   "cell_type": "code",
   "execution_count": 38,
   "id": "48ce59d9-6824-4fa7-902a-29d97ed934f3",
   "metadata": {},
   "outputs": [
    {
     "data": {
      "text/plain": [
       "array([149.95, 154.95, 159.95, 169.95, 174.95, 179.95])"
      ]
     },
     "execution_count": 38,
     "metadata": {},
     "output_type": "execute_result"
    }
   ],
   "source": [
    "np.unique(itemDF[\"Price\"])"
   ]
  },
  {
   "cell_type": "code",
   "execution_count": 39,
   "id": "c14600eb-fbb2-4804-90eb-9b81aebedeae",
   "metadata": {},
   "outputs": [
    {
     "data": {
      "image/png": "[encoded data removed]",
      "text/plain": [
       "<Figure size 432x288 with 2 Axes>"
      ]
     },
     "metadata": {
      "needs_background": "light"
     },
     "output_type": "display_data"
    }
   ],
   "source": [
    "itemDF[[\"Price\",\"Volume\"]].hist()\n",
    "plt.show()"
   ]
  },
  {
   "cell_type": "code",
   "execution_count": 40,
   "id": "5ccc6e5d-bc7d-4a3f-84bd-15aaeb789d85",
   "metadata": {},
   "outputs": [
    {
     "data": {
      "text/plain": [
       "<AxesSubplot:xlabel='Price', ylabel='Volume'>"
      ]
     },
     "execution_count": 40,
     "metadata": {},
     "output_type": "execute_result"
    },
    {
     "data": {
      "image/png": "[encoded data removed]",
      "text/plain": [
       "<Figure size 432x288 with 1 Axes>"
      ]
     },
     "metadata": {
      "needs_background": "light"
     },
     "output_type": "display_data"
    }
   ],
   "source": [
    "sns.regplot(x=\"Price\", y=\"Volume\", data=itemDF)"
   ]
  },
  {
   "cell_type": "markdown",
   "id": "021e6d5a-5e0b-4ce0-a2fd-5de5cdca3423",
   "metadata": {
    "tags": []
   },
   "source": [
    "### Data Visualization for ItemID=Id4\n",
    "Lest See Data for only one item. For this we will use \"ItemID=Id4\""
   ]
  },
  {
   "cell_type": "code",
   "execution_count": 41,
   "id": "5bf42124-af11-4a6a-b66a-82e4fcdfb082",
   "metadata": {},
   "outputs": [],
   "source": [
    "item = \"Id4\""
   ]
  },
  {
   "cell_type": "markdown",
   "id": "4c5b5771-771b-4ec7-bd49-94e1ab3a3eb9",
   "metadata": {},
   "source": [
    "#### Regular Price Data"
   ]
  },
  {
   "cell_type": "code",
   "execution_count": 42,
   "id": "f92b4f4c-88ce-4984-a321-5f8784e9b5a6",
   "metadata": {},
   "outputs": [
    {
     "data": {
      "text/html": [
       "<div>\n",
       "<style scoped>\n",
       "    .dataframe tbody tr th:only-of-type {\n",
       "        vertical-align: middle;\n",
       "    }\n",
       "\n",
       "    .dataframe tbody tr th {\n",
       "        vertical-align: top;\n",
       "    }\n",
       "\n",
       "    .dataframe thead th {\n",
       "        text-align: right;\n",
       "    }\n",
       "</style>\n",
       "<table border=\"1\" class=\"dataframe\">\n",
       "  <thead>\n",
       "    <tr style=\"text-align: right;\">\n",
       "      <th></th>\n",
       "      <th>ItemID</th>\n",
       "      <th>Week</th>\n",
       "      <th>CostPrice</th>\n",
       "      <th>Price</th>\n",
       "      <th>Volume</th>\n",
       "    </tr>\n",
       "  </thead>\n",
       "  <tbody>\n",
       "    <tr>\n",
       "      <th>481</th>\n",
       "      <td>Id4</td>\n",
       "      <td>2021-04-04</td>\n",
       "      <td>105.0</td>\n",
       "      <td>230.0</td>\n",
       "      <td>20.0</td>\n",
       "    </tr>\n",
       "    <tr>\n",
       "      <th>161</th>\n",
       "      <td>Id4</td>\n",
       "      <td>2020-07-12</td>\n",
       "      <td>105.0</td>\n",
       "      <td>220.0</td>\n",
       "      <td>20.0</td>\n",
       "    </tr>\n",
       "    <tr>\n",
       "      <th>840</th>\n",
       "      <td>Id4</td>\n",
       "      <td>2022-02-06</td>\n",
       "      <td>110.0</td>\n",
       "      <td>240.0</td>\n",
       "      <td>40.0</td>\n",
       "    </tr>\n",
       "    <tr>\n",
       "      <th>186</th>\n",
       "      <td>Id4</td>\n",
       "      <td>2020-07-26</td>\n",
       "      <td>105.0</td>\n",
       "      <td>220.0</td>\n",
       "      <td>30.0</td>\n",
       "    </tr>\n",
       "    <tr>\n",
       "      <th>811</th>\n",
       "      <td>Id4</td>\n",
       "      <td>2022-01-16</td>\n",
       "      <td>110.0</td>\n",
       "      <td>240.0</td>\n",
       "      <td>10.0</td>\n",
       "    </tr>\n",
       "  </tbody>\n",
       "</table>\n",
       "</div>"
      ],
      "text/plain": [
       "    ItemID        Week  CostPrice  Price  Volume\n",
       "481    Id4  2021-04-04      105.0  230.0    20.0\n",
       "161    Id4  2020-07-12      105.0  220.0    20.0\n",
       "840    Id4  2022-02-06      110.0  240.0    40.0\n",
       "186    Id4  2020-07-26      105.0  220.0    30.0\n",
       "811    Id4  2022-01-16      110.0  240.0    10.0"
      ]
     },
     "execution_count": 42,
     "metadata": {},
     "output_type": "execute_result"
    }
   ],
   "source": [
    "itemDF = regularDF[regularDF[\"ItemID\"]==item]\n",
    "itemDF.head()"
   ]
  },
  {
   "cell_type": "code",
   "execution_count": 43,
   "id": "db86fae9-4d35-4958-9c6f-ec5dfc0ac2ba",
   "metadata": {},
   "outputs": [
    {
     "data": {
      "text/plain": [
       "array([220., 230., 240.])"
      ]
     },
     "execution_count": 43,
     "metadata": {},
     "output_type": "execute_result"
    }
   ],
   "source": [
    "np.unique(itemDF[\"Price\"])"
   ]
  },
  {
   "cell_type": "code",
   "execution_count": 44,
   "id": "a66369b2-fa63-4e27-ae5b-b1fc4283e435",
   "metadata": {},
   "outputs": [
    {
     "data": {
      "image/png": "[encoded data removed]",
      "text/plain": [
       "<Figure size 432x288 with 2 Axes>"
      ]
     },
     "metadata": {
      "needs_background": "light"
     },
     "output_type": "display_data"
    }
   ],
   "source": [
    "itemDF[[\"Price\",\"Volume\"]].hist()\n",
    "plt.show()"
   ]
  },
  {
   "cell_type": "code",
   "execution_count": 45,
   "id": "7a2cb0b0-67ff-45e5-bc8f-244e58abbec9",
   "metadata": {},
   "outputs": [
    {
     "data": {
      "text/plain": [
       "<AxesSubplot:xlabel='Price', ylabel='Volume'>"
      ]
     },
     "execution_count": 45,
     "metadata": {},
     "output_type": "execute_result"
    },
    {
     "data": {
      "image/png": "[encoded data removed]",
      "text/plain": [
       "<Figure size 432x288 with 1 Axes>"
      ]
     },
     "metadata": {
      "needs_background": "light"
     },
     "output_type": "display_data"
    }
   ],
   "source": [
    "sns.regplot(x=\"Price\", y=\"Volume\", data=itemDF)"
   ]
  },
  {
   "cell_type": "markdown",
   "id": "fdf45182-6e7b-4cf4-88c5-e6989e4a80db",
   "metadata": {},
   "source": [
    "#### Promo Price Data"
   ]
  },
  {
   "cell_type": "code",
   "execution_count": 46,
   "id": "8beb7e72-6e8a-41fb-a724-51cb9c2ff98d",
   "metadata": {},
   "outputs": [
    {
     "data": {
      "text/html": [
       "<div>\n",
       "<style scoped>\n",
       "    .dataframe tbody tr th:only-of-type {\n",
       "        vertical-align: middle;\n",
       "    }\n",
       "\n",
       "    .dataframe tbody tr th {\n",
       "        vertical-align: top;\n",
       "    }\n",
       "\n",
       "    .dataframe thead th {\n",
       "        text-align: right;\n",
       "    }\n",
       "</style>\n",
       "<table border=\"1\" class=\"dataframe\">\n",
       "  <thead>\n",
       "    <tr style=\"text-align: right;\">\n",
       "      <th></th>\n",
       "      <th>ItemID</th>\n",
       "      <th>Week</th>\n",
       "      <th>CostPrice</th>\n",
       "      <th>Price</th>\n",
       "      <th>Volume</th>\n",
       "    </tr>\n",
       "  </thead>\n",
       "  <tbody>\n",
       "    <tr>\n",
       "      <th>553</th>\n",
       "      <td>Id4</td>\n",
       "      <td>2021-06-06</td>\n",
       "      <td>105.0</td>\n",
       "      <td>209.95</td>\n",
       "      <td>10.0</td>\n",
       "    </tr>\n",
       "    <tr>\n",
       "      <th>570</th>\n",
       "      <td>Id4</td>\n",
       "      <td>2021-06-20</td>\n",
       "      <td>105.0</td>\n",
       "      <td>209.95</td>\n",
       "      <td>50.0</td>\n",
       "    </tr>\n",
       "    <tr>\n",
       "      <th>560</th>\n",
       "      <td>Id4</td>\n",
       "      <td>2021-06-13</td>\n",
       "      <td>105.0</td>\n",
       "      <td>209.95</td>\n",
       "      <td>10.0</td>\n",
       "    </tr>\n",
       "  </tbody>\n",
       "</table>\n",
       "</div>"
      ],
      "text/plain": [
       "    ItemID        Week  CostPrice   Price  Volume\n",
       "553    Id4  2021-06-06      105.0  209.95    10.0\n",
       "570    Id4  2021-06-20      105.0  209.95    50.0\n",
       "560    Id4  2021-06-13      105.0  209.95    10.0"
      ]
     },
     "execution_count": 46,
     "metadata": {},
     "output_type": "execute_result"
    }
   ],
   "source": [
    "itemDF = promoDF[promoDF[\"ItemID\"]==item]\n",
    "itemDF.head()"
   ]
  },
  {
   "cell_type": "code",
   "execution_count": 47,
   "id": "037ce74c-fbef-4cf1-b323-a550234e9d29",
   "metadata": {},
   "outputs": [
    {
     "data": {
      "text/plain": [
       "array([209.95])"
      ]
     },
     "execution_count": 47,
     "metadata": {},
     "output_type": "execute_result"
    }
   ],
   "source": [
    "np.unique(itemDF[\"Price\"])"
   ]
  },
  {
   "cell_type": "code",
   "execution_count": 48,
   "id": "e7e80909-e23d-42ec-af5c-23e73771eef4",
   "metadata": {},
   "outputs": [
    {
     "data": {
      "image/png": "[encoded data removed]",
      "text/plain": [
       "<Figure size 432x288 with 2 Axes>"
      ]
     },
     "metadata": {
      "needs_background": "light"
     },
     "output_type": "display_data"
    }
   ],
   "source": [
    "itemDF[[\"Price\",\"Volume\"]].hist()\n",
    "plt.show()"
   ]
  },
  {
   "cell_type": "code",
   "execution_count": 49,
   "id": "65c102b7-6b7e-4ae1-99a4-ab6a9c5235d7",
   "metadata": {},
   "outputs": [
    {
     "data": {
      "text/plain": [
       "<AxesSubplot:xlabel='Price', ylabel='Volume'>"
      ]
     },
     "execution_count": 49,
     "metadata": {},
     "output_type": "execute_result"
    },
    {
     "data": {
      "image/png": "[encoded data removed]",
      "text/plain": [
       "<Figure size 432x288 with 1 Axes>"
      ]
     },
     "metadata": {
      "needs_background": "light"
     },
     "output_type": "display_data"
    }
   ],
   "source": [
    "sns.regplot(x=\"Price\", y=\"Volume\", data=itemDF)"
   ]
  },
  {
   "cell_type": "markdown",
   "id": "a288a4c5-e084-4f4c-b0f4-67f57753c88a",
   "metadata": {
    "tags": []
   },
   "source": [
    "### Data Visualization for ItemID=Id5\n",
    "Lest See Data for only one item. For this we will use \"ItemID=Id5\""
   ]
  },
  {
   "cell_type": "code",
   "execution_count": 50,
   "id": "ba93a889-cc2d-417f-8ae0-f0a85c4b3f71",
   "metadata": {},
   "outputs": [],
   "source": [
    "item = \"Id5\""
   ]
  },
  {
   "cell_type": "markdown",
   "id": "75764587-d241-42bb-abe4-cb37e27a1a7b",
   "metadata": {},
   "source": [
    "#### Regular Price Data"
   ]
  },
  {
   "cell_type": "code",
   "execution_count": 51,
   "id": "10550ce0-744d-44ff-87b6-a96b880f8fe6",
   "metadata": {},
   "outputs": [
    {
     "data": {
      "text/html": [
       "<div>\n",
       "<style scoped>\n",
       "    .dataframe tbody tr th:only-of-type {\n",
       "        vertical-align: middle;\n",
       "    }\n",
       "\n",
       "    .dataframe tbody tr th {\n",
       "        vertical-align: top;\n",
       "    }\n",
       "\n",
       "    .dataframe thead th {\n",
       "        text-align: right;\n",
       "    }\n",
       "</style>\n",
       "<table border=\"1\" class=\"dataframe\">\n",
       "  <thead>\n",
       "    <tr style=\"text-align: right;\">\n",
       "      <th></th>\n",
       "      <th>ItemID</th>\n",
       "      <th>Week</th>\n",
       "      <th>CostPrice</th>\n",
       "      <th>Price</th>\n",
       "      <th>Volume</th>\n",
       "    </tr>\n",
       "  </thead>\n",
       "  <tbody>\n",
       "    <tr>\n",
       "      <th>558</th>\n",
       "      <td>Id5</td>\n",
       "      <td>2021-06-06</td>\n",
       "      <td>84.0</td>\n",
       "      <td>200.0</td>\n",
       "      <td>30.0</td>\n",
       "    </tr>\n",
       "    <tr>\n",
       "      <th>488</th>\n",
       "      <td>Id5</td>\n",
       "      <td>2021-04-11</td>\n",
       "      <td>84.0</td>\n",
       "      <td>190.0</td>\n",
       "      <td>50.0</td>\n",
       "    </tr>\n",
       "    <tr>\n",
       "      <th>509</th>\n",
       "      <td>Id5</td>\n",
       "      <td>2021-05-02</td>\n",
       "      <td>84.0</td>\n",
       "      <td>190.0</td>\n",
       "      <td>40.0</td>\n",
       "    </tr>\n",
       "    <tr>\n",
       "      <th>399</th>\n",
       "      <td>Id5</td>\n",
       "      <td>2021-01-24</td>\n",
       "      <td>84.0</td>\n",
       "      <td>190.0</td>\n",
       "      <td>140.0</td>\n",
       "    </tr>\n",
       "    <tr>\n",
       "      <th>440</th>\n",
       "      <td>Id5</td>\n",
       "      <td>2021-03-07</td>\n",
       "      <td>84.0</td>\n",
       "      <td>190.0</td>\n",
       "      <td>40.0</td>\n",
       "    </tr>\n",
       "  </tbody>\n",
       "</table>\n",
       "</div>"
      ],
      "text/plain": [
       "    ItemID        Week  CostPrice  Price  Volume\n",
       "558    Id5  2021-06-06       84.0  200.0    30.0\n",
       "488    Id5  2021-04-11       84.0  190.0    50.0\n",
       "509    Id5  2021-05-02       84.0  190.0    40.0\n",
       "399    Id5  2021-01-24       84.0  190.0   140.0\n",
       "440    Id5  2021-03-07       84.0  190.0    40.0"
      ]
     },
     "execution_count": 51,
     "metadata": {},
     "output_type": "execute_result"
    }
   ],
   "source": [
    "itemDF = regularDF[regularDF[\"ItemID\"]==item]\n",
    "itemDF.head()"
   ]
  },
  {
   "cell_type": "code",
   "execution_count": 52,
   "id": "bfad9df0-8cff-4ce7-80f7-496cc6bc236d",
   "metadata": {},
   "outputs": [
    {
     "data": {
      "text/plain": [
       "array([180., 190., 200.])"
      ]
     },
     "execution_count": 52,
     "metadata": {},
     "output_type": "execute_result"
    }
   ],
   "source": [
    "np.unique(itemDF[\"Price\"])"
   ]
  },
  {
   "cell_type": "code",
   "execution_count": 53,
   "id": "21385bd0-1fb3-4c19-9642-13f498839ddc",
   "metadata": {},
   "outputs": [
    {
     "data": {
      "image/png": "[encoded data removed]",
      "text/plain": [
       "<Figure size 432x288 with 2 Axes>"
      ]
     },
     "metadata": {
      "needs_background": "light"
     },
     "output_type": "display_data"
    }
   ],
   "source": [
    "itemDF[[\"Price\",\"Volume\"]].hist()\n",
    "plt.show()"
   ]
  },
  {
   "cell_type": "code",
   "execution_count": 54,
   "id": "08d3a469-3b56-4344-a9a6-3d0e9ff2696d",
   "metadata": {},
   "outputs": [
    {
     "data": {
      "text/plain": [
       "<AxesSubplot:xlabel='Price', ylabel='Volume'>"
      ]
     },
     "execution_count": 54,
     "metadata": {},
     "output_type": "execute_result"
    },
    {
     "data": {
      "image/png": "[encoded data removed]",
      "text/plain": [
       "<Figure size 432x288 with 1 Axes>"
      ]
     },
     "metadata": {
      "needs_background": "light"
     },
     "output_type": "display_data"
    }
   ],
   "source": [
    "sns.regplot(x=\"Price\", y=\"Volume\", data=itemDF)"
   ]
  },
  {
   "cell_type": "markdown",
   "id": "bb6329f0-4002-4593-a156-73d5fac13bfc",
   "metadata": {},
   "source": [
    "#### Promo Price Data"
   ]
  },
  {
   "cell_type": "code",
   "execution_count": 55,
   "id": "38280e26-b637-45e3-8cb1-d436207d6eed",
   "metadata": {},
   "outputs": [
    {
     "data": {
      "text/html": [
       "<div>\n",
       "<style scoped>\n",
       "    .dataframe tbody tr th:only-of-type {\n",
       "        vertical-align: middle;\n",
       "    }\n",
       "\n",
       "    .dataframe tbody tr th {\n",
       "        vertical-align: top;\n",
       "    }\n",
       "\n",
       "    .dataframe thead th {\n",
       "        text-align: right;\n",
       "    }\n",
       "</style>\n",
       "<table border=\"1\" class=\"dataframe\">\n",
       "  <thead>\n",
       "    <tr style=\"text-align: right;\">\n",
       "      <th></th>\n",
       "      <th>ItemID</th>\n",
       "      <th>Week</th>\n",
       "      <th>CostPrice</th>\n",
       "      <th>Price</th>\n",
       "      <th>Volume</th>\n",
       "    </tr>\n",
       "  </thead>\n",
       "  <tbody>\n",
       "    <tr>\n",
       "      <th>558</th>\n",
       "      <td>Id5</td>\n",
       "      <td>2021-06-06</td>\n",
       "      <td>84.0</td>\n",
       "      <td>169.95</td>\n",
       "      <td>20.0</td>\n",
       "    </tr>\n",
       "    <tr>\n",
       "      <th>535</th>\n",
       "      <td>Id5</td>\n",
       "      <td>2021-05-23</td>\n",
       "      <td>84.0</td>\n",
       "      <td>169.95</td>\n",
       "      <td>60.0</td>\n",
       "    </tr>\n",
       "    <tr>\n",
       "      <th>526</th>\n",
       "      <td>Id5</td>\n",
       "      <td>2021-05-16</td>\n",
       "      <td>84.0</td>\n",
       "      <td>169.95</td>\n",
       "      <td>40.0</td>\n",
       "    </tr>\n",
       "    <tr>\n",
       "      <th>543</th>\n",
       "      <td>Id5</td>\n",
       "      <td>2021-05-30</td>\n",
       "      <td>84.0</td>\n",
       "      <td>169.95</td>\n",
       "      <td>70.0</td>\n",
       "    </tr>\n",
       "    <tr>\n",
       "      <th>228</th>\n",
       "      <td>Id5</td>\n",
       "      <td>2020-09-06</td>\n",
       "      <td>84.0</td>\n",
       "      <td>169.95</td>\n",
       "      <td>70.0</td>\n",
       "    </tr>\n",
       "  </tbody>\n",
       "</table>\n",
       "</div>"
      ],
      "text/plain": [
       "    ItemID        Week  CostPrice   Price  Volume\n",
       "558    Id5  2021-06-06       84.0  169.95    20.0\n",
       "535    Id5  2021-05-23       84.0  169.95    60.0\n",
       "526    Id5  2021-05-16       84.0  169.95    40.0\n",
       "543    Id5  2021-05-30       84.0  169.95    70.0\n",
       "228    Id5  2020-09-06       84.0  169.95    70.0"
      ]
     },
     "execution_count": 55,
     "metadata": {},
     "output_type": "execute_result"
    }
   ],
   "source": [
    "itemDF = promoDF[promoDF[\"ItemID\"]==item]\n",
    "itemDF.head()"
   ]
  },
  {
   "cell_type": "code",
   "execution_count": 56,
   "id": "b4ac3bf5-d284-43a7-a284-473e8a4d1d00",
   "metadata": {},
   "outputs": [
    {
     "data": {
      "text/plain": [
       "array([169.95])"
      ]
     },
     "execution_count": 56,
     "metadata": {},
     "output_type": "execute_result"
    }
   ],
   "source": [
    "np.unique(itemDF[\"Price\"])"
   ]
  },
  {
   "cell_type": "code",
   "execution_count": 57,
   "id": "1d39a566-bad5-40a0-84c5-a5c787fe014c",
   "metadata": {},
   "outputs": [
    {
     "data": {
      "image/png": "[encoded data removed]",
      "text/plain": [
       "<Figure size 432x288 with 2 Axes>"
      ]
     },
     "metadata": {
      "needs_background": "light"
     },
     "output_type": "display_data"
    }
   ],
   "source": [
    "itemDF[[\"Price\",\"Volume\"]].hist()\n",
    "plt.show()"
   ]
  },
  {
   "cell_type": "code",
   "execution_count": 58,
   "id": "abf9e3b8-7fb1-4610-bdb5-61c09df725e9",
   "metadata": {},
   "outputs": [
    {
     "data": {
      "text/plain": [
       "<AxesSubplot:xlabel='Price', ylabel='Volume'>"
      ]
     },
     "execution_count": 58,
     "metadata": {},
     "output_type": "execute_result"
    },
    {
     "data": {
      "image/png": "[encoded data removed]",
      "text/plain": [
       "<Figure size 432x288 with 1 Axes>"
      ]
     },
     "metadata": {
      "needs_background": "light"
     },
     "output_type": "display_data"
    }
   ],
   "source": [
    "sns.regplot(x=\"Price\", y=\"Volume\", data=itemDF)"
   ]
  },
  {
   "cell_type": "markdown",
   "id": "b5460c24-9905-4992-a8ca-baa3b11b8f51",
   "metadata": {
    "tags": []
   },
   "source": [
    "### Data Visualization for ItemID=Id6\n",
    "Lest See Data for only one item. For this we will use \"ItemID=Id6\""
   ]
  },
  {
   "cell_type": "code",
   "execution_count": 59,
   "id": "e3e401db-3772-4446-a3e4-8666d5bce3e4",
   "metadata": {},
   "outputs": [],
   "source": [
    "item = \"Id6\""
   ]
  },
  {
   "cell_type": "markdown",
   "id": "0d348214-3262-4910-a5c8-b380fb795638",
   "metadata": {},
   "source": [
    "#### Regular Price Data"
   ]
  },
  {
   "cell_type": "code",
   "execution_count": 60,
   "id": "cbb09978-da6d-4e39-a6d9-81b2807e180f",
   "metadata": {},
   "outputs": [
    {
     "data": {
      "text/html": [
       "<div>\n",
       "<style scoped>\n",
       "    .dataframe tbody tr th:only-of-type {\n",
       "        vertical-align: middle;\n",
       "    }\n",
       "\n",
       "    .dataframe tbody tr th {\n",
       "        vertical-align: top;\n",
       "    }\n",
       "\n",
       "    .dataframe thead th {\n",
       "        text-align: right;\n",
       "    }\n",
       "</style>\n",
       "<table border=\"1\" class=\"dataframe\">\n",
       "  <thead>\n",
       "    <tr style=\"text-align: right;\">\n",
       "      <th></th>\n",
       "      <th>ItemID</th>\n",
       "      <th>Week</th>\n",
       "      <th>CostPrice</th>\n",
       "      <th>Price</th>\n",
       "      <th>Volume</th>\n",
       "    </tr>\n",
       "  </thead>\n",
       "  <tbody>\n",
       "    <tr>\n",
       "      <th>795</th>\n",
       "      <td>Id6</td>\n",
       "      <td>2022-01-02</td>\n",
       "      <td>77.0</td>\n",
       "      <td>140.0</td>\n",
       "      <td>80.0</td>\n",
       "    </tr>\n",
       "    <tr>\n",
       "      <th>682</th>\n",
       "      <td>Id6</td>\n",
       "      <td>2021-09-19</td>\n",
       "      <td>73.0</td>\n",
       "      <td>140.0</td>\n",
       "      <td>170.0</td>\n",
       "    </tr>\n",
       "    <tr>\n",
       "      <th>731</th>\n",
       "      <td>Id6</td>\n",
       "      <td>2021-11-07</td>\n",
       "      <td>75.0</td>\n",
       "      <td>140.0</td>\n",
       "      <td>150.0</td>\n",
       "    </tr>\n",
       "    <tr>\n",
       "      <th>684</th>\n",
       "      <td>Id6</td>\n",
       "      <td>2021-09-26</td>\n",
       "      <td>73.0</td>\n",
       "      <td>140.0</td>\n",
       "      <td>100.0</td>\n",
       "    </tr>\n",
       "    <tr>\n",
       "      <th>710</th>\n",
       "      <td>Id6</td>\n",
       "      <td>2021-10-17</td>\n",
       "      <td>73.0</td>\n",
       "      <td>140.0</td>\n",
       "      <td>130.0</td>\n",
       "    </tr>\n",
       "  </tbody>\n",
       "</table>\n",
       "</div>"
      ],
      "text/plain": [
       "    ItemID        Week  CostPrice  Price  Volume\n",
       "795    Id6  2022-01-02       77.0  140.0    80.0\n",
       "682    Id6  2021-09-19       73.0  140.0   170.0\n",
       "731    Id6  2021-11-07       75.0  140.0   150.0\n",
       "684    Id6  2021-09-26       73.0  140.0   100.0\n",
       "710    Id6  2021-10-17       73.0  140.0   130.0"
      ]
     },
     "execution_count": 60,
     "metadata": {},
     "output_type": "execute_result"
    }
   ],
   "source": [
    "itemDF = regularDF[regularDF[\"ItemID\"]==item]\n",
    "itemDF.head()"
   ]
  },
  {
   "cell_type": "code",
   "execution_count": 61,
   "id": "9a5f6c37-b83d-446c-ab56-265eb3706116",
   "metadata": {},
   "outputs": [
    {
     "data": {
      "text/plain": [
       "array([140.])"
      ]
     },
     "execution_count": 61,
     "metadata": {},
     "output_type": "execute_result"
    }
   ],
   "source": [
    "np.unique(itemDF[\"Price\"])"
   ]
  },
  {
   "cell_type": "code",
   "execution_count": 62,
   "id": "3b0af245-6bdf-4534-9b40-9c835228da37",
   "metadata": {},
   "outputs": [
    {
     "data": {
      "image/png": "[encoded data removed]",
      "text/plain": [
       "<Figure size 432x288 with 2 Axes>"
      ]
     },
     "metadata": {
      "needs_background": "light"
     },
     "output_type": "display_data"
    }
   ],
   "source": [
    "itemDF[[\"Price\",\"Volume\"]].hist()\n",
    "plt.show()"
   ]
  },
  {
   "cell_type": "code",
   "execution_count": 63,
   "id": "4f184ddd-a444-47b1-83fb-bdccb907031a",
   "metadata": {},
   "outputs": [
    {
     "data": {
      "text/plain": [
       "<AxesSubplot:xlabel='Price', ylabel='Volume'>"
      ]
     },
     "execution_count": 63,
     "metadata": {},
     "output_type": "execute_result"
    },
    {
     "data": {
      "image/png": "[encoded data removed]",
      "text/plain": [
       "<Figure size 432x288 with 1 Axes>"
      ]
     },
     "metadata": {
      "needs_background": "light"
     },
     "output_type": "display_data"
    }
   ],
   "source": [
    "sns.regplot(x=\"Price\", y=\"Volume\", data=itemDF)"
   ]
  },
  {
   "cell_type": "markdown",
   "id": "843df48d-d498-4f14-bd0f-2192d6471dce",
   "metadata": {},
   "source": [
    "#### Promo Price Data"
   ]
  },
  {
   "cell_type": "code",
   "execution_count": 64,
   "id": "5829e617-b5fe-4ddc-84dc-03fec2f433ed",
   "metadata": {},
   "outputs": [
    {
     "data": {
      "text/html": [
       "<div>\n",
       "<style scoped>\n",
       "    .dataframe tbody tr th:only-of-type {\n",
       "        vertical-align: middle;\n",
       "    }\n",
       "\n",
       "    .dataframe tbody tr th {\n",
       "        vertical-align: top;\n",
       "    }\n",
       "\n",
       "    .dataframe thead th {\n",
       "        text-align: right;\n",
       "    }\n",
       "</style>\n",
       "<table border=\"1\" class=\"dataframe\">\n",
       "  <thead>\n",
       "    <tr style=\"text-align: right;\">\n",
       "      <th></th>\n",
       "      <th>ItemID</th>\n",
       "      <th>Week</th>\n",
       "      <th>CostPrice</th>\n",
       "      <th>Price</th>\n",
       "      <th>Volume</th>\n",
       "    </tr>\n",
       "  </thead>\n",
       "  <tbody>\n",
       "    <tr>\n",
       "      <th>762</th>\n",
       "      <td>Id6</td>\n",
       "      <td>2021-12-05</td>\n",
       "      <td>77.0</td>\n",
       "      <td>129.95</td>\n",
       "      <td>470.0</td>\n",
       "    </tr>\n",
       "    <tr>\n",
       "      <th>753</th>\n",
       "      <td>Id6</td>\n",
       "      <td>2021-11-28</td>\n",
       "      <td>76.0</td>\n",
       "      <td>129.95</td>\n",
       "      <td>500.0</td>\n",
       "    </tr>\n",
       "    <tr>\n",
       "      <th>770</th>\n",
       "      <td>Id6</td>\n",
       "      <td>2021-12-12</td>\n",
       "      <td>77.0</td>\n",
       "      <td>129.95</td>\n",
       "      <td>220.0</td>\n",
       "    </tr>\n",
       "    <tr>\n",
       "      <th>748</th>\n",
       "      <td>Id6</td>\n",
       "      <td>2021-11-21</td>\n",
       "      <td>76.0</td>\n",
       "      <td>129.95</td>\n",
       "      <td>460.0</td>\n",
       "    </tr>\n",
       "    <tr>\n",
       "      <th>738</th>\n",
       "      <td>Id6</td>\n",
       "      <td>2021-11-14</td>\n",
       "      <td>76.0</td>\n",
       "      <td>129.95</td>\n",
       "      <td>180.0</td>\n",
       "    </tr>\n",
       "  </tbody>\n",
       "</table>\n",
       "</div>"
      ],
      "text/plain": [
       "    ItemID        Week  CostPrice   Price  Volume\n",
       "762    Id6  2021-12-05       77.0  129.95   470.0\n",
       "753    Id6  2021-11-28       76.0  129.95   500.0\n",
       "770    Id6  2021-12-12       77.0  129.95   220.0\n",
       "748    Id6  2021-11-21       76.0  129.95   460.0\n",
       "738    Id6  2021-11-14       76.0  129.95   180.0"
      ]
     },
     "execution_count": 64,
     "metadata": {},
     "output_type": "execute_result"
    }
   ],
   "source": [
    "itemDF = promoDF[promoDF[\"ItemID\"]==item]\n",
    "itemDF.head()"
   ]
  },
  {
   "cell_type": "code",
   "execution_count": 65,
   "id": "53411cd9-06f2-43f7-b090-64730a2872cb",
   "metadata": {},
   "outputs": [
    {
     "data": {
      "text/plain": [
       "array([119.95, 129.95, 134.95])"
      ]
     },
     "execution_count": 65,
     "metadata": {},
     "output_type": "execute_result"
    }
   ],
   "source": [
    "np.unique(itemDF[\"Price\"])"
   ]
  },
  {
   "cell_type": "code",
   "execution_count": 66,
   "id": "225e5a4e-607c-4705-8467-5f14b6128cc4",
   "metadata": {},
   "outputs": [
    {
     "data": {
      "image/png": "[encoded data removed]",
      "text/plain": [
       "<Figure size 432x288 with 2 Axes>"
      ]
     },
     "metadata": {
      "needs_background": "light"
     },
     "output_type": "display_data"
    }
   ],
   "source": [
    "itemDF[[\"Price\",\"Volume\"]].hist()\n",
    "plt.show()"
   ]
  },
  {
   "cell_type": "code",
   "execution_count": 67,
   "id": "a60ad57c-54d8-4d46-9821-4a2177573a9e",
   "metadata": {},
   "outputs": [
    {
     "data": {
      "text/plain": [
       "<AxesSubplot:xlabel='Price', ylabel='Volume'>"
      ]
     },
     "execution_count": 67,
     "metadata": {},
     "output_type": "execute_result"
    },
    {
     "data": {
      "image/png": "[encoded data removed]",
      "text/plain": [
       "<Figure size 432x288 with 1 Axes>"
      ]
     },
     "metadata": {
      "needs_background": "light"
     },
     "output_type": "display_data"
    }
   ],
   "source": [
    "sns.regplot(x=\"Price\", y=\"Volume\", data=itemDF)"
   ]
  },
  {
   "cell_type": "markdown",
   "id": "a5bc6f12-a726-49ed-aa4b-d0ed70f47dbf",
   "metadata": {
    "tags": []
   },
   "source": [
    "### Data Visualization for ItemID=Id7\n",
    "Lest See Data for only one item. For this we will use \"ItemID=Id7\""
   ]
  },
  {
   "cell_type": "code",
   "execution_count": 68,
   "id": "1eb6ad4f-93c7-4208-8876-aa98627f0488",
   "metadata": {},
   "outputs": [],
   "source": [
    "item = \"Id7\""
   ]
  },
  {
   "cell_type": "markdown",
   "id": "29aa7532-9dde-4fb5-af2e-4ff4ebf313cc",
   "metadata": {},
   "source": [
    "#### Regular Price Data"
   ]
  },
  {
   "cell_type": "code",
   "execution_count": 69,
   "id": "c55459ea-c242-4003-a9fe-f2a49bf0b051",
   "metadata": {},
   "outputs": [
    {
     "data": {
      "text/html": [
       "<div>\n",
       "<style scoped>\n",
       "    .dataframe tbody tr th:only-of-type {\n",
       "        vertical-align: middle;\n",
       "    }\n",
       "\n",
       "    .dataframe tbody tr th {\n",
       "        vertical-align: top;\n",
       "    }\n",
       "\n",
       "    .dataframe thead th {\n",
       "        text-align: right;\n",
       "    }\n",
       "</style>\n",
       "<table border=\"1\" class=\"dataframe\">\n",
       "  <thead>\n",
       "    <tr style=\"text-align: right;\">\n",
       "      <th></th>\n",
       "      <th>ItemID</th>\n",
       "      <th>Week</th>\n",
       "      <th>CostPrice</th>\n",
       "      <th>Price</th>\n",
       "      <th>Volume</th>\n",
       "    </tr>\n",
       "  </thead>\n",
       "  <tbody>\n",
       "    <tr>\n",
       "      <th>311</th>\n",
       "      <td>Id7</td>\n",
       "      <td>2020-11-15</td>\n",
       "      <td>92.0</td>\n",
       "      <td>205.0</td>\n",
       "      <td>40.0</td>\n",
       "    </tr>\n",
       "    <tr>\n",
       "      <th>690</th>\n",
       "      <td>Id7</td>\n",
       "      <td>2021-09-26</td>\n",
       "      <td>95.0</td>\n",
       "      <td>216.0</td>\n",
       "      <td>10.0</td>\n",
       "    </tr>\n",
       "    <tr>\n",
       "      <th>262</th>\n",
       "      <td>Id7</td>\n",
       "      <td>2020-10-04</td>\n",
       "      <td>92.0</td>\n",
       "      <td>205.0</td>\n",
       "      <td>30.0</td>\n",
       "    </tr>\n",
       "    <tr>\n",
       "      <th>256</th>\n",
       "      <td>Id7</td>\n",
       "      <td>2020-09-27</td>\n",
       "      <td>92.0</td>\n",
       "      <td>205.0</td>\n",
       "      <td>40.0</td>\n",
       "    </tr>\n",
       "    <tr>\n",
       "      <th>681</th>\n",
       "      <td>Id7</td>\n",
       "      <td>2021-09-19</td>\n",
       "      <td>95.0</td>\n",
       "      <td>216.0</td>\n",
       "      <td>30.0</td>\n",
       "    </tr>\n",
       "  </tbody>\n",
       "</table>\n",
       "</div>"
      ],
      "text/plain": [
       "    ItemID        Week  CostPrice  Price  Volume\n",
       "311    Id7  2020-11-15       92.0  205.0    40.0\n",
       "690    Id7  2021-09-26       95.0  216.0    10.0\n",
       "262    Id7  2020-10-04       92.0  205.0    30.0\n",
       "256    Id7  2020-09-27       92.0  205.0    40.0\n",
       "681    Id7  2021-09-19       95.0  216.0    30.0"
      ]
     },
     "execution_count": 69,
     "metadata": {},
     "output_type": "execute_result"
    }
   ],
   "source": [
    "itemDF = regularDF[regularDF[\"ItemID\"]==item]\n",
    "itemDF.head()"
   ]
  },
  {
   "cell_type": "code",
   "execution_count": 70,
   "id": "9bdcba46-d97c-4b37-a676-6b10e8ac3535",
   "metadata": {},
   "outputs": [
    {
     "data": {
      "text/plain": [
       "array([205., 216.])"
      ]
     },
     "execution_count": 70,
     "metadata": {},
     "output_type": "execute_result"
    }
   ],
   "source": [
    "np.unique(itemDF[\"Price\"])"
   ]
  },
  {
   "cell_type": "code",
   "execution_count": 71,
   "id": "d8e963d0-a9a4-4a10-9c1f-7003c0ea4548",
   "metadata": {},
   "outputs": [
    {
     "data": {
      "image/png": "[encoded data removed]",
      "text/plain": [
       "<Figure size 432x288 with 2 Axes>"
      ]
     },
     "metadata": {
      "needs_background": "light"
     },
     "output_type": "display_data"
    }
   ],
   "source": [
    "itemDF[[\"Price\",\"Volume\"]].hist()\n",
    "plt.show()"
   ]
  },
  {
   "cell_type": "code",
   "execution_count": 72,
   "id": "9370086a-15c5-490a-804b-3abedec179b9",
   "metadata": {},
   "outputs": [
    {
     "data": {
      "text/plain": [
       "<AxesSubplot:xlabel='Price', ylabel='Volume'>"
      ]
     },
     "execution_count": 72,
     "metadata": {},
     "output_type": "execute_result"
    },
    {
     "data": {
      "image/png": "[encoded data removed]",
      "text/plain": [
       "<Figure size 432x288 with 1 Axes>"
      ]
     },
     "metadata": {
      "needs_background": "light"
     },
     "output_type": "display_data"
    }
   ],
   "source": [
    "sns.regplot(x=\"Price\", y=\"Volume\", data=itemDF)"
   ]
  },
  {
   "cell_type": "markdown",
   "id": "199546ac-d9c3-428c-8e53-2cec2e473abb",
   "metadata": {},
   "source": [
    "#### Promo Price Data"
   ]
  },
  {
   "cell_type": "code",
   "execution_count": 73,
   "id": "ebdf3433-6099-436a-bb76-9f5752b46aba",
   "metadata": {},
   "outputs": [
    {
     "data": {
      "text/html": [
       "<div>\n",
       "<style scoped>\n",
       "    .dataframe tbody tr th:only-of-type {\n",
       "        vertical-align: middle;\n",
       "    }\n",
       "\n",
       "    .dataframe tbody tr th {\n",
       "        vertical-align: top;\n",
       "    }\n",
       "\n",
       "    .dataframe thead th {\n",
       "        text-align: right;\n",
       "    }\n",
       "</style>\n",
       "<table border=\"1\" class=\"dataframe\">\n",
       "  <thead>\n",
       "    <tr style=\"text-align: right;\">\n",
       "      <th></th>\n",
       "      <th>ItemID</th>\n",
       "      <th>Week</th>\n",
       "      <th>CostPrice</th>\n",
       "      <th>Price</th>\n",
       "      <th>Volume</th>\n",
       "    </tr>\n",
       "  </thead>\n",
       "  <tbody>\n",
       "    <tr>\n",
       "      <th>615</th>\n",
       "      <td>Id7</td>\n",
       "      <td>2021-07-25</td>\n",
       "      <td>95.0</td>\n",
       "      <td>199.95</td>\n",
       "      <td>90.0</td>\n",
       "    </tr>\n",
       "    <tr>\n",
       "      <th>210</th>\n",
       "      <td>Id7</td>\n",
       "      <td>2020-08-16</td>\n",
       "      <td>92.0</td>\n",
       "      <td>179.95</td>\n",
       "      <td>60.0</td>\n",
       "    </tr>\n",
       "    <tr>\n",
       "      <th>619</th>\n",
       "      <td>Id7</td>\n",
       "      <td>2021-08-01</td>\n",
       "      <td>95.0</td>\n",
       "      <td>199.95</td>\n",
       "      <td>10.0</td>\n",
       "    </tr>\n",
       "    <tr>\n",
       "      <th>221</th>\n",
       "      <td>Id7</td>\n",
       "      <td>2020-08-30</td>\n",
       "      <td>92.0</td>\n",
       "      <td>189.95</td>\n",
       "      <td>40.0</td>\n",
       "    </tr>\n",
       "    <tr>\n",
       "      <th>229</th>\n",
       "      <td>Id7</td>\n",
       "      <td>2020-09-06</td>\n",
       "      <td>92.0</td>\n",
       "      <td>189.95</td>\n",
       "      <td>40.0</td>\n",
       "    </tr>\n",
       "  </tbody>\n",
       "</table>\n",
       "</div>"
      ],
      "text/plain": [
       "    ItemID        Week  CostPrice   Price  Volume\n",
       "615    Id7  2021-07-25       95.0  199.95    90.0\n",
       "210    Id7  2020-08-16       92.0  179.95    60.0\n",
       "619    Id7  2021-08-01       95.0  199.95    10.0\n",
       "221    Id7  2020-08-30       92.0  189.95    40.0\n",
       "229    Id7  2020-09-06       92.0  189.95    40.0"
      ]
     },
     "execution_count": 73,
     "metadata": {},
     "output_type": "execute_result"
    }
   ],
   "source": [
    "itemDF = promoDF[promoDF[\"ItemID\"]==item]\n",
    "itemDF.head()"
   ]
  },
  {
   "cell_type": "code",
   "execution_count": 74,
   "id": "20bd766e-c2c4-4276-b12d-c765805f59cf",
   "metadata": {},
   "outputs": [
    {
     "data": {
      "text/plain": [
       "array([169.95, 179.95, 189.95, 197.45, 199.95])"
      ]
     },
     "execution_count": 74,
     "metadata": {},
     "output_type": "execute_result"
    }
   ],
   "source": [
    "np.unique(itemDF[\"Price\"])"
   ]
  },
  {
   "cell_type": "code",
   "execution_count": 75,
   "id": "6755a6b1-989f-4f46-a724-8277915e036c",
   "metadata": {},
   "outputs": [
    {
     "data": {
      "image/png": "[encoded data removed]",
      "text/plain": [
       "<Figure size 432x288 with 2 Axes>"
      ]
     },
     "metadata": {
      "needs_background": "light"
     },
     "output_type": "display_data"
    }
   ],
   "source": [
    "itemDF[[\"Price\",\"Volume\"]].hist()\n",
    "plt.show()"
   ]
  },
  {
   "cell_type": "code",
   "execution_count": 76,
   "id": "48e237a0-dc3f-4947-b9f4-87dc93a6de00",
   "metadata": {},
   "outputs": [
    {
     "data": {
      "text/plain": [
       "<AxesSubplot:xlabel='Price', ylabel='Volume'>"
      ]
     },
     "execution_count": 76,
     "metadata": {},
     "output_type": "execute_result"
    },
    {
     "data": {
      "image/png": "[encoded data removed]",
      "text/plain": [
       "<Figure size 432x288 with 1 Axes>"
      ]
     },
     "metadata": {
      "needs_background": "light"
     },
     "output_type": "display_data"
    }
   ],
   "source": [
    "sns.regplot(x=\"Price\", y=\"Volume\", data=itemDF)"
   ]
  },
  {
   "cell_type": "markdown",
   "id": "67ba7ab3-c85f-4f19-81e9-3c183e7a7ac0",
   "metadata": {
    "tags": []
   },
   "source": [
    "### Data Visualization for ItemID=Id8\n",
    "Lest See Data for only one item. For this we will use \"ItemID=Id8\""
   ]
  },
  {
   "cell_type": "code",
   "execution_count": 77,
   "id": "0b408c65-eb70-4676-9283-3f4704929521",
   "metadata": {},
   "outputs": [],
   "source": [
    "item = \"Id8\""
   ]
  },
  {
   "cell_type": "markdown",
   "id": "f44928b2-971a-4b03-a50b-cafb48a95ffb",
   "metadata": {},
   "source": [
    "#### Regular Price Data"
   ]
  },
  {
   "cell_type": "code",
   "execution_count": 78,
   "id": "18131565-2298-4158-b015-780897315e77",
   "metadata": {},
   "outputs": [
    {
     "data": {
      "text/html": [
       "<div>\n",
       "<style scoped>\n",
       "    .dataframe tbody tr th:only-of-type {\n",
       "        vertical-align: middle;\n",
       "    }\n",
       "\n",
       "    .dataframe tbody tr th {\n",
       "        vertical-align: top;\n",
       "    }\n",
       "\n",
       "    .dataframe thead th {\n",
       "        text-align: right;\n",
       "    }\n",
       "</style>\n",
       "<table border=\"1\" class=\"dataframe\">\n",
       "  <thead>\n",
       "    <tr style=\"text-align: right;\">\n",
       "      <th></th>\n",
       "      <th>ItemID</th>\n",
       "      <th>Week</th>\n",
       "      <th>CostPrice</th>\n",
       "      <th>Price</th>\n",
       "      <th>Volume</th>\n",
       "    </tr>\n",
       "  </thead>\n",
       "  <tbody>\n",
       "    <tr>\n",
       "      <th>419</th>\n",
       "      <td>Id8</td>\n",
       "      <td>2021-02-14</td>\n",
       "      <td>191.0</td>\n",
       "      <td>320.0</td>\n",
       "      <td>180.0</td>\n",
       "    </tr>\n",
       "    <tr>\n",
       "      <th>129</th>\n",
       "      <td>Id8</td>\n",
       "      <td>2020-06-14</td>\n",
       "      <td>180.0</td>\n",
       "      <td>300.0</td>\n",
       "      <td>80.0</td>\n",
       "    </tr>\n",
       "    <tr>\n",
       "      <th>414</th>\n",
       "      <td>Id8</td>\n",
       "      <td>2021-02-07</td>\n",
       "      <td>191.0</td>\n",
       "      <td>320.0</td>\n",
       "      <td>160.0</td>\n",
       "    </tr>\n",
       "    <tr>\n",
       "      <th>541</th>\n",
       "      <td>Id8</td>\n",
       "      <td>2021-05-23</td>\n",
       "      <td>197.0</td>\n",
       "      <td>330.0</td>\n",
       "      <td>230.0</td>\n",
       "    </tr>\n",
       "    <tr>\n",
       "      <th>610</th>\n",
       "      <td>Id8</td>\n",
       "      <td>2021-07-25</td>\n",
       "      <td>197.0</td>\n",
       "      <td>330.0</td>\n",
       "      <td>150.0</td>\n",
       "    </tr>\n",
       "  </tbody>\n",
       "</table>\n",
       "</div>"
      ],
      "text/plain": [
       "    ItemID        Week  CostPrice  Price  Volume\n",
       "419    Id8  2021-02-14      191.0  320.0   180.0\n",
       "129    Id8  2020-06-14      180.0  300.0    80.0\n",
       "414    Id8  2021-02-07      191.0  320.0   160.0\n",
       "541    Id8  2021-05-23      197.0  330.0   230.0\n",
       "610    Id8  2021-07-25      197.0  330.0   150.0"
      ]
     },
     "execution_count": 78,
     "metadata": {},
     "output_type": "execute_result"
    }
   ],
   "source": [
    "itemDF = regularDF[regularDF[\"ItemID\"]==item]\n",
    "itemDF.head()"
   ]
  },
  {
   "cell_type": "code",
   "execution_count": 79,
   "id": "d8f0f58c-2f35-40d8-a2e5-b1648ef24e5b",
   "metadata": {},
   "outputs": [
    {
     "data": {
      "text/plain": [
       "array([300., 320., 330.])"
      ]
     },
     "execution_count": 79,
     "metadata": {},
     "output_type": "execute_result"
    }
   ],
   "source": [
    "np.unique(itemDF[\"Price\"])"
   ]
  },
  {
   "cell_type": "code",
   "execution_count": 80,
   "id": "4feb75ae-5e4a-4626-8675-359a1967c5bd",
   "metadata": {},
   "outputs": [
    {
     "data": {
      "image/png": "[encoded data removed]",
      "text/plain": [
       "<Figure size 432x288 with 2 Axes>"
      ]
     },
     "metadata": {
      "needs_background": "light"
     },
     "output_type": "display_data"
    }
   ],
   "source": [
    "itemDF[[\"Price\",\"Volume\"]].hist()\n",
    "plt.show()"
   ]
  },
  {
   "cell_type": "code",
   "execution_count": 81,
   "id": "12a6fe41-a3a6-46ab-b7c0-989c71e8ca8f",
   "metadata": {},
   "outputs": [
    {
     "data": {
      "text/plain": [
       "<AxesSubplot:xlabel='Price', ylabel='Volume'>"
      ]
     },
     "execution_count": 81,
     "metadata": {},
     "output_type": "execute_result"
    },
    {
     "data": {
      "image/png": "[encoded data removed]",
      "text/plain": [
       "<Figure size 432x288 with 1 Axes>"
      ]
     },
     "metadata": {
      "needs_background": "light"
     },
     "output_type": "display_data"
    }
   ],
   "source": [
    "sns.regplot(x=\"Price\", y=\"Volume\", data=itemDF)"
   ]
  },
  {
   "cell_type": "markdown",
   "id": "4ebc13ab-2d87-4830-acd1-d14a8dd3cf57",
   "metadata": {},
   "source": [
    "#### Promo Price Data"
   ]
  },
  {
   "cell_type": "code",
   "execution_count": 82,
   "id": "c3ef6827-f3f7-4132-8534-bca55c9fb6ff",
   "metadata": {},
   "outputs": [
    {
     "data": {
      "text/html": [
       "<div>\n",
       "<style scoped>\n",
       "    .dataframe tbody tr th:only-of-type {\n",
       "        vertical-align: middle;\n",
       "    }\n",
       "\n",
       "    .dataframe tbody tr th {\n",
       "        vertical-align: top;\n",
       "    }\n",
       "\n",
       "    .dataframe thead th {\n",
       "        text-align: right;\n",
       "    }\n",
       "</style>\n",
       "<table border=\"1\" class=\"dataframe\">\n",
       "  <thead>\n",
       "    <tr style=\"text-align: right;\">\n",
       "      <th></th>\n",
       "      <th>ItemID</th>\n",
       "      <th>Week</th>\n",
       "      <th>CostPrice</th>\n",
       "      <th>Price</th>\n",
       "      <th>Volume</th>\n",
       "    </tr>\n",
       "  </thead>\n",
       "  <tbody>\n",
       "    <tr>\n",
       "      <th>106</th>\n",
       "      <td>Id8</td>\n",
       "      <td>2020-05-24</td>\n",
       "      <td>180.0</td>\n",
       "      <td>259.95</td>\n",
       "      <td>560.0</td>\n",
       "    </tr>\n",
       "    <tr>\n",
       "      <th>129</th>\n",
       "      <td>Id8</td>\n",
       "      <td>2020-06-14</td>\n",
       "      <td>180.0</td>\n",
       "      <td>259.95</td>\n",
       "      <td>160.0</td>\n",
       "    </tr>\n",
       "    <tr>\n",
       "      <th>112</th>\n",
       "      <td>Id8</td>\n",
       "      <td>2020-05-31</td>\n",
       "      <td>180.0</td>\n",
       "      <td>259.95</td>\n",
       "      <td>600.0</td>\n",
       "    </tr>\n",
       "    <tr>\n",
       "      <th>754</th>\n",
       "      <td>Id8</td>\n",
       "      <td>2021-11-28</td>\n",
       "      <td>210.0</td>\n",
       "      <td>299.95</td>\n",
       "      <td>150.0</td>\n",
       "    </tr>\n",
       "    <tr>\n",
       "      <th>122</th>\n",
       "      <td>Id8</td>\n",
       "      <td>2020-06-07</td>\n",
       "      <td>180.0</td>\n",
       "      <td>259.95</td>\n",
       "      <td>440.0</td>\n",
       "    </tr>\n",
       "  </tbody>\n",
       "</table>\n",
       "</div>"
      ],
      "text/plain": [
       "    ItemID        Week  CostPrice   Price  Volume\n",
       "106    Id8  2020-05-24      180.0  259.95   560.0\n",
       "129    Id8  2020-06-14      180.0  259.95   160.0\n",
       "112    Id8  2020-05-31      180.0  259.95   600.0\n",
       "754    Id8  2021-11-28      210.0  299.95   150.0\n",
       "122    Id8  2020-06-07      180.0  259.95   440.0"
      ]
     },
     "execution_count": 82,
     "metadata": {},
     "output_type": "execute_result"
    }
   ],
   "source": [
    "itemDF = promoDF[promoDF[\"ItemID\"]==item]\n",
    "itemDF.head()"
   ]
  },
  {
   "cell_type": "code",
   "execution_count": 83,
   "id": "64e0fac5-e967-4442-ad6d-f6565918f8da",
   "metadata": {},
   "outputs": [
    {
     "data": {
      "text/plain": [
       "array([249.95, 259.95, 279.95, 286.95, 299.95])"
      ]
     },
     "execution_count": 83,
     "metadata": {},
     "output_type": "execute_result"
    }
   ],
   "source": [
    "np.unique(itemDF[\"Price\"])"
   ]
  },
  {
   "cell_type": "code",
   "execution_count": 84,
   "id": "72756746-7d43-4be3-be00-89298a57c27e",
   "metadata": {},
   "outputs": [
    {
     "data": {
      "image/png": "[encoded data removed]",
      "text/plain": [
       "<Figure size 432x288 with 2 Axes>"
      ]
     },
     "metadata": {
      "needs_background": "light"
     },
     "output_type": "display_data"
    }
   ],
   "source": [
    "itemDF[[\"Price\",\"Volume\"]].hist()\n",
    "plt.show()"
   ]
  },
  {
   "cell_type": "code",
   "execution_count": 85,
   "id": "ea6685a3-161f-4458-ad21-e63649464853",
   "metadata": {},
   "outputs": [
    {
     "data": {
      "text/plain": [
       "<AxesSubplot:xlabel='Price', ylabel='Volume'>"
      ]
     },
     "execution_count": 85,
     "metadata": {},
     "output_type": "execute_result"
    },
    {
     "data": {
      "image/png": "[encoded data removed]",
      "text/plain": [
       "<Figure size 432x288 with 1 Axes>"
      ]
     },
     "metadata": {
      "needs_background": "light"
     },
     "output_type": "display_data"
    }
   ],
   "source": [
    "sns.regplot(x=\"Price\", y=\"Volume\", data=itemDF)"
   ]
  },
  {
   "cell_type": "markdown",
   "id": "82c8a9ea-d8ac-4d93-993c-acd7a740be9d",
   "metadata": {
    "tags": []
   },
   "source": [
    "### Data Visualization for ItemID=Id9\n",
    "Lest See Data for only one item. For this we will use \"ItemID=Id9\""
   ]
  },
  {
   "cell_type": "code",
   "execution_count": 86,
   "id": "3e552ecb-6f4d-4caa-94a9-0e197844bc8f",
   "metadata": {},
   "outputs": [],
   "source": [
    "item = \"Id9\""
   ]
  },
  {
   "cell_type": "markdown",
   "id": "d993eafb-ba09-482b-a440-e0055842df4d",
   "metadata": {},
   "source": [
    "#### Regular Price Data"
   ]
  },
  {
   "cell_type": "code",
   "execution_count": 87,
   "id": "cf326630-2eb7-4d04-89aa-fbce20715013",
   "metadata": {},
   "outputs": [
    {
     "data": {
      "text/html": [
       "<div>\n",
       "<style scoped>\n",
       "    .dataframe tbody tr th:only-of-type {\n",
       "        vertical-align: middle;\n",
       "    }\n",
       "\n",
       "    .dataframe tbody tr th {\n",
       "        vertical-align: top;\n",
       "    }\n",
       "\n",
       "    .dataframe thead th {\n",
       "        text-align: right;\n",
       "    }\n",
       "</style>\n",
       "<table border=\"1\" class=\"dataframe\">\n",
       "  <thead>\n",
       "    <tr style=\"text-align: right;\">\n",
       "      <th></th>\n",
       "      <th>ItemID</th>\n",
       "      <th>Week</th>\n",
       "      <th>CostPrice</th>\n",
       "      <th>Price</th>\n",
       "      <th>Volume</th>\n",
       "    </tr>\n",
       "  </thead>\n",
       "  <tbody>\n",
       "    <tr>\n",
       "      <th>792</th>\n",
       "      <td>Id9</td>\n",
       "      <td>2022-01-02</td>\n",
       "      <td>42.0</td>\n",
       "      <td>60.0</td>\n",
       "      <td>50.0</td>\n",
       "    </tr>\n",
       "    <tr>\n",
       "      <th>848</th>\n",
       "      <td>Id9</td>\n",
       "      <td>2022-02-13</td>\n",
       "      <td>42.0</td>\n",
       "      <td>60.0</td>\n",
       "      <td>20.0</td>\n",
       "    </tr>\n",
       "    <tr>\n",
       "      <th>5</th>\n",
       "      <td>Id9</td>\n",
       "      <td>2020-02-16</td>\n",
       "      <td>26.0</td>\n",
       "      <td>56.0</td>\n",
       "      <td>200.0</td>\n",
       "    </tr>\n",
       "    <tr>\n",
       "      <th>595</th>\n",
       "      <td>Id9</td>\n",
       "      <td>2021-07-11</td>\n",
       "      <td>34.0</td>\n",
       "      <td>63.0</td>\n",
       "      <td>80.0</td>\n",
       "    </tr>\n",
       "    <tr>\n",
       "      <th>456</th>\n",
       "      <td>Id9</td>\n",
       "      <td>2021-03-14</td>\n",
       "      <td>32.0</td>\n",
       "      <td>56.0</td>\n",
       "      <td>100.0</td>\n",
       "    </tr>\n",
       "  </tbody>\n",
       "</table>\n",
       "</div>"
      ],
      "text/plain": [
       "    ItemID        Week  CostPrice  Price  Volume\n",
       "792    Id9  2022-01-02       42.0   60.0    50.0\n",
       "848    Id9  2022-02-13       42.0   60.0    20.0\n",
       "5      Id9  2020-02-16       26.0   56.0   200.0\n",
       "595    Id9  2021-07-11       34.0   63.0    80.0\n",
       "456    Id9  2021-03-14       32.0   56.0   100.0"
      ]
     },
     "execution_count": 87,
     "metadata": {},
     "output_type": "execute_result"
    }
   ],
   "source": [
    "itemDF = regularDF[regularDF[\"ItemID\"]==item]\n",
    "itemDF.head()"
   ]
  },
  {
   "cell_type": "code",
   "execution_count": 88,
   "id": "f48a43cb-f751-4022-8db8-15b33fed0ad8",
   "metadata": {},
   "outputs": [
    {
     "data": {
      "text/plain": [
       "array([50., 56., 59., 60., 63.])"
      ]
     },
     "execution_count": 88,
     "metadata": {},
     "output_type": "execute_result"
    }
   ],
   "source": [
    "np.unique(itemDF[\"Price\"])"
   ]
  },
  {
   "cell_type": "code",
   "execution_count": 89,
   "id": "e4029337-1ba3-4949-89f8-b70f3809df39",
   "metadata": {},
   "outputs": [
    {
     "data": {
      "image/png": "[encoded data removed]",
      "text/plain": [
       "<Figure size 432x288 with 2 Axes>"
      ]
     },
     "metadata": {
      "needs_background": "light"
     },
     "output_type": "display_data"
    }
   ],
   "source": [
    "itemDF[[\"Price\",\"Volume\"]].hist()\n",
    "plt.show()"
   ]
  },
  {
   "cell_type": "code",
   "execution_count": 90,
   "id": "102c9df5-f9b9-4085-825a-99790fb55705",
   "metadata": {},
   "outputs": [
    {
     "data": {
      "text/plain": [
       "<AxesSubplot:xlabel='Price', ylabel='Volume'>"
      ]
     },
     "execution_count": 90,
     "metadata": {},
     "output_type": "execute_result"
    },
    {
     "data": {
      "image/png": "[encoded data removed]",
      "text/plain": [
       "<Figure size 432x288 with 1 Axes>"
      ]
     },
     "metadata": {
      "needs_background": "light"
     },
     "output_type": "display_data"
    }
   ],
   "source": [
    "sns.regplot(x=\"Price\", y=\"Volume\", data=itemDF)"
   ]
  },
  {
   "cell_type": "markdown",
   "id": "975697ae-c762-4ec4-8f6a-3950786ab7c8",
   "metadata": {},
   "source": [
    "#### Promo Price Data"
   ]
  },
  {
   "cell_type": "code",
   "execution_count": 91,
   "id": "2f8c9a66-e409-4c53-b34a-e3c34cd08546",
   "metadata": {},
   "outputs": [
    {
     "data": {
      "text/html": [
       "<div>\n",
       "<style scoped>\n",
       "    .dataframe tbody tr th:only-of-type {\n",
       "        vertical-align: middle;\n",
       "    }\n",
       "\n",
       "    .dataframe tbody tr th {\n",
       "        vertical-align: top;\n",
       "    }\n",
       "\n",
       "    .dataframe thead th {\n",
       "        text-align: right;\n",
       "    }\n",
       "</style>\n",
       "<table border=\"1\" class=\"dataframe\">\n",
       "  <thead>\n",
       "    <tr style=\"text-align: right;\">\n",
       "      <th></th>\n",
       "      <th>ItemID</th>\n",
       "      <th>Week</th>\n",
       "      <th>CostPrice</th>\n",
       "      <th>Price</th>\n",
       "      <th>Volume</th>\n",
       "    </tr>\n",
       "  </thead>\n",
       "  <tbody>\n",
       "    <tr>\n",
       "      <th>275</th>\n",
       "      <td>Id9</td>\n",
       "      <td>2020-10-11</td>\n",
       "      <td>31.0</td>\n",
       "      <td>44.95</td>\n",
       "      <td>200.0</td>\n",
       "    </tr>\n",
       "    <tr>\n",
       "      <th>642</th>\n",
       "      <td>Id9</td>\n",
       "      <td>2021-08-22</td>\n",
       "      <td>34.0</td>\n",
       "      <td>49.95</td>\n",
       "      <td>150.0</td>\n",
       "    </tr>\n",
       "    <tr>\n",
       "      <th>58</th>\n",
       "      <td>Id9</td>\n",
       "      <td>2020-04-05</td>\n",
       "      <td>29.0</td>\n",
       "      <td>36.95</td>\n",
       "      <td>170.0</td>\n",
       "    </tr>\n",
       "    <tr>\n",
       "      <th>264</th>\n",
       "      <td>Id9</td>\n",
       "      <td>2020-10-04</td>\n",
       "      <td>31.0</td>\n",
       "      <td>44.95</td>\n",
       "      <td>300.0</td>\n",
       "    </tr>\n",
       "    <tr>\n",
       "      <th>47</th>\n",
       "      <td>Id9</td>\n",
       "      <td>2020-03-29</td>\n",
       "      <td>29.0</td>\n",
       "      <td>36.95</td>\n",
       "      <td>110.0</td>\n",
       "    </tr>\n",
       "  </tbody>\n",
       "</table>\n",
       "</div>"
      ],
      "text/plain": [
       "    ItemID        Week  CostPrice  Price  Volume\n",
       "275    Id9  2020-10-11       31.0  44.95   200.0\n",
       "642    Id9  2021-08-22       34.0  49.95   150.0\n",
       "58     Id9  2020-04-05       29.0  36.95   170.0\n",
       "264    Id9  2020-10-04       31.0  44.95   300.0\n",
       "47     Id9  2020-03-29       29.0  36.95   110.0"
      ]
     },
     "execution_count": 91,
     "metadata": {},
     "output_type": "execute_result"
    }
   ],
   "source": [
    "itemDF = promoDF[promoDF[\"ItemID\"]==item]\n",
    "itemDF.head()"
   ]
  },
  {
   "cell_type": "code",
   "execution_count": 92,
   "id": "1e76d323-ac8c-40f1-b1a9-74f69663d6cc",
   "metadata": {},
   "outputs": [
    {
     "data": {
      "text/plain": [
       "array([36.95, 39.95, 39.97, 44.95, 49.95, 57.95, 57.98, 59.63])"
      ]
     },
     "execution_count": 92,
     "metadata": {},
     "output_type": "execute_result"
    }
   ],
   "source": [
    "np.unique(itemDF[\"Price\"])"
   ]
  },
  {
   "cell_type": "code",
   "execution_count": 93,
   "id": "f17b7a3e-9afd-403d-94fd-c8c734da9657",
   "metadata": {},
   "outputs": [
    {
     "data": {
      "image/png": "[encoded data removed]",
      "text/plain": [
       "<Figure size 432x288 with 2 Axes>"
      ]
     },
     "metadata": {
      "needs_background": "light"
     },
     "output_type": "display_data"
    }
   ],
   "source": [
    "itemDF[[\"Price\",\"Volume\"]].hist()\n",
    "plt.show()"
   ]
  },
  {
   "cell_type": "code",
   "execution_count": 94,
   "id": "1bbde38b-1846-48fb-830c-a4fa6bd44fab",
   "metadata": {},
   "outputs": [
    {
     "data": {
      "text/plain": [
       "<AxesSubplot:xlabel='Price', ylabel='Volume'>"
      ]
     },
     "execution_count": 94,
     "metadata": {},
     "output_type": "execute_result"
    },
    {
     "data": {
      "image/png": "[encoded data removed]",
      "text/plain": [
       "<Figure size 432x288 with 1 Axes>"
      ]
     },
     "metadata": {
      "needs_background": "light"
     },
     "output_type": "display_data"
    }
   ],
   "source": [
    "sns.regplot(x=\"Price\", y=\"Volume\", data=itemDF)"
   ]
  },
  {
   "cell_type": "markdown",
   "id": "79c16d64-7b9a-4092-a640-23383236d94e",
   "metadata": {},
   "source": [
    "## Data Visualization Findings\n",
    "From Above Item wise data visualization we infer following things.\n",
    "- In Regular Price data, for \"ItemID=I6\" We will not be able to build Regression model as it has only one price data point.\n",
    "- For Promo Price data, for \"ItemID=I4,I5\" We will not be able to build Regression model as it has only one price data point.\n",
    "- In Regular and Promo Price data we have outliers. We will keep the outliers as data set is small and the outliers also contribuit to model."
   ]
  },
  {
   "cell_type": "markdown",
   "id": "5fb4fca4-e909-4ecb-b41d-53f36d1416e5",
   "metadata": {
    "tags": []
   },
   "source": [
    "# 5. Model Evaluation and Testing\n",
    "Now we will build different Regression modesl and evaluate them and we will use the model which gives best fit.\n",
    "\n",
    "We are using regression models as price and volume is continuous variables.\n",
    "\n",
    "We will Use \"Statsmodels\" Library to build models.\n",
    "\n",
    "We will use following Regression models for testing.<br>\n",
    "- OLS (Ordinary Least Squares)\n",
    "- WLS (Weighted Least Squares)\n",
    "- GLS (Generalized Least Squares)"
   ]
  },
  {
   "cell_type": "markdown",
   "id": "9f1e40a3-d24b-422d-b2a1-9168c25dbec3",
   "metadata": {},
   "source": [
    "## OLS Model"
   ]
  },
  {
   "cell_type": "markdown",
   "id": "58bc71fc-02ae-4152-a4f1-51f65de498aa",
   "metadata": {},
   "source": [
    "### Regular Price Data"
   ]
  },
  {
   "cell_type": "code",
   "execution_count": 95,
   "id": "c3c890cf-4553-442b-bf90-2deaa7943fb7",
   "metadata": {},
   "outputs": [
    {
     "data": {
      "text/html": [
       "<div>\n",
       "<style scoped>\n",
       "    .dataframe tbody tr th:only-of-type {\n",
       "        vertical-align: middle;\n",
       "    }\n",
       "\n",
       "    .dataframe tbody tr th {\n",
       "        vertical-align: top;\n",
       "    }\n",
       "\n",
       "    .dataframe thead th {\n",
       "        text-align: right;\n",
       "    }\n",
       "</style>\n",
       "<table border=\"1\" class=\"dataframe\">\n",
       "  <thead>\n",
       "    <tr style=\"text-align: right;\">\n",
       "      <th></th>\n",
       "      <th>Items</th>\n",
       "      <th>RegularPrice R-Squared</th>\n",
       "      <th>RegularPrice pValues</th>\n",
       "    </tr>\n",
       "  </thead>\n",
       "  <tbody>\n",
       "    <tr>\n",
       "      <th>0</th>\n",
       "      <td>Id1</td>\n",
       "      <td>0.124127</td>\n",
       "      <td>1.006930e-04</td>\n",
       "    </tr>\n",
       "    <tr>\n",
       "      <th>1</th>\n",
       "      <td>Id2</td>\n",
       "      <td>0.125910</td>\n",
       "      <td>3.882069e-04</td>\n",
       "    </tr>\n",
       "    <tr>\n",
       "      <th>2</th>\n",
       "      <td>Id3</td>\n",
       "      <td>0.087044</td>\n",
       "      <td>4.142145e-03</td>\n",
       "    </tr>\n",
       "    <tr>\n",
       "      <th>3</th>\n",
       "      <td>Id4</td>\n",
       "      <td>0.000175</td>\n",
       "      <td>7.554470e-01</td>\n",
       "    </tr>\n",
       "    <tr>\n",
       "      <th>4</th>\n",
       "      <td>Id5</td>\n",
       "      <td>0.001440</td>\n",
       "      <td>9.865109e-01</td>\n",
       "    </tr>\n",
       "    <tr>\n",
       "      <th>5</th>\n",
       "      <td>Id6</td>\n",
       "      <td>NaN</td>\n",
       "      <td>NaN</td>\n",
       "    </tr>\n",
       "    <tr>\n",
       "      <th>6</th>\n",
       "      <td>Id7</td>\n",
       "      <td>0.011474</td>\n",
       "      <td>3.000668e-01</td>\n",
       "    </tr>\n",
       "    <tr>\n",
       "      <th>7</th>\n",
       "      <td>Id8</td>\n",
       "      <td>0.163508</td>\n",
       "      <td>2.486223e-06</td>\n",
       "    </tr>\n",
       "    <tr>\n",
       "      <th>8</th>\n",
       "      <td>Id9</td>\n",
       "      <td>0.275067</td>\n",
       "      <td>1.726251e-10</td>\n",
       "    </tr>\n",
       "  </tbody>\n",
       "</table>\n",
       "</div>"
      ],
      "text/plain": [
       "  Items  RegularPrice R-Squared  RegularPrice pValues\n",
       "0   Id1                0.124127          1.006930e-04\n",
       "1   Id2                0.125910          3.882069e-04\n",
       "2   Id3                0.087044          4.142145e-03\n",
       "3   Id4                0.000175          7.554470e-01\n",
       "4   Id5                0.001440          9.865109e-01\n",
       "5   Id6                     NaN                   NaN\n",
       "6   Id7                0.011474          3.000668e-01\n",
       "7   Id8                0.163508          2.486223e-06\n",
       "8   Id9                0.275067          1.726251e-10"
      ]
     },
     "execution_count": 95,
     "metadata": {},
     "output_type": "execute_result"
    }
   ],
   "source": [
    "Rrsquared = []\n",
    "Rpvalue = []\n",
    "Ritemlist = []\n",
    "for item in list(np.unique(regularDF[\"ItemID\"])):\n",
    "    if item != \"Id6\":\n",
    "        itemDF = regularDF[regularDF[\"ItemID\"]==item]\n",
    "        x = itemDF[\"Price\"].tolist()\n",
    "        y = itemDF[\"Volume\"].tolist()\n",
    "        x = sm.add_constant(x)\n",
    "        model = sm.OLS(y,x)\n",
    "        modelResult = model.fit()\n",
    "        Ritemlist.append(item)\n",
    "        Rrsquared.append(modelResult.rsquared)\n",
    "        Rpvalue.append(modelResult.pvalues[0])\n",
    "    if item == \"Id6\":\n",
    "        Ritemlist.append(item)\n",
    "        Rrsquared.append(np.nan)\n",
    "        Rpvalue.append(np.nan)\n",
    "RmodelEval = {\"Items\": Ritemlist, \"RegularPrice R-Squared\":Rrsquared, \"RegularPrice pValues\":Rpvalue}\n",
    "RmodelEvalDf = pd.DataFrame(RmodelEval)\n",
    "RmodelEvalDf"
   ]
  },
  {
   "cell_type": "markdown",
   "id": "2c331c13-75dc-4c40-9376-0c4c15923562",
   "metadata": {},
   "source": [
    "### Promo Price Data"
   ]
  },
  {
   "cell_type": "code",
   "execution_count": 96,
   "id": "77b91818-9346-441d-a569-b34949acf5d8",
   "metadata": {},
   "outputs": [
    {
     "data": {
      "text/html": [
       "<div>\n",
       "<style scoped>\n",
       "    .dataframe tbody tr th:only-of-type {\n",
       "        vertical-align: middle;\n",
       "    }\n",
       "\n",
       "    .dataframe tbody tr th {\n",
       "        vertical-align: top;\n",
       "    }\n",
       "\n",
       "    .dataframe thead th {\n",
       "        text-align: right;\n",
       "    }\n",
       "</style>\n",
       "<table border=\"1\" class=\"dataframe\">\n",
       "  <thead>\n",
       "    <tr style=\"text-align: right;\">\n",
       "      <th></th>\n",
       "      <th>Items</th>\n",
       "      <th>PromoPrice R-Squared</th>\n",
       "      <th>PromoPrice pValues</th>\n",
       "    </tr>\n",
       "  </thead>\n",
       "  <tbody>\n",
       "    <tr>\n",
       "      <th>0</th>\n",
       "      <td>Id1</td>\n",
       "      <td>1.677220e-01</td>\n",
       "      <td>0.000150</td>\n",
       "    </tr>\n",
       "    <tr>\n",
       "      <th>1</th>\n",
       "      <td>Id2</td>\n",
       "      <td>3.308478e-02</td>\n",
       "      <td>0.068181</td>\n",
       "    </tr>\n",
       "    <tr>\n",
       "      <th>2</th>\n",
       "      <td>Id3</td>\n",
       "      <td>6.240163e-02</td>\n",
       "      <td>0.021728</td>\n",
       "    </tr>\n",
       "    <tr>\n",
       "      <th>3</th>\n",
       "      <td>Id4</td>\n",
       "      <td>2.220446e-16</td>\n",
       "      <td>0.222222</td>\n",
       "    </tr>\n",
       "    <tr>\n",
       "      <th>4</th>\n",
       "      <td>Id5</td>\n",
       "      <td>-2.220446e-16</td>\n",
       "      <td>0.004120</td>\n",
       "    </tr>\n",
       "    <tr>\n",
       "      <th>5</th>\n",
       "      <td>Id6</td>\n",
       "      <td>5.949184e-02</td>\n",
       "      <td>0.129375</td>\n",
       "    </tr>\n",
       "    <tr>\n",
       "      <th>6</th>\n",
       "      <td>Id7</td>\n",
       "      <td>4.003835e-02</td>\n",
       "      <td>0.605986</td>\n",
       "    </tr>\n",
       "    <tr>\n",
       "      <th>7</th>\n",
       "      <td>Id8</td>\n",
       "      <td>1.714572e-01</td>\n",
       "      <td>0.011234</td>\n",
       "    </tr>\n",
       "    <tr>\n",
       "      <th>8</th>\n",
       "      <td>Id9</td>\n",
       "      <td>2.754596e-01</td>\n",
       "      <td>0.000099</td>\n",
       "    </tr>\n",
       "  </tbody>\n",
       "</table>\n",
       "</div>"
      ],
      "text/plain": [
       "  Items  PromoPrice R-Squared  PromoPrice pValues\n",
       "0   Id1          1.677220e-01            0.000150\n",
       "1   Id2          3.308478e-02            0.068181\n",
       "2   Id3          6.240163e-02            0.021728\n",
       "3   Id4          2.220446e-16            0.222222\n",
       "4   Id5         -2.220446e-16            0.004120\n",
       "5   Id6          5.949184e-02            0.129375\n",
       "6   Id7          4.003835e-02            0.605986\n",
       "7   Id8          1.714572e-01            0.011234\n",
       "8   Id9          2.754596e-01            0.000099"
      ]
     },
     "execution_count": 96,
     "metadata": {},
     "output_type": "execute_result"
    }
   ],
   "source": [
    "Prsquared = []\n",
    "Ppvalue = []\n",
    "Pitemlist = []\n",
    "for item in list(np.unique(promoDF[\"ItemID\"])):\n",
    "    itemDF = promoDF[promoDF[\"ItemID\"]==item]\n",
    "    x = itemDF[\"Price\"].tolist()\n",
    "    y = itemDF[\"Volume\"].tolist()\n",
    "    x = sm.add_constant(x)\n",
    "    model = sm.OLS(y,x)\n",
    "    modelResult = model.fit()\n",
    "    Pitemlist.append(item)\n",
    "    Prsquared.append(modelResult.rsquared)\n",
    "    Ppvalue.append(modelResult.pvalues[0])\n",
    "PmodelEval = {\"Items\": Pitemlist, \"PromoPrice R-Squared\":Prsquared, \"PromoPrice pValues\":Ppvalue}\n",
    "PmodelEvalDf = pd.DataFrame(PmodelEval)\n",
    "PmodelEvalDf"
   ]
  },
  {
   "cell_type": "markdown",
   "id": "028e7115-0b03-4935-8c04-352d98880a05",
   "metadata": {},
   "source": [
    "## WLS Model"
   ]
  },
  {
   "cell_type": "markdown",
   "id": "9a8b791c-f4b4-47fe-95ae-c489c1646fe6",
   "metadata": {},
   "source": [
    "### Regular Price Data"
   ]
  },
  {
   "cell_type": "code",
   "execution_count": 97,
   "id": "68226380-0f27-4d18-b712-ba5fe884c3ef",
   "metadata": {},
   "outputs": [
    {
     "data": {
      "text/html": [
       "<div>\n",
       "<style scoped>\n",
       "    .dataframe tbody tr th:only-of-type {\n",
       "        vertical-align: middle;\n",
       "    }\n",
       "\n",
       "    .dataframe tbody tr th {\n",
       "        vertical-align: top;\n",
       "    }\n",
       "\n",
       "    .dataframe thead th {\n",
       "        text-align: right;\n",
       "    }\n",
       "</style>\n",
       "<table border=\"1\" class=\"dataframe\">\n",
       "  <thead>\n",
       "    <tr style=\"text-align: right;\">\n",
       "      <th></th>\n",
       "      <th>Items</th>\n",
       "      <th>RegularPrice R-Squared</th>\n",
       "      <th>RegularPrice pValues</th>\n",
       "    </tr>\n",
       "  </thead>\n",
       "  <tbody>\n",
       "    <tr>\n",
       "      <th>0</th>\n",
       "      <td>Id1</td>\n",
       "      <td>0.124127</td>\n",
       "      <td>1.006930e-04</td>\n",
       "    </tr>\n",
       "    <tr>\n",
       "      <th>1</th>\n",
       "      <td>Id2</td>\n",
       "      <td>0.125910</td>\n",
       "      <td>3.882069e-04</td>\n",
       "    </tr>\n",
       "    <tr>\n",
       "      <th>2</th>\n",
       "      <td>Id3</td>\n",
       "      <td>0.087044</td>\n",
       "      <td>4.142145e-03</td>\n",
       "    </tr>\n",
       "    <tr>\n",
       "      <th>3</th>\n",
       "      <td>Id4</td>\n",
       "      <td>0.000175</td>\n",
       "      <td>7.554470e-01</td>\n",
       "    </tr>\n",
       "    <tr>\n",
       "      <th>4</th>\n",
       "      <td>Id5</td>\n",
       "      <td>0.001440</td>\n",
       "      <td>9.865109e-01</td>\n",
       "    </tr>\n",
       "    <tr>\n",
       "      <th>5</th>\n",
       "      <td>Id6</td>\n",
       "      <td>NaN</td>\n",
       "      <td>NaN</td>\n",
       "    </tr>\n",
       "    <tr>\n",
       "      <th>6</th>\n",
       "      <td>Id7</td>\n",
       "      <td>0.011474</td>\n",
       "      <td>3.000668e-01</td>\n",
       "    </tr>\n",
       "    <tr>\n",
       "      <th>7</th>\n",
       "      <td>Id8</td>\n",
       "      <td>0.163508</td>\n",
       "      <td>2.486223e-06</td>\n",
       "    </tr>\n",
       "    <tr>\n",
       "      <th>8</th>\n",
       "      <td>Id9</td>\n",
       "      <td>0.275067</td>\n",
       "      <td>1.726251e-10</td>\n",
       "    </tr>\n",
       "  </tbody>\n",
       "</table>\n",
       "</div>"
      ],
      "text/plain": [
       "  Items  RegularPrice R-Squared  RegularPrice pValues\n",
       "0   Id1                0.124127          1.006930e-04\n",
       "1   Id2                0.125910          3.882069e-04\n",
       "2   Id3                0.087044          4.142145e-03\n",
       "3   Id4                0.000175          7.554470e-01\n",
       "4   Id5                0.001440          9.865109e-01\n",
       "5   Id6                     NaN                   NaN\n",
       "6   Id7                0.011474          3.000668e-01\n",
       "7   Id8                0.163508          2.486223e-06\n",
       "8   Id9                0.275067          1.726251e-10"
      ]
     },
     "execution_count": 97,
     "metadata": {},
     "output_type": "execute_result"
    }
   ],
   "source": [
    "Rrsquared = []\n",
    "Rpvalue = []\n",
    "Ritemlist = []\n",
    "for item in list(np.unique(regularDF[\"ItemID\"])):\n",
    "    if item != \"Id6\":\n",
    "        itemDF = regularDF[regularDF[\"ItemID\"]==item]\n",
    "        x = itemDF[\"Price\"].tolist()\n",
    "        y = itemDF[\"Volume\"].tolist()\n",
    "        x = sm.add_constant(x)\n",
    "        model = sm.WLS(y,x)\n",
    "        modelResult = model.fit()\n",
    "        Ritemlist.append(item)\n",
    "        Rrsquared.append(modelResult.rsquared)\n",
    "        Rpvalue.append(modelResult.pvalues[0])\n",
    "    if item == \"Id6\":\n",
    "        Ritemlist.append(item)\n",
    "        Rrsquared.append(np.nan)\n",
    "        Rpvalue.append(np.nan)\n",
    "RmodelEval = {\"Items\": Ritemlist, \"RegularPrice R-Squared\":Rrsquared, \"RegularPrice pValues\":Rpvalue}\n",
    "RmodelEvalDf = pd.DataFrame(RmodelEval)\n",
    "RmodelEvalDf"
   ]
  },
  {
   "cell_type": "markdown",
   "id": "027f13b1-02cb-43df-bf74-259f0ac9ca46",
   "metadata": {},
   "source": [
    "### Promo Price Data"
   ]
  },
  {
   "cell_type": "code",
   "execution_count": 98,
   "id": "a5bafd34-9ca9-4724-82f9-d3427c7081e3",
   "metadata": {},
   "outputs": [
    {
     "data": {
      "text/html": [
       "<div>\n",
       "<style scoped>\n",
       "    .dataframe tbody tr th:only-of-type {\n",
       "        vertical-align: middle;\n",
       "    }\n",
       "\n",
       "    .dataframe tbody tr th {\n",
       "        vertical-align: top;\n",
       "    }\n",
       "\n",
       "    .dataframe thead th {\n",
       "        text-align: right;\n",
       "    }\n",
       "</style>\n",
       "<table border=\"1\" class=\"dataframe\">\n",
       "  <thead>\n",
       "    <tr style=\"text-align: right;\">\n",
       "      <th></th>\n",
       "      <th>Items</th>\n",
       "      <th>PromoPrice R-Squared</th>\n",
       "      <th>PromoPrice pValues</th>\n",
       "    </tr>\n",
       "  </thead>\n",
       "  <tbody>\n",
       "    <tr>\n",
       "      <th>0</th>\n",
       "      <td>Id1</td>\n",
       "      <td>1.677220e-01</td>\n",
       "      <td>0.000150</td>\n",
       "    </tr>\n",
       "    <tr>\n",
       "      <th>1</th>\n",
       "      <td>Id2</td>\n",
       "      <td>3.308478e-02</td>\n",
       "      <td>0.068181</td>\n",
       "    </tr>\n",
       "    <tr>\n",
       "      <th>2</th>\n",
       "      <td>Id3</td>\n",
       "      <td>6.240163e-02</td>\n",
       "      <td>0.021728</td>\n",
       "    </tr>\n",
       "    <tr>\n",
       "      <th>3</th>\n",
       "      <td>Id4</td>\n",
       "      <td>2.220446e-16</td>\n",
       "      <td>0.222222</td>\n",
       "    </tr>\n",
       "    <tr>\n",
       "      <th>4</th>\n",
       "      <td>Id5</td>\n",
       "      <td>-2.220446e-16</td>\n",
       "      <td>0.004120</td>\n",
       "    </tr>\n",
       "    <tr>\n",
       "      <th>5</th>\n",
       "      <td>Id6</td>\n",
       "      <td>5.949184e-02</td>\n",
       "      <td>0.129375</td>\n",
       "    </tr>\n",
       "    <tr>\n",
       "      <th>6</th>\n",
       "      <td>Id7</td>\n",
       "      <td>4.003835e-02</td>\n",
       "      <td>0.605986</td>\n",
       "    </tr>\n",
       "    <tr>\n",
       "      <th>7</th>\n",
       "      <td>Id8</td>\n",
       "      <td>1.714572e-01</td>\n",
       "      <td>0.011234</td>\n",
       "    </tr>\n",
       "    <tr>\n",
       "      <th>8</th>\n",
       "      <td>Id9</td>\n",
       "      <td>2.754596e-01</td>\n",
       "      <td>0.000099</td>\n",
       "    </tr>\n",
       "  </tbody>\n",
       "</table>\n",
       "</div>"
      ],
      "text/plain": [
       "  Items  PromoPrice R-Squared  PromoPrice pValues\n",
       "0   Id1          1.677220e-01            0.000150\n",
       "1   Id2          3.308478e-02            0.068181\n",
       "2   Id3          6.240163e-02            0.021728\n",
       "3   Id4          2.220446e-16            0.222222\n",
       "4   Id5         -2.220446e-16            0.004120\n",
       "5   Id6          5.949184e-02            0.129375\n",
       "6   Id7          4.003835e-02            0.605986\n",
       "7   Id8          1.714572e-01            0.011234\n",
       "8   Id9          2.754596e-01            0.000099"
      ]
     },
     "execution_count": 98,
     "metadata": {},
     "output_type": "execute_result"
    }
   ],
   "source": [
    "Prsquared = []\n",
    "Ppvalue = []\n",
    "Pitemlist = []\n",
    "for item in list(np.unique(promoDF[\"ItemID\"])):\n",
    "    itemDF = promoDF[promoDF[\"ItemID\"]==item]\n",
    "    x = itemDF[\"Price\"].tolist()\n",
    "    y = itemDF[\"Volume\"].tolist()\n",
    "    x = sm.add_constant(x)\n",
    "    model = sm.WLS(y,x)\n",
    "    modelResult = model.fit()\n",
    "    Pitemlist.append(item)\n",
    "    Prsquared.append(modelResult.rsquared)\n",
    "    Ppvalue.append(modelResult.pvalues[0])\n",
    "PmodelEval = {\"Items\": Pitemlist, \"PromoPrice R-Squared\":Prsquared, \"PromoPrice pValues\":Ppvalue}\n",
    "PmodelEvalDf = pd.DataFrame(PmodelEval)\n",
    "PmodelEvalDf"
   ]
  },
  {
   "cell_type": "markdown",
   "id": "3abfd443-93ef-4380-b660-49c141b1dd79",
   "metadata": {},
   "source": [
    "## GLS Model"
   ]
  },
  {
   "cell_type": "markdown",
   "id": "3ed194d0-b2da-4404-9b63-c7e45be4fc28",
   "metadata": {},
   "source": [
    "### Regular Price Data"
   ]
  },
  {
   "cell_type": "code",
   "execution_count": 99,
   "id": "144ceffc-033f-40b8-a8ee-9816fd8b21a1",
   "metadata": {},
   "outputs": [
    {
     "data": {
      "text/html": [
       "<div>\n",
       "<style scoped>\n",
       "    .dataframe tbody tr th:only-of-type {\n",
       "        vertical-align: middle;\n",
       "    }\n",
       "\n",
       "    .dataframe tbody tr th {\n",
       "        vertical-align: top;\n",
       "    }\n",
       "\n",
       "    .dataframe thead th {\n",
       "        text-align: right;\n",
       "    }\n",
       "</style>\n",
       "<table border=\"1\" class=\"dataframe\">\n",
       "  <thead>\n",
       "    <tr style=\"text-align: right;\">\n",
       "      <th></th>\n",
       "      <th>Items</th>\n",
       "      <th>RegularPrice R-Squared</th>\n",
       "      <th>RegularPrice pValues</th>\n",
       "    </tr>\n",
       "  </thead>\n",
       "  <tbody>\n",
       "    <tr>\n",
       "      <th>0</th>\n",
       "      <td>Id1</td>\n",
       "      <td>0.124127</td>\n",
       "      <td>1.006930e-04</td>\n",
       "    </tr>\n",
       "    <tr>\n",
       "      <th>1</th>\n",
       "      <td>Id2</td>\n",
       "      <td>0.125910</td>\n",
       "      <td>3.882069e-04</td>\n",
       "    </tr>\n",
       "    <tr>\n",
       "      <th>2</th>\n",
       "      <td>Id3</td>\n",
       "      <td>0.087044</td>\n",
       "      <td>4.142145e-03</td>\n",
       "    </tr>\n",
       "    <tr>\n",
       "      <th>3</th>\n",
       "      <td>Id4</td>\n",
       "      <td>0.000175</td>\n",
       "      <td>7.554470e-01</td>\n",
       "    </tr>\n",
       "    <tr>\n",
       "      <th>4</th>\n",
       "      <td>Id5</td>\n",
       "      <td>0.001440</td>\n",
       "      <td>9.865109e-01</td>\n",
       "    </tr>\n",
       "    <tr>\n",
       "      <th>5</th>\n",
       "      <td>Id6</td>\n",
       "      <td>NaN</td>\n",
       "      <td>NaN</td>\n",
       "    </tr>\n",
       "    <tr>\n",
       "      <th>6</th>\n",
       "      <td>Id7</td>\n",
       "      <td>0.011474</td>\n",
       "      <td>3.000668e-01</td>\n",
       "    </tr>\n",
       "    <tr>\n",
       "      <th>7</th>\n",
       "      <td>Id8</td>\n",
       "      <td>0.163508</td>\n",
       "      <td>2.486223e-06</td>\n",
       "    </tr>\n",
       "    <tr>\n",
       "      <th>8</th>\n",
       "      <td>Id9</td>\n",
       "      <td>0.275067</td>\n",
       "      <td>1.726251e-10</td>\n",
       "    </tr>\n",
       "  </tbody>\n",
       "</table>\n",
       "</div>"
      ],
      "text/plain": [
       "  Items  RegularPrice R-Squared  RegularPrice pValues\n",
       "0   Id1                0.124127          1.006930e-04\n",
       "1   Id2                0.125910          3.882069e-04\n",
       "2   Id3                0.087044          4.142145e-03\n",
       "3   Id4                0.000175          7.554470e-01\n",
       "4   Id5                0.001440          9.865109e-01\n",
       "5   Id6                     NaN                   NaN\n",
       "6   Id7                0.011474          3.000668e-01\n",
       "7   Id8                0.163508          2.486223e-06\n",
       "8   Id9                0.275067          1.726251e-10"
      ]
     },
     "execution_count": 99,
     "metadata": {},
     "output_type": "execute_result"
    }
   ],
   "source": [
    "Rrsquared = []\n",
    "Rpvalue = []\n",
    "Ritemlist = []\n",
    "for item in list(np.unique(regularDF[\"ItemID\"])):\n",
    "    if item != \"Id6\":\n",
    "        itemDF = regularDF[regularDF[\"ItemID\"]==item]\n",
    "        x = itemDF[\"Price\"].tolist()\n",
    "        y = itemDF[\"Volume\"].tolist()\n",
    "        x = sm.add_constant(x)\n",
    "        model = sm.GLS(y,x)\n",
    "        modelResult = model.fit()\n",
    "        Ritemlist.append(item)\n",
    "        Rrsquared.append(modelResult.rsquared)\n",
    "        Rpvalue.append(modelResult.pvalues[0])\n",
    "    if item == \"Id6\":\n",
    "        Ritemlist.append(item)\n",
    "        Rrsquared.append(np.nan)\n",
    "        Rpvalue.append(np.nan)\n",
    "RmodelEval = {\"Items\": Ritemlist, \"RegularPrice R-Squared\":Rrsquared, \"RegularPrice pValues\":Rpvalue}\n",
    "RmodelEvalDf = pd.DataFrame(RmodelEval)\n",
    "RmodelEvalDf"
   ]
  },
  {
   "cell_type": "markdown",
   "id": "7d13b780-479c-406e-8f40-1ba2307060e2",
   "metadata": {},
   "source": [
    "### Promo Price Data"
   ]
  },
  {
   "cell_type": "code",
   "execution_count": 100,
   "id": "85505bf4-1083-4748-b8d6-fea64aa74e27",
   "metadata": {},
   "outputs": [
    {
     "data": {
      "text/html": [
       "<div>\n",
       "<style scoped>\n",
       "    .dataframe tbody tr th:only-of-type {\n",
       "        vertical-align: middle;\n",
       "    }\n",
       "\n",
       "    .dataframe tbody tr th {\n",
       "        vertical-align: top;\n",
       "    }\n",
       "\n",
       "    .dataframe thead th {\n",
       "        text-align: right;\n",
       "    }\n",
       "</style>\n",
       "<table border=\"1\" class=\"dataframe\">\n",
       "  <thead>\n",
       "    <tr style=\"text-align: right;\">\n",
       "      <th></th>\n",
       "      <th>Items</th>\n",
       "      <th>PromoPrice R-Squared</th>\n",
       "      <th>PromoPrice pValues</th>\n",
       "    </tr>\n",
       "  </thead>\n",
       "  <tbody>\n",
       "    <tr>\n",
       "      <th>0</th>\n",
       "      <td>Id1</td>\n",
       "      <td>1.677220e-01</td>\n",
       "      <td>0.000150</td>\n",
       "    </tr>\n",
       "    <tr>\n",
       "      <th>1</th>\n",
       "      <td>Id2</td>\n",
       "      <td>3.308478e-02</td>\n",
       "      <td>0.068181</td>\n",
       "    </tr>\n",
       "    <tr>\n",
       "      <th>2</th>\n",
       "      <td>Id3</td>\n",
       "      <td>6.240163e-02</td>\n",
       "      <td>0.021728</td>\n",
       "    </tr>\n",
       "    <tr>\n",
       "      <th>3</th>\n",
       "      <td>Id4</td>\n",
       "      <td>2.220446e-16</td>\n",
       "      <td>0.222222</td>\n",
       "    </tr>\n",
       "    <tr>\n",
       "      <th>4</th>\n",
       "      <td>Id5</td>\n",
       "      <td>-2.220446e-16</td>\n",
       "      <td>0.004120</td>\n",
       "    </tr>\n",
       "    <tr>\n",
       "      <th>5</th>\n",
       "      <td>Id6</td>\n",
       "      <td>5.949184e-02</td>\n",
       "      <td>0.129375</td>\n",
       "    </tr>\n",
       "    <tr>\n",
       "      <th>6</th>\n",
       "      <td>Id7</td>\n",
       "      <td>4.003835e-02</td>\n",
       "      <td>0.605986</td>\n",
       "    </tr>\n",
       "    <tr>\n",
       "      <th>7</th>\n",
       "      <td>Id8</td>\n",
       "      <td>1.714572e-01</td>\n",
       "      <td>0.011234</td>\n",
       "    </tr>\n",
       "    <tr>\n",
       "      <th>8</th>\n",
       "      <td>Id9</td>\n",
       "      <td>2.754596e-01</td>\n",
       "      <td>0.000099</td>\n",
       "    </tr>\n",
       "  </tbody>\n",
       "</table>\n",
       "</div>"
      ],
      "text/plain": [
       "  Items  PromoPrice R-Squared  PromoPrice pValues\n",
       "0   Id1          1.677220e-01            0.000150\n",
       "1   Id2          3.308478e-02            0.068181\n",
       "2   Id3          6.240163e-02            0.021728\n",
       "3   Id4          2.220446e-16            0.222222\n",
       "4   Id5         -2.220446e-16            0.004120\n",
       "5   Id6          5.949184e-02            0.129375\n",
       "6   Id7          4.003835e-02            0.605986\n",
       "7   Id8          1.714572e-01            0.011234\n",
       "8   Id9          2.754596e-01            0.000099"
      ]
     },
     "execution_count": 100,
     "metadata": {},
     "output_type": "execute_result"
    }
   ],
   "source": [
    "Prsquared = []\n",
    "Ppvalue = []\n",
    "Pitemlist = []\n",
    "for item in list(np.unique(promoDF[\"ItemID\"])):\n",
    "    itemDF = promoDF[promoDF[\"ItemID\"]==item]\n",
    "    x = itemDF[\"Price\"].tolist()\n",
    "    y = itemDF[\"Volume\"].tolist()\n",
    "    x = sm.add_constant(x)\n",
    "    model = sm.GLS(y,x)\n",
    "    modelResult = model.fit()\n",
    "    Pitemlist.append(item)\n",
    "    Prsquared.append(modelResult.rsquared)\n",
    "    Ppvalue.append(modelResult.pvalues[0])\n",
    "PmodelEval = {\"Items\": Pitemlist, \"PromoPrice R-Squared\":Prsquared, \"PromoPrice pValues\":Ppvalue}\n",
    "PmodelEvalDf = pd.DataFrame(PmodelEval)\n",
    "PmodelEvalDf"
   ]
  },
  {
   "cell_type": "markdown",
   "id": "ca22c27d-3e4e-4f23-9653-a3a2a75aa35f",
   "metadata": {},
   "source": [
    "## Model Evaluation Inferences\n",
    "From Model Evaluation we infer following points.\n",
    "- The All model did no perform very well for the given data. This could be because of small anount of data available. Also another reason coulld be as we are trying to predic demand based on only prices but demand depend on various factors like \"Festive Ocations\", \"Seasons\", \"Location\" etc.\n",
    "- However the \"pvalues\" are in acceptable range and we can reject the \"null hypothesis\".\n",
    "\n",
    "We Well use \"OLS\" model as all models are performing similar. And we want to keep model simple to avoide over fitting."
   ]
  },
  {
   "cell_type": "markdown",
   "id": "aba49748-fd79-449a-9abf-c086ef68ceba",
   "metadata": {
    "tags": []
   },
   "source": [
    "# 6. Model Building and Price Elaticity Calculation: \n",
    "## Elasticity Calculation for Regular Price Data\n",
    "At the bigining we discussed the formula for \"Price Elasticity\". We will modify that formula for regression model.\n",
    "\n",
    "The \"Price Elasticity\" formula for Regression model is:\n",
    "$$E_d = slope(Coeficient of regression model) \\times \\frac{Price Mean}{Volume Mean}$$"
   ]
  },
  {
   "cell_type": "code",
   "execution_count": 101,
   "id": "970b3ba1-a906-4b29-aa1e-4e6bb6f73dea",
   "metadata": {},
   "outputs": [
    {
     "data": {
      "text/html": [
       "<div>\n",
       "<style scoped>\n",
       "    .dataframe tbody tr th:only-of-type {\n",
       "        vertical-align: middle;\n",
       "    }\n",
       "\n",
       "    .dataframe tbody tr th {\n",
       "        vertical-align: top;\n",
       "    }\n",
       "\n",
       "    .dataframe thead th {\n",
       "        text-align: right;\n",
       "    }\n",
       "</style>\n",
       "<table border=\"1\" class=\"dataframe\">\n",
       "  <thead>\n",
       "    <tr style=\"text-align: right;\">\n",
       "      <th></th>\n",
       "      <th>ItemID</th>\n",
       "      <th>Week</th>\n",
       "      <th>CostPrice</th>\n",
       "      <th>Price</th>\n",
       "      <th>Volume</th>\n",
       "    </tr>\n",
       "  </thead>\n",
       "  <tbody>\n",
       "    <tr>\n",
       "      <th>332</th>\n",
       "      <td>Id1</td>\n",
       "      <td>2020-11-29</td>\n",
       "      <td>95.0</td>\n",
       "      <td>150.0</td>\n",
       "      <td>40.0</td>\n",
       "    </tr>\n",
       "    <tr>\n",
       "      <th>639</th>\n",
       "      <td>Id1</td>\n",
       "      <td>2021-08-15</td>\n",
       "      <td>94.0</td>\n",
       "      <td>150.0</td>\n",
       "      <td>100.0</td>\n",
       "    </tr>\n",
       "    <tr>\n",
       "      <th>283</th>\n",
       "      <td>Id1</td>\n",
       "      <td>2020-10-18</td>\n",
       "      <td>95.0</td>\n",
       "      <td>150.0</td>\n",
       "      <td>140.0</td>\n",
       "    </tr>\n",
       "    <tr>\n",
       "      <th>631</th>\n",
       "      <td>Id1</td>\n",
       "      <td>2021-08-08</td>\n",
       "      <td>94.0</td>\n",
       "      <td>150.0</td>\n",
       "      <td>40.0</td>\n",
       "    </tr>\n",
       "    <tr>\n",
       "      <th>291</th>\n",
       "      <td>Id1</td>\n",
       "      <td>2020-10-25</td>\n",
       "      <td>95.0</td>\n",
       "      <td>150.0</td>\n",
       "      <td>100.0</td>\n",
       "    </tr>\n",
       "  </tbody>\n",
       "</table>\n",
       "</div>"
      ],
      "text/plain": [
       "    ItemID        Week  CostPrice  Price  Volume\n",
       "332    Id1  2020-11-29       95.0  150.0    40.0\n",
       "639    Id1  2021-08-15       94.0  150.0   100.0\n",
       "283    Id1  2020-10-18       95.0  150.0   140.0\n",
       "631    Id1  2021-08-08       94.0  150.0    40.0\n",
       "291    Id1  2020-10-25       95.0  150.0   100.0"
      ]
     },
     "execution_count": 101,
     "metadata": {},
     "output_type": "execute_result"
    }
   ],
   "source": [
    "item = \"Id1\"\n",
    "itemDF = regularDF[regularDF[\"ItemID\"]==item]\n",
    "itemDF.head()"
   ]
  },
  {
   "cell_type": "code",
   "execution_count": 102,
   "id": "11e84794-bbfb-4eac-a80b-7c097b8c3129",
   "metadata": {},
   "outputs": [
    {
     "data": {
      "text/html": [
       "<table class=\"simpletable\">\n",
       "<caption>OLS Regression Results</caption>\n",
       "<tr>\n",
       "  <th>Dep. Variable:</th>            <td>y</td>        <th>  R-squared:         </th> <td>   0.124</td>\n",
       "</tr>\n",
       "<tr>\n",
       "  <th>Model:</th>                   <td>OLS</td>       <th>  Adj. R-squared:    </th> <td>   0.113</td>\n",
       "</tr>\n",
       "<tr>\n",
       "  <th>Method:</th>             <td>Least Squares</td>  <th>  F-statistic:       </th> <td>   10.77</td>\n",
       "</tr>\n",
       "<tr>\n",
       "  <th>Date:</th>             <td>Sat, 08 Oct 2022</td> <th>  Prob (F-statistic):</th>  <td>0.00156</td>\n",
       "</tr>\n",
       "<tr>\n",
       "  <th>Time:</th>                 <td>21:57:54</td>     <th>  Log-Likelihood:    </th> <td> -483.42</td>\n",
       "</tr>\n",
       "<tr>\n",
       "  <th>No. Observations:</th>      <td>    78</td>      <th>  AIC:               </th> <td>   970.8</td>\n",
       "</tr>\n",
       "<tr>\n",
       "  <th>Df Residuals:</th>          <td>    76</td>      <th>  BIC:               </th> <td>   975.6</td>\n",
       "</tr>\n",
       "<tr>\n",
       "  <th>Df Model:</th>              <td>     1</td>      <th>                     </th>     <td> </td>   \n",
       "</tr>\n",
       "<tr>\n",
       "  <th>Covariance Type:</th>      <td>nonrobust</td>    <th>                     </th>     <td> </td>   \n",
       "</tr>\n",
       "</table>\n",
       "<table class=\"simpletable\">\n",
       "<tr>\n",
       "    <td></td>       <th>coef</th>     <th>std err</th>      <th>t</th>      <th>P>|t|</th>  <th>[0.025</th>    <th>0.975]</th>  \n",
       "</tr>\n",
       "<tr>\n",
       "  <th>const</th> <td>  796.8776</td> <td>  194.111</td> <td>    4.105</td> <td> 0.000</td> <td>  410.272</td> <td> 1183.483</td>\n",
       "</tr>\n",
       "<tr>\n",
       "  <th>x1</th>    <td>   -4.2224</td> <td>    1.287</td> <td>   -3.282</td> <td> 0.002</td> <td>   -6.785</td> <td>   -1.660</td>\n",
       "</tr>\n",
       "</table>\n",
       "<table class=\"simpletable\">\n",
       "<tr>\n",
       "  <th>Omnibus:</th>       <td>11.116</td> <th>  Durbin-Watson:     </th> <td>   1.751</td>\n",
       "</tr>\n",
       "<tr>\n",
       "  <th>Prob(Omnibus):</th> <td> 0.004</td> <th>  Jarque-Bera (JB):  </th> <td>  11.495</td>\n",
       "</tr>\n",
       "<tr>\n",
       "  <th>Skew:</th>          <td> 0.915</td> <th>  Prob(JB):          </th> <td> 0.00319</td>\n",
       "</tr>\n",
       "<tr>\n",
       "  <th>Kurtosis:</th>      <td> 3.432</td> <th>  Cond. No.          </th> <td>2.15e+03</td>\n",
       "</tr>\n",
       "</table><br/><br/>Notes:<br/>[1] Standard Errors assume that the covariance matrix of the errors is correctly specified.<br/>[2] The condition number is large, 2.15e+03. This might indicate that there are<br/>strong multicollinearity or other numerical problems."
      ],
      "text/plain": [
       "<class 'statsmodels.iolib.summary.Summary'>\n",
       "\"\"\"\n",
       "                            OLS Regression Results                            \n",
       "==============================================================================\n",
       "Dep. Variable:                      y   R-squared:                       0.124\n",
       "Model:                            OLS   Adj. R-squared:                  0.113\n",
       "Method:                 Least Squares   F-statistic:                     10.77\n",
       "Date:                Sat, 08 Oct 2022   Prob (F-statistic):            0.00156\n",
       "Time:                        21:57:54   Log-Likelihood:                -483.42\n",
       "No. Observations:                  78   AIC:                             970.8\n",
       "Df Residuals:                      76   BIC:                             975.6\n",
       "Df Model:                           1                                         \n",
       "Covariance Type:            nonrobust                                         \n",
       "==============================================================================\n",
       "                 coef    std err          t      P>|t|      [0.025      0.975]\n",
       "------------------------------------------------------------------------------\n",
       "const        796.8776    194.111      4.105      0.000     410.272    1183.483\n",
       "x1            -4.2224      1.287     -3.282      0.002      -6.785      -1.660\n",
       "==============================================================================\n",
       "Omnibus:                       11.116   Durbin-Watson:                   1.751\n",
       "Prob(Omnibus):                  0.004   Jarque-Bera (JB):               11.495\n",
       "Skew:                           0.915   Prob(JB):                      0.00319\n",
       "Kurtosis:                       3.432   Cond. No.                     2.15e+03\n",
       "==============================================================================\n",
       "\n",
       "Notes:\n",
       "[1] Standard Errors assume that the covariance matrix of the errors is correctly specified.\n",
       "[2] The condition number is large, 2.15e+03. This might indicate that there are\n",
       "strong multicollinearity or other numerical problems.\n",
       "\"\"\""
      ]
     },
     "execution_count": 102,
     "metadata": {},
     "output_type": "execute_result"
    }
   ],
   "source": [
    "x = itemDF[\"Price\"].tolist()\n",
    "y = itemDF[\"Volume\"].tolist()\n",
    "x = sm.add_constant(x)\n",
    "model = sm.OLS(y,x)\n",
    "modelResult = model.fit()\n",
    "modelResult.summary()"
   ]
  },
  {
   "cell_type": "code",
   "execution_count": 103,
   "id": "14f97fda-d4d1-480e-9845-98b1fb09c703",
   "metadata": {},
   "outputs": [
    {
     "name": "stdout",
     "output_type": "stream",
     "text": [
      "Slope = -4.222374195019081\n"
     ]
    }
   ],
   "source": [
    "slope = modelResult.params[1]\n",
    "print(f\"Slope = {slope}\")"
   ]
  },
  {
   "cell_type": "code",
   "execution_count": 104,
   "id": "e6f3fd6e-25d7-4bd0-90e9-0bfb74ba69f0",
   "metadata": {},
   "outputs": [
    {
     "name": "stdout",
     "output_type": "stream",
     "text": [
      "Price Mean = 150.5\n",
      "Volume Mean = 161.4102564102564\n"
     ]
    }
   ],
   "source": [
    "pricemean = itemDF[\"Price\"].mean()\n",
    "volumemean = itemDF[\"Volume\"].mean()\n",
    "print(f\"Price Mean = {pricemean}\")\n",
    "print(f\"Volume Mean = {volumemean}\")"
   ]
  },
  {
   "cell_type": "code",
   "execution_count": 105,
   "id": "27c67055-bb97-4d70-97b7-b7a495e68824",
   "metadata": {},
   "outputs": [
    {
     "name": "stdout",
     "output_type": "stream",
     "text": [
      "Price Elasticity = -3.9369698709554406\n"
     ]
    }
   ],
   "source": [
    "elasticity = slope * (pricemean/volumemean)\n",
    "print(f\"Price Elasticity = {elasticity}\")"
   ]
  },
  {
   "cell_type": "markdown",
   "id": "952dbbd7-0a2e-4bd4-ae1b-ddde254135db",
   "metadata": {},
   "source": [
    "### Regular Price Elasticity\n",
    "for Example We will show price Elasticity calculation for one Item then we will use loop to compute for all"
   ]
  },
  {
   "cell_type": "code",
   "execution_count": 106,
   "id": "8df163ad-65f5-470d-9ef6-095904176ca5",
   "metadata": {},
   "outputs": [
    {
     "data": {
      "text/html": [
       "<div>\n",
       "<style scoped>\n",
       "    .dataframe tbody tr th:only-of-type {\n",
       "        vertical-align: middle;\n",
       "    }\n",
       "\n",
       "    .dataframe tbody tr th {\n",
       "        vertical-align: top;\n",
       "    }\n",
       "\n",
       "    .dataframe thead th {\n",
       "        text-align: right;\n",
       "    }\n",
       "</style>\n",
       "<table border=\"1\" class=\"dataframe\">\n",
       "  <thead>\n",
       "    <tr style=\"text-align: right;\">\n",
       "      <th></th>\n",
       "      <th>Items</th>\n",
       "      <th>Regular Price Elasticity</th>\n",
       "    </tr>\n",
       "  </thead>\n",
       "  <tbody>\n",
       "    <tr>\n",
       "      <th>0</th>\n",
       "      <td>Id1</td>\n",
       "      <td>-3.936970</td>\n",
       "    </tr>\n",
       "    <tr>\n",
       "      <th>1</th>\n",
       "      <td>Id2</td>\n",
       "      <td>-5.156805</td>\n",
       "    </tr>\n",
       "    <tr>\n",
       "      <th>2</th>\n",
       "      <td>Id3</td>\n",
       "      <td>-8.760572</td>\n",
       "    </tr>\n",
       "    <tr>\n",
       "      <th>3</th>\n",
       "      <td>Id4</td>\n",
       "      <td>-0.381939</td>\n",
       "    </tr>\n",
       "    <tr>\n",
       "      <th>4</th>\n",
       "      <td>Id5</td>\n",
       "      <td>0.951515</td>\n",
       "    </tr>\n",
       "    <tr>\n",
       "      <th>5</th>\n",
       "      <td>Id6</td>\n",
       "      <td>NaN</td>\n",
       "    </tr>\n",
       "    <tr>\n",
       "      <th>6</th>\n",
       "      <td>Id7</td>\n",
       "      <td>-5.983689</td>\n",
       "    </tr>\n",
       "    <tr>\n",
       "      <th>7</th>\n",
       "      <td>Id8</td>\n",
       "      <td>-4.468611</td>\n",
       "    </tr>\n",
       "    <tr>\n",
       "      <th>8</th>\n",
       "      <td>Id9</td>\n",
       "      <td>-3.644798</td>\n",
       "    </tr>\n",
       "  </tbody>\n",
       "</table>\n",
       "</div>"
      ],
      "text/plain": [
       "  Items  Regular Price Elasticity\n",
       "0   Id1                 -3.936970\n",
       "1   Id2                 -5.156805\n",
       "2   Id3                 -8.760572\n",
       "3   Id4                 -0.381939\n",
       "4   Id5                  0.951515\n",
       "5   Id6                       NaN\n",
       "6   Id7                 -5.983689\n",
       "7   Id8                 -4.468611\n",
       "8   Id9                 -3.644798"
      ]
     },
     "execution_count": 106,
     "metadata": {},
     "output_type": "execute_result"
    }
   ],
   "source": [
    "RegularPriceElasticity = []\n",
    "itemlist = []\n",
    "for item in list(np.unique(regularDF[\"ItemID\"])):\n",
    "    if item != \"Id6\":\n",
    "        itemDF = regularDF[regularDF[\"ItemID\"]==item]\n",
    "        x = itemDF[\"Price\"].tolist()\n",
    "        y = itemDF[\"Volume\"].tolist()\n",
    "        x = sm.add_constant(x)\n",
    "        model = sm.OLS(y,x)\n",
    "        modelResult = model.fit()\n",
    "        slope = modelResult.params[1]\n",
    "        pricemean = itemDF[\"Price\"].mean()\n",
    "        volumemean = itemDF[\"Volume\"].mean()\n",
    "        elasticity = slope * (pricemean/volumemean)\n",
    "        itemlist.append(item)\n",
    "        RegularPriceElasticity.append(elasticity)\n",
    "    if item == \"Id6\":\n",
    "        itemlist.append(item)\n",
    "        RegularPriceElasticity.append(np.nan)\n",
    "RElasticityOfDemand = {\"Items\": itemlist, \"Regular Price Elasticity\":RegularPriceElasticity}\n",
    "RegularElasticityOfDemandDf = pd.DataFrame(RElasticityOfDemand)\n",
    "RegularElasticityOfDemandDf"
   ]
  },
  {
   "cell_type": "code",
   "execution_count": 107,
   "id": "d1a7013d-3ba8-4b03-9a31-44b8b59f2dd3",
   "metadata": {},
   "outputs": [
    {
     "data": {
      "image/png": "[encoded data removed]",
      "text/plain": [
       "<Figure size 432x288 with 1 Axes>"
      ]
     },
     "metadata": {
      "needs_background": "light"
     },
     "output_type": "display_data"
    }
   ],
   "source": [
    "ax = RegularElasticityOfDemandDf.plot(kind=\"barh\", x='Items', y='Regular Price Elasticity', legend=False)\n",
    "ax.bar_label(ax.containers[0], color=\"red\")\n",
    "ax.set_xlim(-11,4)\n",
    "plt.title(\"Regular Price Elasticity\")\n",
    "plt.xlabel(\"Price Elasticity\")\n",
    "plt.ylabel(\"Items\")\n",
    "plt.savefig(\"RPriceElasticity.pdf\")"
   ]
  },
  {
   "cell_type": "markdown",
   "id": "5e19c8bb-b0d5-418b-b841-91e02f9a4efc",
   "metadata": {},
   "source": [
    "### promo Price Elasticity"
   ]
  },
  {
   "cell_type": "code",
   "execution_count": 108,
   "id": "d95d78b3-9a49-4911-a58d-e5aa70266c85",
   "metadata": {},
   "outputs": [
    {
     "data": {
      "text/html": [
       "<div>\n",
       "<style scoped>\n",
       "    .dataframe tbody tr th:only-of-type {\n",
       "        vertical-align: middle;\n",
       "    }\n",
       "\n",
       "    .dataframe tbody tr th {\n",
       "        vertical-align: top;\n",
       "    }\n",
       "\n",
       "    .dataframe thead th {\n",
       "        text-align: right;\n",
       "    }\n",
       "</style>\n",
       "<table border=\"1\" class=\"dataframe\">\n",
       "  <thead>\n",
       "    <tr style=\"text-align: right;\">\n",
       "      <th></th>\n",
       "      <th>Items</th>\n",
       "      <th>Promo Price Elasticity</th>\n",
       "    </tr>\n",
       "  </thead>\n",
       "  <tbody>\n",
       "    <tr>\n",
       "      <th>0</th>\n",
       "      <td>Id1</td>\n",
       "      <td>-3.354475</td>\n",
       "    </tr>\n",
       "    <tr>\n",
       "      <th>1</th>\n",
       "      <td>Id2</td>\n",
       "      <td>-1.901496</td>\n",
       "    </tr>\n",
       "    <tr>\n",
       "      <th>2</th>\n",
       "      <td>Id3</td>\n",
       "      <td>-1.964864</td>\n",
       "    </tr>\n",
       "    <tr>\n",
       "      <th>3</th>\n",
       "      <td>Id4</td>\n",
       "      <td>NaN</td>\n",
       "    </tr>\n",
       "    <tr>\n",
       "      <th>4</th>\n",
       "      <td>Id5</td>\n",
       "      <td>NaN</td>\n",
       "    </tr>\n",
       "    <tr>\n",
       "      <th>5</th>\n",
       "      <td>Id6</td>\n",
       "      <td>-2.691237</td>\n",
       "    </tr>\n",
       "    <tr>\n",
       "      <th>6</th>\n",
       "      <td>Id7</td>\n",
       "      <td>2.544505</td>\n",
       "    </tr>\n",
       "    <tr>\n",
       "      <th>7</th>\n",
       "      <td>Id8</td>\n",
       "      <td>-4.250652</td>\n",
       "    </tr>\n",
       "    <tr>\n",
       "      <th>8</th>\n",
       "      <td>Id9</td>\n",
       "      <td>-2.263876</td>\n",
       "    </tr>\n",
       "  </tbody>\n",
       "</table>\n",
       "</div>"
      ],
      "text/plain": [
       "  Items  Promo Price Elasticity\n",
       "0   Id1               -3.354475\n",
       "1   Id2               -1.901496\n",
       "2   Id3               -1.964864\n",
       "3   Id4                     NaN\n",
       "4   Id5                     NaN\n",
       "5   Id6               -2.691237\n",
       "6   Id7                2.544505\n",
       "7   Id8               -4.250652\n",
       "8   Id9               -2.263876"
      ]
     },
     "execution_count": 108,
     "metadata": {},
     "output_type": "execute_result"
    }
   ],
   "source": [
    "PromoPriceElasticity = []\n",
    "itemlist = []\n",
    "for item in list(np.unique(promoDF[\"ItemID\"])):\n",
    "    if item != \"Id4\" and item != \"Id5\":\n",
    "        itemDF = promoDF[promoDF[\"ItemID\"]==item]\n",
    "        x = itemDF[\"Price\"].tolist()\n",
    "        y = itemDF[\"Volume\"].tolist()\n",
    "        x = sm.add_constant(x)\n",
    "        model = sm.OLS(y,x)\n",
    "        modelResult = model.fit()\n",
    "        slope = modelResult.params[1]\n",
    "        pricemean = itemDF[\"Price\"].mean()\n",
    "        volumemean = itemDF[\"Volume\"].mean()\n",
    "        elasticity = slope * (pricemean/volumemean)\n",
    "        itemlist.append(item)\n",
    "        PromoPriceElasticity.append(elasticity)\n",
    "    else:\n",
    "        itemlist.append(item)\n",
    "        PromoPriceElasticity.append(np.nan)\n",
    "PromoElasticityOfDemand = {\"Items\": itemlist, \"Promo Price Elasticity\":PromoPriceElasticity}\n",
    "PromoElasticityOfDemandDf = pd.DataFrame(PromoElasticityOfDemand)\n",
    "PromoElasticityOfDemandDf"
   ]
  },
  {
   "cell_type": "code",
   "execution_count": 109,
   "id": "d9ea434b-7f20-40ae-a0a9-41d9884c06d2",
   "metadata": {},
   "outputs": [
    {
     "data": {
      "image/png": "[encoded data removed]",
      "text/plain": [
       "<Figure size 432x288 with 1 Axes>"
      ]
     },
     "metadata": {
      "needs_background": "light"
     },
     "output_type": "display_data"
    }
   ],
   "source": [
    "ax = PromoElasticityOfDemandDf.plot(kind=\"barh\", x='Items', y='Promo Price Elasticity', legend=False)\n",
    "ax.bar_label(ax.containers[0], color=\"red\")\n",
    "ax.set_xlim(-7,5)\n",
    "plt.title(\"Promo Price Elasticity\")\n",
    "plt.xlabel(\"Price Elasticity\")\n",
    "plt.ylabel(\"Items\")\n",
    "plt.savefig(\"PPriceElasticity.pdf\")"
   ]
  },
  {
   "cell_type": "code",
   "execution_count": 110,
   "id": "6a8a7d63-bb7a-4fd8-82bb-b0f760e7b845",
   "metadata": {},
   "outputs": [
    {
     "data": {
      "text/html": [
       "<div>\n",
       "<style scoped>\n",
       "    .dataframe tbody tr th:only-of-type {\n",
       "        vertical-align: middle;\n",
       "    }\n",
       "\n",
       "    .dataframe tbody tr th {\n",
       "        vertical-align: top;\n",
       "    }\n",
       "\n",
       "    .dataframe thead th {\n",
       "        text-align: right;\n",
       "    }\n",
       "</style>\n",
       "<table border=\"1\" class=\"dataframe\">\n",
       "  <thead>\n",
       "    <tr style=\"text-align: right;\">\n",
       "      <th></th>\n",
       "      <th>Items</th>\n",
       "      <th>Regular Price Elasticity</th>\n",
       "      <th>Promo Price Elasticity</th>\n",
       "    </tr>\n",
       "  </thead>\n",
       "  <tbody>\n",
       "    <tr>\n",
       "      <th>0</th>\n",
       "      <td>Id1</td>\n",
       "      <td>-3.936970</td>\n",
       "      <td>-3.354475</td>\n",
       "    </tr>\n",
       "    <tr>\n",
       "      <th>1</th>\n",
       "      <td>Id2</td>\n",
       "      <td>-5.156805</td>\n",
       "      <td>-1.901496</td>\n",
       "    </tr>\n",
       "    <tr>\n",
       "      <th>2</th>\n",
       "      <td>Id3</td>\n",
       "      <td>-8.760572</td>\n",
       "      <td>-1.964864</td>\n",
       "    </tr>\n",
       "    <tr>\n",
       "      <th>3</th>\n",
       "      <td>Id4</td>\n",
       "      <td>-0.381939</td>\n",
       "      <td>NaN</td>\n",
       "    </tr>\n",
       "    <tr>\n",
       "      <th>4</th>\n",
       "      <td>Id5</td>\n",
       "      <td>0.951515</td>\n",
       "      <td>NaN</td>\n",
       "    </tr>\n",
       "    <tr>\n",
       "      <th>5</th>\n",
       "      <td>Id6</td>\n",
       "      <td>NaN</td>\n",
       "      <td>-2.691237</td>\n",
       "    </tr>\n",
       "    <tr>\n",
       "      <th>6</th>\n",
       "      <td>Id7</td>\n",
       "      <td>-5.983689</td>\n",
       "      <td>2.544505</td>\n",
       "    </tr>\n",
       "    <tr>\n",
       "      <th>7</th>\n",
       "      <td>Id8</td>\n",
       "      <td>-4.468611</td>\n",
       "      <td>-4.250652</td>\n",
       "    </tr>\n",
       "    <tr>\n",
       "      <th>8</th>\n",
       "      <td>Id9</td>\n",
       "      <td>-3.644798</td>\n",
       "      <td>-2.263876</td>\n",
       "    </tr>\n",
       "  </tbody>\n",
       "</table>\n",
       "</div>"
      ],
      "text/plain": [
       "  Items  Regular Price Elasticity  Promo Price Elasticity\n",
       "0   Id1                 -3.936970               -3.354475\n",
       "1   Id2                 -5.156805               -1.901496\n",
       "2   Id3                 -8.760572               -1.964864\n",
       "3   Id4                 -0.381939                     NaN\n",
       "4   Id5                  0.951515                     NaN\n",
       "5   Id6                       NaN               -2.691237\n",
       "6   Id7                 -5.983689                2.544505\n",
       "7   Id8                 -4.468611               -4.250652\n",
       "8   Id9                 -3.644798               -2.263876"
      ]
     },
     "execution_count": 110,
     "metadata": {},
     "output_type": "execute_result"
    }
   ],
   "source": [
    "elasticityDf = pd.concat([RegularElasticityOfDemandDf[[\"Items\", \"Regular Price Elasticity\"]], PromoElasticityOfDemandDf[[\"Promo Price Elasticity\"]]], axis=1)\n",
    "elasticityDf"
   ]
  },
  {
   "cell_type": "markdown",
   "id": "e10f9f2b-25d6-4dc9-9457-b8892c1313f1",
   "metadata": {},
   "source": [
    "# 7. Final Deliverable"
   ]
  },
  {
   "cell_type": "markdown",
   "id": "29bb8e1b-7f50-4039-8662-35fad1c9b216",
   "metadata": {},
   "source": [
    "## ItemID=\"Id1\"\n",
    "### Regular Price Elasticity\n",
    "- Price Elasticity = -3.97 (Negatively Elastic)\n",
    "- Price Is negatively elastic to the demand. 10% increase in price will cause 39.7% decrease in demand.\n",
    "- And 10% decrease in price will cause 39.7% increase in demand. So i'll suggest to decrease the price.<br>\n",
    "### Promo Price Elasticity\n",
    "- Price Elasticity = -3.35 (Negatively Elastic)\n",
    "- Price Is negatively elastic to the demand. 10% increase in price will cause 33.5% decrease in demand.\n",
    "- And 10% decrease in price will cause 33.5% increase in demand. So i'll suggest to decrease the price.\n",
    "\n",
    "## ItemID=\"Id2\"\n",
    "### Regular Price Elasticity\n",
    "- Price Elasticity = -5.17 (Negatively Elastic)\n",
    "- Price Is negatively elastic to the demand. 10% increase in price will cause 51.7% decrease in demand.\n",
    "- And 10% decrease in price will cause 51.7% increase in demand. So i'll suggest to decrease the price.<br>\n",
    "### Promo Price Elasticity\n",
    "- Price Elasticity = -1.90 (Negatively Elastic)\n",
    "- Price Is negatively elastic to the demand. 10% increase in price will cause 19.0% decrease in demand.\n",
    "- And 10% decrease in price will cause 19.0% increase in demand. So i'll suggest to decrease the price.\n",
    "\n",
    "## ItemID=\"Id3\"\n",
    "### Regular Price Elasticity\n",
    "- Price Elasticity = -8.77 (Negatively Elastic)\n",
    "- Price Is negatively elastic to the demand. 10% increase in price will cause 87.7% decrease in demand.\n",
    "- And 10% decrease in price will cause 87.7% increase in demand. So i'll suggest to decrease the price.<br>\n",
    "### Promo Price Elasticity\n",
    "- Price Elasticity = -1.96 (Negatively Elastic)\n",
    "- Price Is negatively elastic to the demand. 10% increase in price will cause 19.6% decrease in demand.\n",
    "- And 10% decrease in price will cause 19.6% increase in demand. So i'll suggest to decrease the price.\n",
    "\n",
    "## ItemID=\"Id4\"\n",
    "### Regular Price Elasticity\n",
    "- Price Elasticity = -0.38 (Inelastic)\n",
    "- Price is inelastic to the demand. 10% increase in price will cause 3.8% decrease in demand.\n",
    "- And 10% decrease in price will cause 3.8% increase in demand. So i'll suggest to increase the price.<br>\n",
    "### Promo Price Elasticity\n",
    "- Due to Not enough data points, we could not calculate the price elasticity.\n",
    "\n",
    "## ItemID=\"Id5\"\n",
    "### Regular Price Elasticity\n",
    "- Price Elasticity = 0.95 (Inelastic)\n",
    "- Price is inelastic to the demand. 10% increase in price will cause 9.5% increase in demand.\n",
    "- So i'll suggest to increase the price. However Demand is increaeing with price.<br>\n",
    "### Promo Price Elasticity\n",
    "- Due to Not enough data points, we could not calculate the price elasticity.\n",
    "\n",
    "## ItemID=\"Id6\"\n",
    "### Regular Price Elasticity\n",
    "- Due to Not enough data points, we could not calculate the price elasticity.<br>\n",
    "### Promo Price Elasticity\n",
    "- Price Elasticity = -2.69 (Negatively Elastic)\n",
    "- Price Is negatively elastic to the demand. 10% increase in price will cause 26.9% decrease in demand.\n",
    "- And 10% decrease in price will cause 26.9% increase in demand. So i'll suggest to decrease the price.\n",
    "\n",
    "\n",
    "## ItemID=\"Id7\"\n",
    "### Regular Price Elasticity\n",
    "- Price Elasticity = -5.98 (Negatively Elastic)\n",
    "- Price is inelastic to the demand. 10% increase in price will cause 59.8% decrease in demand.\n",
    "- And 10% decrease in price will cause 59.8% increase in demand. So i'll suggest to decrease the price.<br>\n",
    "### Promo Price Elasticity\n",
    "- Price Elasticity = 2.54 (Positively Elastic)\n",
    "- Price Is negatively elastic to the demand. 10% increase in price will cause 25.4% increase in demand.\n",
    "- So i'll suggest to increase the price.\n",
    "\n",
    "## ItemID=\"Id8\"\n",
    "### Regular Price Elasticity\n",
    "- Price Elasticity = -4.47 (Negatively Elastic)\n",
    "- Price is inelastic to the demand. 10% increase in price will cause 44.7% decrease in demand.\n",
    "- And 10% decrease in price will cause 44.7% increase in demand. So i'll suggest to decrease the price.<br>\n",
    "### Promo Price Elasticity\n",
    "- Price Elasticity = -4.25 (Negatively Elastic)\n",
    "- Price Is negatively elastic to the demand. 10% increase in price will cause 42.5% decrease in demand.\n",
    "- And 10% decrease in price will cause 42.5% increase in demand. So i'll suggest to decrease the price.\n",
    "\n",
    "## ItemID=\"Id9\"\n",
    "### Regular Price Elasticity\n",
    "- Price Elasticity = -3.64 (Negatively Elastic)\n",
    "- Price is inelastic to the demand. 10% increase in price will cause 36.4% decrease in demand.\n",
    "- And 10% decrease in price will cause 36.4% increase in demand. So i'll suggest to decrease the price.<br>\n",
    "### Promo Price Elasticity\n",
    "- Price Elasticity = -2.26 (Negatively Elastic)\n",
    "- Price Is negatively elastic to the demand. 10% increase in price will cause 22.6% decrease in demand.\n",
    "- And 10% decrease in price will cause 22.6% increase in demand. So i'll suggest to decrease the price."
   ]
  },
  {
   "cell_type": "code",
   "execution_count": null,
   "id": "9f17526c-559b-44d9-999b-5a2dc6ad900c",
   "metadata": {},
   "outputs": [],
   "source": []
  }
 ],
 "metadata": {
  "kernelspec": {
   "display_name": "Python 3 (ipykernel)",
   "language": "python",
   "name": "python3"
  },
  "language_info": {
   "codemirror_mode": {
    "name": "ipython",
    "version": 3
   },
   "file_extension": ".py",
   "mimetype": "text/x-python",
   "name": "python",
   "nbconvert_exporter": "python",
   "pygments_lexer": "ipython3",
   "version": "3.10.6"
  }
 },
 "nbformat": 4,
 "nbformat_minor": 5
}
