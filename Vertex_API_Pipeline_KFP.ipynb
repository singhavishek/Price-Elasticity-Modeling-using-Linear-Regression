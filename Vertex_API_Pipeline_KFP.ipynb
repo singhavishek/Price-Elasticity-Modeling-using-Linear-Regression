{
 "cells": [
  {
   "cell_type": "markdown",
   "id": "ac17b2e6-1dad-4921-ad7c-10a774e14597",
   "metadata": {},
   "source": [
    "<center><LARGE><STRONG>Vertex API Pipeline using KFP Components</STRONG></LARGE></center>\n",
    "We will use Google cloud plateform to deploy the pipeline"
   ]
  },
  {
   "cell_type": "markdown",
   "id": "650004f3-3474-49fd-8709-99cb1416ecfd",
   "metadata": {},
   "source": [
    "# Instaling Required Packages"
   ]
  },
  {
   "cell_type": "code",
   "execution_count": null,
   "id": "31efbedb-5999-4857-bf46-b51edc60e184",
   "metadata": {},
   "outputs": [],
   "source": [
    "import os\n",
    "\n",
    "# The Vertex AI Workbench Notebook product has specific requirements\n",
    "IS_WORKBENCH_NOTEBOOK = os.getenv(\"DL_ANACONDA_HOME\") and not os.getenv(\"VIRTUAL_ENV\")\n",
    "IS_USER_MANAGED_WORKBENCH_NOTEBOOK = os.path.exists(\n",
    "    \"/opt/deeplearning/metadata/env_version\"\n",
    ")\n",
    "\n",
    "# Vertex AI Notebook requires dependencies to be installed with '--user'\n",
    "USER_FLAG = \"\"\n",
    "if IS_WORKBENCH_NOTEBOOK:\n",
    "    USER_FLAG = \"--user\"\n",
    "\n",
    "! pip3 install --upgrade google-cloud-aiplatform {USER_FLAG} -q\n",
    "! pip3 install -U google-cloud-storage {USER_FLAG} -q\n",
    "! pip3 install {USER_FLAG} kfp google-cloud-pipeline-components --upgrade -q\n",
    "\n",
    "if os.getenv(\"IS_TESTING\"):\n",
    "    ! pip3 install --upgrade matplotlib $USER_FLAG -q"
   ]
  },
  {
   "cell_type": "markdown",
   "id": "66c24c9a-a39c-4be3-b872-1d7674c7c458",
   "metadata": {},
   "source": [
    "import os\n",
    "\n",
    "if not os.getenv(\"IS_TESTING\"):\n",
    "    # Automatically restart kernel after installs\n",
    "    import IPython\n",
    "    app = IPython.Application.instance()\n",
    "    app.kernel.do_shutdown(True)"
   ]
  },
  {
   "cell_type": "code",
   "execution_count": null,
   "id": "d64d7829-f9c8-4239-b79b-1994d0957f99",
   "metadata": {},
   "outputs": [],
   "source": [
    "! python3 -c \"import kfp; print('KFP SDK version: {}'.format(kfp.__version__))\""
   ]
  },
  {
   "cell_type": "markdown",
   "id": "7d0583b3-02e0-4a17-b3a8-7b15ba30a4fc",
   "metadata": {},
   "source": [
    "# Setup Google Cloud Project"
   ]
  },
  {
   "cell_type": "code",
   "execution_count": null,
   "id": "c08c6f23-356d-4b58-a4ee-4214da65c0fc",
   "metadata": {},
   "outputs": [],
   "source": [
    "PROJECT_ID = \"[project-id]\"  # @param {type:\"string\"}"
   ]
  },
  {
   "cell_type": "code",
   "execution_count": null,
   "id": "c32aacfe-f8aa-4eaf-9939-137cdfd653ad",
   "metadata": {},
   "outputs": [],
   "source": [
    "if PROJECT_ID == \"\" or PROJECT_ID is None or PROJECT_ID == \"[your-project-id]\":\n",
    "    # Get your GCP project id from gcloud\n",
    "    shell_output = ! gcloud config list --format 'value(core.project)' 2>/dev/null\n",
    "    PROJECT_ID = shell_output[0]\n",
    "    print(\"Project ID:\", PROJECT_ID)"
   ]
  },
  {
   "cell_type": "code",
   "execution_count": null,
   "id": "356e2601-9437-448b-a035-0946995d8581",
   "metadata": {},
   "outputs": [],
   "source": [
    "! gcloud config set project $PROJECT_ID"
   ]
  },
  {
   "cell_type": "code",
   "execution_count": null,
   "id": "2b706d4e-758c-4e31-a1b4-26bc7fda9818",
   "metadata": {},
   "outputs": [],
   "source": [
    "REGION = \"[your-region]\"  # @param {type: \"string\"}\n",
    "\n",
    "if REGION == \"[your-region]\":\n",
    "    REGION = \"us-central1\""
   ]
  },
  {
   "cell_type": "code",
   "execution_count": null,
   "id": "6df34348-0d78-44d8-8823-fedab88fcb3c",
   "metadata": {},
   "outputs": [],
   "source": [
    "import random\n",
    "import string\n",
    "\n",
    "\n",
    "# Generate a uuid of a specifed length(default=8)\n",
    "def generate_uuid(length: int = 8) -> str:\n",
    "    return \"\".join(random.choices(string.ascii_lowercase + string.digits, k=length))\n",
    "\n",
    "UUID = generate_uuid()"
   ]
  },
  {
   "cell_type": "markdown",
   "id": "38d5ea50-d450-44f6-964e-ac84cd86053e",
   "metadata": {},
   "source": [
    "## Authenticating Google Account"
   ]
  },
  {
   "cell_type": "code",
   "execution_count": null,
   "id": "c5219441-d702-48eb-aed6-10e13a799e79",
   "metadata": {},
   "outputs": [],
   "source": [
    "# If you are running this notebook in Colab, run this cell and follow the\n",
    "# instructions to authenticate your GCP account. This provides access to your\n",
    "# Cloud Storage bucket and lets you submit training jobs and prediction\n",
    "# requests.\n",
    "\n",
    "import os\n",
    "import sys\n",
    "\n",
    "# If on Vertex AI Workbench, then don't execute this code\n",
    "IS_COLAB = \"google.colab\" in sys.modules\n",
    "if not os.path.exists(\"/opt/deeplearning/metadata/env_version\") and not os.getenv(\n",
    "    \"DL_ANACONDA_HOME\"\n",
    "):\n",
    "    if \"google.colab\" in sys.modules:\n",
    "        from google.colab import auth as google_auth\n",
    "\n",
    "        google_auth.authenticate_user()\n",
    "\n",
    "    # If you are running this notebook locally, replace the string below with the\n",
    "    # path to your service account key and run this cell to authenticate your GCP\n",
    "    # account.\n",
    "    elif not os.getenv(\"IS_TESTING\"):\n",
    "        %env GOOGLE_APPLICATION_CREDENTIALS ''"
   ]
  },
  {
   "cell_type": "markdown",
   "id": "f71a898c-dcde-4bf0-835b-ee9c9d45f937",
   "metadata": {},
   "source": [
    "## Create a Cloud Storage bucket"
   ]
  },
  {
   "cell_type": "code",
   "execution_count": null,
   "id": "dcb9baf6-bc8e-4be9-93ac-0bf0868c26b7",
   "metadata": {},
   "outputs": [],
   "source": [
    "BUCKET_NAME = \"[your-bucket-name]\"  # @param {type:\"string\"}\n",
    "BUCKET_URI = f\"gs://{BUCKET_NAME}\""
   ]
  },
  {
   "cell_type": "code",
   "execution_count": null,
   "id": "89ad72a6-3d20-4dad-a1bc-e56b1a92ae7d",
   "metadata": {},
   "outputs": [],
   "source": [
    "if BUCKET_NAME == \"\" or BUCKET_NAME is None or BUCKET_NAME == \"[your-bucket-name]\":\n",
    "    BUCKET_NAME = PROJECT_ID + \"aip-\" + UUID\n",
    "    BUCKET_URI = \"gs://\" + BUCKET_NAME"
   ]
  },
  {
   "cell_type": "code",
   "execution_count": null,
   "id": "1aeec57f-b929-4e92-bc1d-5f608a2423fe",
   "metadata": {},
   "outputs": [],
   "source": [
    "! gsutil mb -l $REGION $BUCKET_URI"
   ]
  },
  {
   "cell_type": "code",
   "execution_count": null,
   "id": "c09e747f-44ca-449b-bdd5-66a082367a5c",
   "metadata": {},
   "outputs": [],
   "source": [
    "! gsutil ls -al $BUCKET_URI"
   ]
  },
  {
   "cell_type": "markdown",
   "id": "1c75687f-d4b5-4a7c-a204-fd6ee8999b8e",
   "metadata": {},
   "source": [
    "# Stting Up Variables\n",
    "## Importing Libraries"
   ]
  },
  {
   "cell_type": "code",
   "execution_count": null,
   "id": "f831752d-e9bd-4a65-863a-d5ecbdb21b72",
   "metadata": {},
   "outputs": [],
   "source": [
    "import google.cloud.aiplatform as aip\n",
    "from kfp.v2 import dsl\n",
    "from kfp.v2.dsl import ClassificationMetrics, Metrics, Output, component"
   ]
  },
  {
   "cell_type": "markdown",
   "id": "108b1336-4c4a-4cdc-a759-308e5fb62c79",
   "metadata": {},
   "source": [
    "## Vertex AI Pipelines constants"
   ]
  },
  {
   "cell_type": "code",
   "execution_count": null,
   "id": "916a39c5-1d99-4d3d-a3b0-d1ef764840ca",
   "metadata": {},
   "outputs": [],
   "source": [
    "PIPELINE_ROOT = \"{}/pipeline_root/iris\".format(BUCKET_URI)"
   ]
  },
  {
   "cell_type": "markdown",
   "id": "d25561ea-1c8d-40a8-9db1-01f5f9ee2c2a",
   "metadata": {},
   "source": [
    "## Initialize Vertex AI SDK for Python"
   ]
  },
  {
   "cell_type": "code",
   "execution_count": null,
   "id": "2d85d4c4-1a7c-4f35-bbd5-0f4bad3edbe8",
   "metadata": {},
   "outputs": [],
   "source": [
    "aip.init(project=PROJECT_ID, staging_bucket=BUCKET_URI)"
   ]
  },
  {
   "cell_type": "markdown",
   "id": "2453d2c4-83fc-4e91-8d43-0255937c9e61",
   "metadata": {},
   "source": [
    "# Defining Linear Regression pipeline components using Statsmodels"
   ]
  },
  {
   "cell_type": "code",
   "execution_count": null,
   "id": "0bd37602-4954-4d38-9daa-1fee5ae370ce",
   "metadata": {},
   "outputs": [],
   "source": [
    "@component(\n",
    "    packages_to_install=[\"statsmodels\"],\n",
    "    base_image=\"python:3.9\",\n",
    "    output_component_file=\"PriceElasticity.yaml\",\n",
    ")\n",
    "def PriceElsticity(dataframe):\n",
    "    # Importing Libraries\n",
    "    import pandas as pd\n",
    "    import numpy as np\n",
    "    import matplotlib.pyplot as plt\n",
    "    import seaborn as sns\n",
    "    import statsmodels.api as sm\n",
    "    \n",
    "    # Running Linear Regression and computing Price Elasticity\n",
    "    RegularPriceElasticity = []\n",
    "    itemlist = []\n",
    "    for item in list(np.unique(regularDF[\"ItemID\"])):\n",
    "        itemDF = regularDF[regularDF[\"ItemID\"]==item]\n",
    "        x = itemDF[\"Price\"].tolist()\n",
    "        y = itemDF[\"Volume\"].tolist()\n",
    "        x = sm.add_constant(x)\n",
    "        model = sm.OLS(y,x)\n",
    "        modelResult = model.fit()\n",
    "        slope = modelResult.params[1]\n",
    "        pricemean = itemDF[\"Price\"].mean()\n",
    "        volumemean = itemDF[\"Volume\"].mean()\n",
    "        elasticity = slope * (pricemean/volumemean)\n",
    "        itemlist.append(item)\n",
    "        RegularPriceElasticity.append(elasticity)\n",
    "    RElasticityOfDemand = {\"Items\": itemlist, \"Regular Price Elasticity\":RegularPriceElasticity}\n",
    "    RegularElasticityOfDemandDf = pd.DataFrame(RElasticityOfDemand)\n",
    "    # Writing Price Elasticity data to csv file\n",
    "    pd.to_csv(RegularElasticityOfDemandDf)\n",
    "    # Creating Graph for Price Elasticity data\n",
    "    ax = RegularElasticityOfDemandDf.plot(kind=\"barh\", x='Items', y='Regular Price Elasticity', legend=False)\n",
    "    ax.bar_label(ax.containers[0], color=\"red\")\n",
    "    ax.set_xlim(-11,4)\n",
    "    plt.title(\"Regular Price Elasticity\")\n",
    "    plt.xlabel(\"Price Elasticity\")\n",
    "    plt.ylabel(\"Items\")\n",
    "    plt.savefig(\"RPriceElasticity.pdf\")"
   ]
  },
  {
   "cell_type": "markdown",
   "id": "2a56a591-afc9-4570-bdf2-881c31c10d56",
   "metadata": {},
   "source": [
    "# Defining Pipeline"
   ]
  },
  {
   "cell_type": "code",
   "execution_count": null,
   "id": "53a2c46b-82f6-4070-8d10-7a93ce91d777",
   "metadata": {},
   "outputs": [],
   "source": [
    "IPELINE_NAME = \"metrics-pipeline-v2\"\n",
    "\n",
    "\n",
    "@dsl.pipeline(\n",
    "    # Default pipeline root. You can override it when submitting the pipeline.\n",
    "    pipeline_root=PIPELINE_ROOT,\n",
    "    # A name for the pipeline.\n",
    "    name=\"metrics-pipeline-v2\",)\n",
    "def pipeline(seed: int, splits: int):\n",
    "    PriceElasticity_op = PriceElsticity(\"data.csv\")"
   ]
  },
  {
   "cell_type": "markdown",
   "id": "0e73a32a-5239-4b82-89f2-99e15e4a685a",
   "metadata": {},
   "source": [
    "# Compile the pipeline"
   ]
  },
  {
   "cell_type": "code",
   "execution_count": null,
   "id": "a0ca5f86-3c8e-4a8c-8f20-037a49dece96",
   "metadata": {},
   "outputs": [],
   "source": [
    "from kfp.v2 import compiler  # noqa: F811\n",
    "\n",
    "compiler.Compiler().compile(\n",
    "    pipeline_func=pipeline,\n",
    "    package_path=\"PriceElasticity_pipeline.json\".replace(\" \", \"_\"),)"
   ]
  },
  {
   "cell_type": "markdown",
   "id": "bb065b4f-d41b-4a90-88ea-b3befb9bd155",
   "metadata": {},
   "source": [
    "# Run the pipeline"
   ]
  },
  {
   "cell_type": "code",
   "execution_count": null,
   "id": "95cb1cd8-409c-4198-a811-14db7eeac3ae",
   "metadata": {},
   "outputs": [],
   "source": [
    "DISPLAY_NAME = \"PriceElasticity\" + UUID\n",
    "\n",
    "job = aip.PipelineJob(\n",
    "    display_name=DISPLAY_NAME,\n",
    "    template_path=\"PriceElasticity_pipeline.json\".replace(\" \", \"_\"),\n",
    "    job_id=f\"PriceElasticity-v2{UUID}-1\".replace(\" \", \"\"),\n",
    "    pipeline_root=PIPELINE_ROOT,\n",
    "    parameter_values={\"seed\": 7, \"splits\": 10},\n",
    ")\n",
    "\n",
    "job.run()"
   ]
  }
 ],
 "metadata": {
  "kernelspec": {
   "display_name": "Python 3 (ipykernel)",
   "language": "python",
   "name": "python3"
  },
  "language_info": {
   "codemirror_mode": {
    "name": "ipython",
    "version": 3
   },
   "file_extension": ".py",
   "mimetype": "text/x-python",
   "name": "python",
   "nbconvert_exporter": "python",
   "pygments_lexer": "ipython3",
   "version": "3.10.6"
  }
 },
 "nbformat": 4,
 "nbformat_minor": 5
}
